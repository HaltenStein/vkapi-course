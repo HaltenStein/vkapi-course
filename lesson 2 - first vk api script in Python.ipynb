{
 "cells": [
  {
   "cell_type": "markdown",
   "metadata": {},
   "source": [
    "**Автор:** Сергей Шмаков\n",
    "\n",
    "**Обновление этого документа** и не только публикуется на канале в Телеграм - https://telegram.me/smm_python\n",
    "\n",
    "Другие мои площадки:\n",
    "* ВКонтакте - https://vk.com/smmblog\n",
    "* Youtube - https://youtube.com/smmblog\n",
    "* Блог - http://freesmm.ru"
   ]
  },
  {
   "cell_type": "markdown",
   "metadata": {},
   "source": [
    "# Урок 2: Как отправить запрос к ВКонтакте и получить ответ"
   ]
  },
  {
   "cell_type": "markdown",
   "metadata": {},
   "source": [
    "**запустите код ниже**"
   ]
  },
  {
   "cell_type": "code",
   "execution_count": 1,
   "metadata": {
    "collapsed": false
   },
   "outputs": [
    {
     "data": {
      "text/html": [
       "\n",
       "        <iframe\n",
       "            width=\"400\"\n",
       "            height=\"300\"\n",
       "            src=\"https://www.youtube.com/embed/jiRmCOFGD2A\"\n",
       "            frameborder=\"0\"\n",
       "            allowfullscreen\n",
       "        ></iframe>\n",
       "        "
      ],
      "text/plain": [
       "<IPython.lib.display.YouTubeVideo at 0xa2f4b20b8>"
      ]
     },
     "execution_count": 1,
     "metadata": {},
     "output_type": "execute_result"
    }
   ],
   "source": [
    "from IPython.display import YouTubeVideo\n",
    "YouTubeVideo(\"jiRmCOFGD2A\")"
   ]
  },
  {
   "cell_type": "markdown",
   "metadata": {},
   "source": [
    "## Теория\n",
    "Описание в блоге http://freesmm.ru/smm-help/api/vk-2/\n",
    "\n",
    "В примере ниже, мы импортируем пакет **requests**, который уже установлен в дистрибутив Anaconda (https://www.continuum.io/downloads). Requests (http://docs.python-requests.org/en/master/) наиболее часто используемый пакет в Python. \n",
    "\n",
    "Перед тем как запустить код ниже, ознакомьтесь с этими материлами:\n",
    "\n",
    "* Синтаксис — http://pythonworld.ru/osnovy/sintaksis-yazyka-python.html\n",
    "* Переменные и типы данных — https://rtfm.co.ua/python-izuchenie-s-nulya-sintaksis/\n",
    "* Типы данных — http://pythonworld.ru/tipy-dannyx-v-python\n",
    "* Списки — http://pythonworld.ru/tipy-dannyx-v-python/spiski-list-funkcii-i-metody-spiskov.html\n",
    "* Словари — http://pythonworld.ru/tipy-dannyx-v-python/slovari-dict-funkcii-i-metody-slovarej.html\n",
    "* Модули - http://pythonworld.ru/osnovy/rabota-s-modulyami-sozdanie-podklyuchenie-instrukciyami-import-i-from.html\n",
    "\n",
    "## Задача: получить основную информацию о пользователе по ID\n",
    "Для решения этой задачи нам потребуется использоваться метод **https://vk.com/dev/users.get**. Он возвращает расширенную информацию о пользователях. \n",
    "\n",
    "* Если передать только id, то ВК вернёт только основную информацию\n",
    "* Если будет заполнено поле fields, то указывая нужно поле, будет возвращена дополнительная информация\n",
    "\n",
    "К основной инфорамции пользователя ВКонтакте относится:\n",
    "* ID пользователя\n",
    "* Имя\n",
    "* Фамилия\n",
    "\n",
    "**Запустите код ниже**"
   ]
  },
  {
   "cell_type": "code",
   "execution_count": 2,
   "metadata": {
    "collapsed": false
   },
   "outputs": [
    {
     "name": "stdout",
     "output_type": "stream",
     "text": [
      "{'response': [{'first_name': 'Сергей', 'uid': 928041, 'last_name': 'Шмаков'}]}\n"
     ]
    }
   ],
   "source": [
    "import requests\n",
    "r = requests.get('https://api.vk.com/method/users.get',params={'user_ids': 928041})\n",
    "print(r.json())"
   ]
  },
  {
   "cell_type": "markdown",
   "metadata": {},
   "source": [
    "**Усложним задачу**. \n",
    "> Давайте предположим, что нам нужно получить **количество подписчиков** указанного пользователя\n",
    "\n",
    "Чтобы получить расширенную информацию нужно добавить к параметрам **fields** и список полей, которые нужно получить. Полный список полей:\n",
    "<pre>photo_id, verified, sex, bdate, city, country, home_town, has_photo, photo_50, photo_100, photo_200_orig, photo_200, photo_400_orig, photo_max, photo_max_orig, online, lists, domain, has_mobile, contacts, site, education, universities, schools, status, last_seen, followers_count, common_count, occupation, nickname, relatives, relation, personal, connections, exports, wall_comments, activities, interests, music, movies, tv, books, games, about, quotes, can_post, can_see_all_posts, can_see_audio, can_write_private_message, can_send_friend_request, is_favorite, is_hidden_from_feed, timezone, screen_name, maiden_name, crop_photo, is_friend, friend_status, career, military, blacklisted, blacklisted_by_me</pre>\n",
    "\n",
    "Расшифровка полей для объекта user - https://vk.com/dev/fields\n",
    "\n",
    "Количество подписчиков это = **followers_count**\n",
    "\n",
    "**запустите код ниже**"
   ]
  },
  {
   "cell_type": "code",
   "execution_count": 3,
   "metadata": {
    "collapsed": false
   },
   "outputs": [
    {
     "name": "stdout",
     "output_type": "stream",
     "text": [
      "{'response': [{'first_name': 'Сергей', 'followers_count': 3401, 'uid': 928041, 'last_name': 'Шмаков'}]}\n"
     ]
    }
   ],
   "source": [
    "import requests\n",
    "r = requests.get('https://api.vk.com/method/users.get',params={'user_ids':928041,'fields':'followers_count'})\n",
    "print(r.json())"
   ]
  },
  {
   "cell_type": "markdown",
   "metadata": {},
   "source": [
    "Если вам нужно получить определенную расширенную информацию, то поля нужно указывать через \",\""
   ]
  },
  {
   "cell_type": "code",
   "execution_count": 4,
   "metadata": {
    "collapsed": false
   },
   "outputs": [
    {
     "name": "stdout",
     "output_type": "stream",
     "text": [
      "{'response': [{'online': 0, 'followers_count': 3401, 'first_name': 'Сергей', 'last_seen': {'platform': 7, 'time': 1462622812}, 'last_name': 'Шмаков', 'uid': 928041}]}\n"
     ]
    }
   ],
   "source": [
    "import requests\n",
    "r = requests.get('https://api.vk.com/method/users.get',params={'user_ids':928041,\n",
    "                                                               'fields':'followers_count,relation,online,last_seen'})\n",
    "print(r.json())"
   ]
  },
  {
   "cell_type": "markdown",
   "metadata": {},
   "source": [
    "## Домашнее задание к уроку 2\n",
    ">Замените **id** на свой и получите следующую информацию о своём профиле: \n",
    "* пол, \n",
    "* год рождения, \n",
    "* город, \n",
    "* родной город, \n",
    "* количество друзей, \n",
    "* количество подписчиков\n",
    "\n",
    "Для тех кому посложнее\n",
    "\n",
    "> * Получить сумму подписчиков и друзей (забегая вперёд, нужно самостоятельно разобраться как работать с python-словарями http://pythonworld.ru/tipy-dannyx-v-python/slovari-dict-funkcii-i-metody-slovarej.html \n",
    "используйте поле ниже для решения самостоятельных задач\n",
    "\n",
    "Ответы и вопросы по домашке публикуйте здесь - https://vk.com/topic-38369814_33529150"
   ]
  },
  {
   "cell_type": "code",
   "execution_count": null,
   "metadata": {
    "collapsed": true
   },
   "outputs": [],
   "source": []
  },
  {
   "cell_type": "markdown",
   "metadata": {},
   "source": [
    "------\n",
    "Далее: [Урок 3: Как получить информацию о нескольких пользователях (объектах)](/notebooks/lesson%203%20-%20how%20to%20get%20information%20about%20vk%20users%20.ipynb)"
   ]
  }
 ],
 "metadata": {
  "kernelspec": {
   "display_name": "Python 3",
   "language": "python",
   "name": "python3"
  },
  "language_info": {
   "codemirror_mode": {
    "name": "ipython",
    "version": 3
   },
   "file_extension": ".py",
   "mimetype": "text/x-python",
   "name": "python",
   "nbconvert_exporter": "python",
   "pygments_lexer": "ipython3",
   "version": "3.5.2"
  }
 },
 "nbformat": 4,
 "nbformat_minor": 0
}

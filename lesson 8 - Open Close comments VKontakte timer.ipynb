{
 "cells": [
  {
   "cell_type": "markdown",
   "metadata": {},
   "source": [
    "**Автор:** Сергей Шмаков\n",
    "\n",
    "**Обновление этого документа** и не только публикуется на канале в Телеграм - https://telegram.me/smm_python\n",
    "\n",
    "Другие мои площадки:\n",
    "* ВКонтакте: https://vk.com/smmblog\n",
    "* Youtube: https://youtube.com/smmblog\n",
    "* Блог: http://freesmm.ru\n",
    "\n",
    "> Этот урок выпущен при поддержке сервиса отложенных публикаций https://SMMplanner.com"
   ]
  },
  {
   "cell_type": "markdown",
   "metadata": {},
   "source": [
    "# Урок 8: Как открыть\\закрыть стену ВКонтакте по таймеру"
   ]
  },
  {
   "cell_type": "markdown",
   "metadata": {},
   "source": [
    "\n",
    "\n",
    ">**Что нового вы узнаете из этого урока**: \n",
    "1. Как можно работать с ВК если нет методов в API\n",
    "2. Python: условия if...else и функции\n",
    "\n"
   ]
  },
  {
   "cell_type": "markdown",
   "metadata": {},
   "source": [
    "Давайте представим вполне реальную задачу\\проблему\n",
    "\n",
    ">У вас есть сообщество. Модератор, который отвечает за то, чтобы в сообществе не было спама\\комментариев не по теме работает в лучшем случае с 10:00 до 18:00 - 19:00 при нормированном рабочем дне. Получается, что спамеры могут развлекаться в вашем сообществе с 19:00 до 10:00. В это же время естественно могут заходить и допропорядочные пользователи, которые будут видеть, что группа находится в плачевном состоянии, так как в ней резвятся спамеры.\n",
    "\n",
    "## Что делать? \n",
    "\n",
    "Конечно, после того как ВК выкатили callback-api мониторить все действия в группе стало в разы проще, но в любом случае, это не решит проблему, что некоторые пользователей нужно удалять и банить их.\n",
    "\n",
    "Чтобы пользователи-спамеры ничего не могли написать на стене сообщества нужно вообще убрать такую возможность. Конечно же только на период пока модератор сообщества отсутствует.\n",
    "\n",
    "**Плюсы**:\n",
    "\n",
    "* спамеры не смогут ничего написать на стене\n",
    "\n",
    "**Минусы**:\n",
    "\n",
    "* нормальный пользователь тоже не сможет ничего"
   ]
  },
  {
   "cell_type": "markdown",
   "metadata": {},
   "source": [
    "## Как это делается в интерфейсе ВКонтакте\n",
    "\n",
    "1. Переходим в управление сообществом\n",
    "![alt](https://api.monosnap.com/rpc/file/download?id=dKf7D8Cz0i0KFDkLq7nbC9htbTHDqe)<br>\n",
    "\n",
    "2. Для паблика ищем \"Обратная связь\" убираем галочку если комментарии хотим отключить на стене\n",
    "![alt](https://api.monosnap.com/rpc/file/download?id=jeVxvWy8nIziW4IxsHV3HGDraEJ1Uw)<br> \n",
    "\n",
    "3. Для группы ищем \"Стена\" и включаем \"Закрытая\"\n",
    "![alt](https://api.monosnap.com/rpc/file/download?id=zmCWdcczdo0ZlTYeIn2dhCVjMYOlD7)<br> \n"
   ]
  },
  {
   "cell_type": "markdown",
   "metadata": {},
   "source": [
    "После таких манипуляция пользователь сможет лишь \"Ответить\", то есть опубликовать на своей странице упоминание сообщества со своим комментарием\n",
    "![alt](https://api.monosnap.com/rpc/file/download?id=SJMvw2SHImI2rZeCDdnXOkkwJHxIWc)<br>\n"
   ]
  },
  {
   "cell_type": "markdown",
   "metadata": {},
   "source": [
    "## Пишем код\n",
    "\n",
    "Так как мы уже научились более менее к 8 уроку работать с API, то по логике мы полезем искать метода открытия\\закрытия стены в документацию. После долгих поисков вы обнаружите, что такого метода нет.\n",
    "\n",
    "Но работа с ВКонтакте может осуществляться и не через API. \n",
    "\n",
    "Однажды мне попался какой-то видео урок или статья, в которой объясняли как работать с cURL\n",
    "> Теория: https://ru.wikipedia.org/wiki/CURL\n",
    "\n",
    "С помощью этой штуки, мы можем отправить определённый запрос ВКонтакте, который будет содержать определённые параметры, которые приведут к желаемому результату – открыть/закрыть стену.\n",
    "![alt](https://api.monosnap.com/rpc/file/download?id=13b5qGP7MSrqyNWRI2wKmJOUVwCcnn)<br>\n"
   ]
  },
  {
   "cell_type": "markdown",
   "metadata": {},
   "source": [
    "Наша задача - узнать этот самый cURL, который нужно отправить с помощью пакета requests\n",
    "\n",
    "## Как узнать cURL\n",
    "\n",
    "1. Заходим на страницу управления сообществом - https://vk.com/public38369814?act=edit\n",
    "\n",
    "2. Включаем режим разработчика в браузере (Google Chrome) - ctrl+shift+I или правая кнопка мыши \"показать код элемента\"\n",
    "\n",
    "3. после этого у вас отобразится дополнительные возможности. Вам нужно преключиться на вкладку \"Network\"\n",
    "![alt](https://api.monosnap.com/rpc/file/download?id=ZeOm1iS9zF632i93KVoxvmqzcF2pLT)<br>\n",
    "![alt](https://api.monosnap.com/rpc/file/download?id=uMo0fzq8G4hx0i1wvHScoy4dSAR2lM)<br>\n",
    "\n",
    "4. После очистки нажмите \"Сохранить\" с выставленными параметрами\n",
    "![alt](https://api.monosnap.com/rpc/file/download?id=AJs1RRWWXOFnMQkhaQzJGxvl9C2iJ5)<br>\n",
    "\n",
    "5. После этого нужно найти нужный запрос, который называется **al_groups.php**\n",
    "![alt](https://api.monosnap.com/rpc/file/download?id=GG3zVnn5gA5ie9rDgO4wSgQeSR7tYU)<br>\n",
    "\n",
    "6. Нажимаем на него правой кнопкой мыши и выбираем \"Copy as cURL (cmd)\n",
    "![alt](https://api.monosnap.com/rpc/file/download?id=NUpEQY70dYf05kzcM7xndzBK0Qb0jO)<br>\n",
    "\n",
    "7. Дальше идём на сервис http://curl.trillworks.com/ и вставляем то, что скопировали в правую форму, выбираем Python и нажимаем Convert\n",
    "![alt](https://api.monosnap.com/rpc/file/download?id=DELLCaO5rWh0dWS7V8dP0ubMZac7eY)<br>\n",
    "\n",
    "8. То, что находится в правой колонки мы будем вставлять в код\n",
    "\n",
    "Ниже вставлен слегка отформатированный код, чтобы пояснить что за что отвечает. "
   ]
  },
  {
   "cell_type": "code",
   "execution_count": null,
   "metadata": {
    "collapsed": false,
    "scrolled": true
   },
   "outputs": [],
   "source": [
    "headers = {\n",
    "    'origin': 'https://vk.com',\n",
    "    'accept-encoding': 'gzip, deflate',\n",
    "    'x-requested-with': 'XMLHttpRequest',\n",
    "    'accept-language': 'ru-RU,ru;q=0.8,en-US;q=0.6,en;q=0.4',\n",
    "    'user-agent': 'Mozilla/5.0 (Windows NT 6.3; WOW64) AppleWebKit/537.36 (KHTML, like Gecko) Chrome/50.0.2661.102 Safari/537.36',\n",
    "    'content-type': 'application/x-www-form-urlencoded',\n",
    "    'accept': '*/*',\n",
    "    'referer': 'https://vk.com/kak_v_kontakte?act=edit',\n",
    "    'cookie': 'remixlang=0; remixstid=1935395_2141c54e8bd0e08; remixdt=0; _ym_uid=145848867105015; remixmdevic6/768/1/!!-!!!!; remixtst=26995b0c; audio_vol=22; remixsid=295534328bdba97c1ab4e123a67dabb52467fe3cc9b4a2bb0d596; remixsslsid=1; remixrefkey=a750c09e214fb16d3b; _ym_isad=2; remixseenads=-1; remixflash=21.0.0; remixscreen_depth=24',\n",
    "}\n",
    "\n",
    "#я немного отформатировал data для читабельности\n",
    "data = '''access=0&act=save&addr=kak_v_kontakte&ads_section=groups&ads_showed=5_f1bc9a55%2C5_02695271%2C5_d5384601&al=1&al_ad=1&\n",
    "audio=0&description=Здесь описание группы&\n",
    "docs=1& - документы включены - открытые\n",
    "gid=42654803& - id паблика\n",
    "hash=ed698c96804d41271d& - какой-то непонятный хеш\n",
    "market=0& - товары выключены\n",
    "messages=0& - сообщения сообщества выключены\n",
    "name=Имя паблика - здесь будут символы вместо названия, поэтому не пугайтесь.\n",
    "&obscene_filter=& - фильтр по мату не включён\n",
    "obscene_stopwords=& - фильтр по ключевым слова не включён\n",
    "photos=1& - фотографии открытые\n",
    "rss=& - трансляция во вне не ведётся\n",
    "subject=8 - не знаю тчо это\n",
    "&topics=1& - обсуждения включены\n",
    "video=1& - видео доступны для всех\n",
    "wall=1& - стена открытая !!! <<<<<<< это то что нужно нам\n",
    "website=http%3A%2F%2Fforum.freesmm.ru%2F& - поле веб-сайт\n",
    "wiki=2' - материалы ограничены\n",
    "'''\n",
    "requests.post('https://vk.com/al_groups.php', headers=headers, data=data)"
   ]
  },
  {
   "cell_type": "markdown",
   "metadata": {
    "collapsed": true
   },
   "source": [
    "Если отправить wall=0, то стена закроется. Давайте проверим."
   ]
  },
  {
   "cell_type": "code",
   "execution_count": 10,
   "metadata": {
    "collapsed": false
   },
   "outputs": [
    {
     "data": {
      "text/plain": [
       "<Response [200]>"
      ]
     },
     "execution_count": 10,
     "metadata": {},
     "output_type": "execute_result"
    }
   ],
   "source": [
    "import requests\n",
    "\n",
    "headers = {\n",
    "    'origin': 'https://vk.com',\n",
    "    'accept-encoding': 'gzip, deflate',\n",
    "    'x-requested-with': 'XMLHttpRequest',\n",
    "    'accept-language': 'ru-RU,ru;q=0.8,en-US;q=0.6,en;q=0.4',\n",
    "    'user-agent': 'Mozilla/5.0 (Windows NT 6.3; WOW64) AppleWebKit/537.36 (KHTML, like Gecko) Chrome/50.0.2661.102 Safari/537.36',\n",
    "    'content-type': 'application/x-www-form-urlencoded',\n",
    "    'accept': '*/*',\n",
    "    'referer': 'https://vk.com/kak_v_kontakte?act=edit',\n",
    "    'cookie': 'remixlang=0; remixstid=1935265395_2141c54e816fbd0e08; remixdt=0; _ym_uid=1458867105015; remixmdevice=1366//1/!!-!!!!; remixtst=2995b0c; audio_vol=22; remixsid=295534328bdba97c1ab4e123a67dabb52467fe3cc9b4a2bb0d596; remixsslsid=1; remixrefkey=a750c09e214fb16d3b; _ym_isad=2; remixseenads=-1; remixflash=21.0.0; remixscreen_depth=24',\n",
    "}\n",
    "\n",
    "data = 'access=0&act=save&addr=kak_v_kontakte&al=1&audio=0&description=%D0%BE%D0%BF%D0%B8%D1%81%D0%B0%D0%BD%D0%B8%D0%B5%20%D1%81%D0%BE%D0%BE%D0%B1%D1%89%D0%B5%D1%81%D1%82%D0%B2%D0%B0&docs=1&gid=42654803&hash=ed698c96804d41271d&market=0&messages=0&name=%D0%9A%D0%B0%D0%BA%20%D0%B2%20%D0%9A%D0%BE%D0%BD%D1%82%D0%B0%D0%BA%D1%82%D0%B5&obscene_filter=&obscene_stopwords=&photos=1&rss=&subject=8&topics=1&video=1&wall=1&website=http%3A%2F%2Fforum.freesmm.ru%2F&wiki=2'\n",
    "\n",
    "requests.post('https://vk.com/al_groups.php', headers=headers, data=data)"
   ]
  },
  {
   "cell_type": "markdown",
   "metadata": {},
   "source": [
    "Таким образом меня значения у **wall** с \"0\" на \"1\" и наоборот вы закрываете или открываете стену для комментариев.\n",
    "\n",
    "Теперь осталось написать таймер, который бы включал или выключал стену.\n",
    "\n",
    ">**Теория**<br><br>\n",
    "Для этого нам потребуется модуль datetime - http://pythonworld.ru/moduli/modul-datetime.html\n",
    "Дополнительно, чтобы подставлять 0 или 1 в строке будем использоваться метод format = http://pythonworld.ru/osnovy/formatirovanie-strok-metod-format.html"
   ]
  },
  {
   "cell_type": "code",
   "execution_count": 43,
   "metadata": {
    "collapsed": false
   },
   "outputs": [
    {
     "data": {
      "text/plain": [
       "datetime.time(18, 20)"
      ]
     },
     "execution_count": 43,
     "metadata": {},
     "output_type": "execute_result"
    }
   ],
   "source": [
    "from datetime import datetime, date, time\n",
    "\n",
    "on_time = time(18,20) #время в которое стену нужно включить  wall = 1\n",
    "off_time = time(18,25) #время, в которое стену нужно выключить wall = 0\n",
    "\n",
    "\n",
    "a = datetime.today() #присваиваем меремейнно текущую дату и время\n",
    "datetime.time(a) #вывод только времени"
   ]
  },
  {
   "cell_type": "markdown",
   "metadata": {},
   "source": [
    "Нам нужно написать условие, которое будет проверять какое сейчас время и сравнивать его с \"временем когда нужно включить стену\", \"когда стену выключить\" и когда не надо ничего делать\n",
    "\n",
    "Я использовал функцию, для упрощению, которая в зависимости от передаваемого параметра в скобках будет открывать или закрывать стену.\n",
    "\n",
    ">**Теория**<br>\n",
    "http://pythonworld.ru/tipy-dannyx-v-python/vse-o-funkciyax-i-ix-argumentax.html"
   ]
  },
  {
   "cell_type": "code",
   "execution_count": 16,
   "metadata": {
    "collapsed": true
   },
   "outputs": [],
   "source": [
    "import requests\n",
    "\n",
    "def change_wall(wall):\n",
    "    headers = {\n",
    "        'origin': 'https://vk.com',\n",
    "        'accept-encoding': 'gzip, deflate',\n",
    "        'x-requested-with': 'XMLHttpRequest',\n",
    "        'accept-language': 'ru-RU,ru;q=0.8,en-US;q=0.6,en;q=0.4',\n",
    "        'user-agent': 'Mozilla/5.0 (Windows NT 6.3; WOW64) AppleWebKit/537.36 (KHTML, like Gecko) Chrome/50.0.2661.102 Safari/537.36',\n",
    "        'content-type': 'application/x-www-form-urlencoded',\n",
    "        'accept': '*/*',\n",
    "        'referer': 'https://vk.com/kak_v_kontakte?act=edit',\n",
    "        'cookie': 'remixlang=0; remixstid=19352395_211c54e8d16fbd0e08; remixdt=0; _ym_uid=14584867105015; remixmdevice=137d68/1/!!-!!!!; remixtst=26995b0c; audio_vol=22; remixsid=295534328bdba97c1ab4e123a67dabb52467fe3cc9b4a2bb0d596; remixsslsid=1; remixrefkey=a750c09e214fb16d3b; _ym_isad=2; remixseenads=-1; remixflash=21.0.0; remixscreen_depth=24',\n",
    "    }\n",
    "\n",
    "    data = 'access=0&act=save&addr=kak_v_kontakte&al=1&audio=0&description=%D0%BE%D0%BF%D0%B8%D1%81%D0%B0%D0%BD%D0%B8%D0%B5%20%D1%81%D0%BE%D0%BE%D0%B1%D1%89%D0%B5%D1%81%D1%82%D0%B2%D0%B0&docs=1&gid=42654803&hash=ed698c96804d41271d&market=0&messages=0&name=%D0%9A%D0%B0%D0%BA%20%D0%B2%20%D0%9A%D0%BE%D0%BD%D1%82%D0%B0%D0%BA%D1%82%D0%B5&obscene_filter=&obscene_stopwords=&photos=1&rss=&subject=8&topics=1&video=1&wall={0}&website=http%3A%2F%2Fforum.freesmm.ru%2F&wiki=2'.format(wall) #wall={0} в этом месте будет подстановка либо 1, либо 0.\n",
    "    \n",
    "    requests.post('https://vk.com/al_groups.php', headers=headers, data=data)"
   ]
  },
  {
   "cell_type": "markdown",
   "metadata": {},
   "source": [
    "Теперь, чтобы открыть или закрыть достаточно запустить\n",
    "\n",
    "```python\n",
    "change_wall(0) #или change_wall(1)\n",
    "```"
   ]
  },
  {
   "cell_type": "code",
   "execution_count": 19,
   "metadata": {
    "collapsed": false
   },
   "outputs": [],
   "source": [
    "change_wall(0) #попробуйте поставить вместо 0 - 1."
   ]
  },
  {
   "cell_type": "markdown",
   "metadata": {},
   "source": [
    "Теперь заёмёмся условием, которое будет проверять - открыть или закрыть стену."
   ]
  },
  {
   "cell_type": "code",
   "execution_count": 22,
   "metadata": {
    "collapsed": true
   },
   "outputs": [],
   "source": [
    "#импортируем необходимые для работы пакеты\n",
    "\n",
    "import requests\n",
    "from datetime import datetime, date, time\n",
    "import time as t"
   ]
  },
  {
   "cell_type": "code",
   "execution_count": 19,
   "metadata": {
    "collapsed": false
   },
   "outputs": [],
   "source": [
    "# здесь мы задаём время когда нужно включить или выключить возможность комментарования на стене\n",
    "on_time = time(10) #время в которое стену нужно включить  wall = 1\n",
    "off_time = time(19) #время, в которое стену нужно выключить wall = 3"
   ]
  },
  {
   "cell_type": "markdown",
   "metadata": {},
   "source": [
    "Ниже у нас цикл, который будет выполняться всегда.\n",
    "\n",
    "Обратите внимание на if...else - это условие \"Если...То\". Если читать дословно:\n",
    "* если текущее время (**time_now**) находится между временем включения (**on_time**) и временем выключения (**off_time**), то использоваться фунцию для включения комментариев на стене **change_wall(1)**\n",
    "* в любых других случаях стену закрыть. **else**"
   ]
  },
  {
   "cell_type": "code",
   "execution_count": null,
   "metadata": {
    "collapsed": false
   },
   "outputs": [],
   "source": [
    "while True:\n",
    "    time_now = datetime.today() #присваиваем меремейнно текущую дату и время\n",
    "    datetime.time(time_now)\n",
    "    if  on_time <= datetime.time(time_now) <= off_time: #период, когда должна быть стена открыта\n",
    "        change_wall(1)\n",
    "        print('Включил стену',datetime.time(time_now))\n",
    "    else: #любой другой период\n",
    "        change_wall(3)\n",
    "        print('Выключил стену',datetime.time(time_now))\n",
    "    print('уснули на 30 сек')\n",
    "    t.sleep(30) "
   ]
  },
  {
   "cell_type": "markdown",
   "metadata": {},
   "source": [
    "Ниже код, если бы он был в одном блоке"
   ]
  },
  {
   "cell_type": "code",
   "execution_count": null,
   "metadata": {
    "collapsed": true
   },
   "outputs": [],
   "source": [
    "import requests\n",
    "from datetime import datetime, date, time\n",
    "import time as t\n",
    "\n",
    "def change_wall(wall):\n",
    "    headers = {\n",
    "        'origin': 'https://vk.com',\n",
    "        'accept-encoding': 'gzip, deflate',\n",
    "        'x-requested-with': 'XMLHttpRequest',\n",
    "        'accept-language': 'ru-RU,ru;q=0.8,en-US;q=0.6,en;q=0.4',\n",
    "        'user-agent': 'Mozilla/5.0 (Windows NT 6.3; WOW64) AppleWebKit/537.36 (KHTML, like Gecko) Chrome/50.0.2661.102 Safari/537.36',\n",
    "        'content-type': 'application/x-www-form-urlencoded',\n",
    "        'accept': '*/*',\n",
    "        'referer': 'https://vk.com/kak_v_kontakte?act=edit',\n",
    "        'cookie': 'remixlang=0; remixstid=193526sd54e816fbd0e08; remixdt=0; _ym_uid=145867dd015; remixmdevice=13/768!-!!!!; remixtst=26b0c; audio_vol=22; remixsid=295534328bdba97c1ab4e123a67dabb52467fe3cc9b4a2bb0d596; remixsslsid=1; remixrefkey=a750c09e214fb16d3b; _ym_isad=2; remixseenads=-1; remixflash=21.0.0; remixscreen_depth=24',\n",
    "    }\n",
    "\n",
    "    data = 'access=0&act=save&addr=kak_v_kontakte&al=1&audio=0&description=%D0%BE%D0%BF%D0%B8%D1%81%D0%B0%D0%BD%D0%B8%D0%B5%20%D1%81%D0%BE%D0%BE%D0%B1%D1%89%D0%B5%D1%81%D1%82%D0%B2%D0%B0&docs=1&gid=42654803&hash=ed698c96804d41271d&market=0&messages=0&name=%D0%9A%D0%B0%D0%BA%20%D0%B2%20%D0%9A%D0%BE%D0%BD%D1%82%D0%B0%D0%BA%D1%82%D0%B5&obscene_filter=&obscene_stopwords=&photos=1&rss=&subject=8&topics=1&video=1&wall={0}&website=http%3A%2F%2Fforum.freesmm.ru%2F&wiki=2'.format(wall) #wall={0} в этом месте будет подстановка либо 1, либо 0.\n",
    "    \n",
    "    requests.post('https://vk.com/al_groups.php', headers=headers, data=data)\n",
    "\n",
    "on_time = time(10) #время в которое стену нужно включить  wall = 1\n",
    "off_time = time(19) #время, в которое стену нужно выключить wall = 0\n",
    "\n",
    "while True:\n",
    "    time_now = datetime.today() #присваиваем меремейнно текущую дату и время\n",
    "    datetime.time(time_now)\n",
    "    if  on_time <= datetime.time(time_now) <= off_time: #период, когда должна быть стена открыта\n",
    "        change_wall(1)\n",
    "        print('Включил стену',datetime.time(time_now))\n",
    "    else: #любой другой период\n",
    "        change_wall(3)\n",
    "        print('Выключил стену',datetime.time(time_now))\n",
    "    print('уснули на 30 сек')\n",
    "    t.sleep(600)"
   ]
  },
  {
   "cell_type": "markdown",
   "metadata": {},
   "source": [
    "## Домашнее задание\n",
    "1. Повторить тоже самое для своей группы\n",
    "2. Попробуйте для публичной страницы или встречи\n",
    "\n",
    "Ответы и вопросы по домашке публикуйте здесь - https://vk.com/topic-38369814_33529150\n",
    "\n",
    "**используйте поле ниже для решения самостоятельных задач**"
   ]
  },
  {
   "cell_type": "code",
   "execution_count": null,
   "metadata": {
    "collapsed": true
   },
   "outputs": [],
   "source": []
  },
  {
   "cell_type": "markdown",
   "metadata": {
    "collapsed": true
   },
   "source": [
    "-----\n",
    "\n",
    "Далее: [Урок 9: как собрать активную аудиторию из группы\\профиля ВК](/notebooks/lesson-9.ipynb)"
   ]
  }
 ],
 "metadata": {
  "kernelspec": {
   "display_name": "Python 3",
   "language": "python",
   "name": "python3"
  },
  "language_info": {
   "codemirror_mode": {
    "name": "ipython",
    "version": 3
   },
   "file_extension": ".py",
   "mimetype": "text/x-python",
   "name": "python",
   "nbconvert_exporter": "python",
   "pygments_lexer": "ipython3",
   "version": "3.5.2"
  }
 },
 "nbformat": 4,
 "nbformat_minor": 0
}

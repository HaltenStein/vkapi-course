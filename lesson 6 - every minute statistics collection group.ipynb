{
 "cells": [
  {
   "cell_type": "markdown",
   "metadata": {},
   "source": [
    "**Автор:** Сергей Шмаков\n",
    "\n",
    "**Обновление этого документа** и не только публикуется на канале в Телеграм - https://telegram.me/smm_python\n",
    "\n",
    "Другие мои площадки:\n",
    "* ВКонтакте - https://vk.com/smmblog\n",
    "* Youtube - https://youtube.com/smmblog\n",
    "* Блог - http://freesmm.ru"
   ]
  },
  {
   "cell_type": "markdown",
   "metadata": {},
   "source": [
    "# Урок 6: Ежеминутный сбор статистики группы ВКонтакте\n",
    "\n",
    "**запустите код ниже**"
   ]
  },
  {
   "cell_type": "code",
   "execution_count": 1,
   "metadata": {
    "collapsed": false
   },
   "outputs": [
    {
     "data": {
      "text/html": [
       "\n",
       "        <iframe\n",
       "            width=\"400\"\n",
       "            height=\"300\"\n",
       "            src=\"https://www.youtube.com/embed/JJHtltJPAt0\"\n",
       "            frameborder=\"0\"\n",
       "            allowfullscreen\n",
       "        ></iframe>\n",
       "        "
      ],
      "text/plain": [
       "<IPython.lib.display.YouTubeVideo at 0x2f5bd83198>"
      ]
     },
     "execution_count": 1,
     "metadata": {},
     "output_type": "execute_result"
    }
   ],
   "source": [
    "from IPython.display import YouTubeVideo\n",
    "YouTubeVideo(\"JJHtltJPAt0\")"
   ]
  },
  {
   "cell_type": "markdown",
   "metadata": {},
   "source": [
    "![alt](https://api.monosnap.com/rpc/file/download?id=GgagLQHMLSvNy9XhhEwW9ovhq5rcXm)\n",
    "\n",
    "Для этого нам потребуется найти метод, отвечающий за статистику:\n",
    "* https://vk.com/dev/stats.get\n",
    "\n",
    "Обратите внимание на эту информацию\n",
    "![alt](https://api.monosnap.com/rpc/file/download?id=s1hLC7jVmtSetkK1lvve6bUDdJ25LI)\n",
    "\n",
    "Для работы с некоторыми методам ВКонтакте необходимо передавать дополнительный параметр **token** . Вот что об этом написано ВКонтакте:\n",
    "* https://vk.com/dev/authentication\n",
    "* https://vk.com/dev/auth_mobile\n",
    "\n",
    "Так как Token можно получить только через приложение, то нам это приложение нужно будет создать."
   ]
  },
  {
   "cell_type": "markdown",
   "metadata": {},
   "source": [
    "## Как создать Standalone приложение ВКонтакте\n",
    "\n",
    "Пошаговая инструкция создания приложения и получения токена\n",
    "\n",
    "1. Нужно перейти в раздел создания приложений https://vk.com/apps?act=manage . Нажать создать приложение или сразу перейти по ссылке https://vk.com/editapp?act=create\n",
    "![alt](https://api.monosnap.com/rpc/file/download?id=YXKHu26mPNrinNzbpZvP2JL56S8XF2)<br>\n",
    "\n",
    "2. Выбираем Standalone и нажимаем **подключить приложение**\n",
    "![alt](https://api.monosnap.com/rpc/file/download?id=bEKU72XrGtV3RE9btFI99WaKVoTbSn)<br>\n",
    "\n",
    "3. После нажатия по кнопке **\"Подключить приложение\"** в появившемся окне необходимо подтвердить права на приложение. Для этого есть 2 способа: через приложение ВК (недавно ввели) или через СМС (существует давно). Выбираем \"Получить код через СМС\"\n",
    "![alt](https://api.monosnap.com/rpc/file/download?id=v5Ir97uB3CYASyH8Dc13sQ6s3m7ZWl)<br>\n",
    "\n",
    "4. Нажимаем \"Получить код\"\n",
    "![alt](https://api.monosnap.com/rpc/file/download?id=cwTtSWktZz8snepoPB4CMT92I4he9S)<br>\n",
    "\n",
    "5. Вводим полученный код из СМС и нажимаем **\"Отправить код\"**\n",
    "![alt](https://api.monosnap.com/rpc/file/download?id=EDh28bt7U8P93uSp6bTCkURTB6OHxW)<br>\n",
    "\n",
    "6. Если код введён правильно, то вас перебросит на страницу вашего приложения\n",
    "![alt](https://api.monosnap.com/rpc/file/download?id=vZYOFEOSpIXH2HU3UrChYjf0SWACyt)<br>\n",
    "\n",
    "7. Нужно перейти в раздел \"Настройки\" и включить \"Open API\"\n",
    "![alt](https://api.monosnap.com/rpc/file/download?id=22amuyZaXj5D0EONmMQra8jFAEJP3a)<br>\n",
    "\n",
    "8. Добавить в данные поля для: **Адрес сайта**: http://localhost ; **Базовый домен:** localhost\n",
    "![alt](https://api.monosnap.com/rpc/file/download?id=MzHeU0nfw3hgq4OzVQAfvG2M8pqXWm)<br>\n",
    "\n",
    "9. На этом настройка нашего приложения завершается. Переходим к получению необходимых прав\n",
    "\n",
    "\n",
    "\n",
    "\n",
    "\n",
    "\n"
   ]
  },
  {
   "cell_type": "markdown",
   "metadata": {},
   "source": [
    "## Как получить права доступа приложения\n",
    "\n",
    "1. Со списком всех прав доступа можно ознакомиться здесь - https://vk.com/dev/permissions\n",
    "\n",
    "2. Для простановки лайков от имени пользователя нужны права доступа на **wall**\n",
    "![alt](https://api.monosnap.com/rpc/file/download?id=GTdoUWdtnB7PSyHDgcH49B1GbeXSoI)<br>\n",
    "\n",
    "3. Для того, чтобы предоставить права приложению на доступ нам необходимо установить приложение пользователю, под которым мы сейчас авторизованы ВКонтакте. Для этого нам потребуется сформрировать URL-адрес . Выглядит он следующим образом<br> https://oauth.vk.com/authorize?client_id=5453402&display=page&redirect_uri=http://localhost&scope=wall,offline&response_type=token&v=5.50 ,<br><br>\n",
    "Где \n",
    "**client_id=5453402** - это ID нашего standalone-приложения . Подставляйте свой ID приложения и работайте.\n",
    "**scope=wall,offline** - права, которые нам необходимы<br><br>\n",
    "\n",
    "4. Если вы сделали всё правильно, то у вас появится окно запроса от ВКонтакте с перечислением тех прав, которые вы запросили. Нажимаем **\"Разрешить\"**\n",
    "![alt](https://api.monosnap.com/rpc/file/download?id=Q1IsTUfzt4rPsaaIuXyAPYckqp6ms0)<br>\n",
    "\n",
    "5. Не пугайтесь \"Белого окна\". Это как раз то, что нам нужно. Скопируйте из адресной строки значение после **access_token=** до символа **&**\n",
    "![alt](https://api.monosnap.com/rpc/file/download?id=kJD6JNnsMvtCfGbEHx7mTeFaBWwae5)<br>\n",
    "\n",
    "6. Это и есть Token, который нам нужен. Сохраните его.\n"
   ]
  },
  {
   "cell_type": "code",
   "execution_count": 60,
   "metadata": {
    "collapsed": true
   },
   "outputs": [],
   "source": [
    "Token = 'f10e68bfc2deb65ae672s63eb7832f89bdс239d80a8ef24e3923a7219c7f16ee61ea4409abff74bde41ab08252' #Подставьте сюда свой токен"
   ]
  },
  {
   "cell_type": "markdown",
   "metadata": {},
   "source": [
    "# Ежеменутный сбор статистики из сообщества\n",
    "\n",
    "Работать мы будем с методом https://vk.com/dev/stats.get\n",
    "\n",
    "Давайте для начала получим данные из своего сообщества за сегодня\n",
    "\n",
    "Запрос на получение прав на статистику будет выглядеть так - https://oauth.vk.com/authorize?client_id=5453402&display=page&redirect_uri=http://localhost&scope=stats,offline&response_type=token&v=5.52\n",
    "\n",
    "**запустите код видео ниже**"
   ]
  },
  {
   "cell_type": "code",
   "execution_count": 81,
   "metadata": {
    "collapsed": false
   },
   "outputs": [
    {
     "data": {
      "text/html": [
       "\n",
       "        <iframe\n",
       "            width=\"400\"\n",
       "            height=\"300\"\n",
       "            src=\"https://www.youtube.com/embed/LTIEaeX2IcA\"\n",
       "            frameborder=\"0\"\n",
       "            allowfullscreen\n",
       "        ></iframe>\n",
       "        "
      ],
      "text/plain": [
       "<IPython.lib.display.YouTubeVideo at 0x2ec88d630>"
      ]
     },
     "execution_count": 81,
     "metadata": {},
     "output_type": "execute_result"
    }
   ],
   "source": [
    "from IPython.display import YouTubeVideo\n",
    "YouTubeVideo(\"LTIEaeX2IcA\")"
   ]
  },
  {
   "cell_type": "code",
   "execution_count": 71,
   "metadata": {
    "collapsed": false
   },
   "outputs": [
    {
     "data": {
      "text/plain": [
       "{'response': [{'age': [{'value': '12-18', 'visitors': 7},\n",
       "    {'value': '18-21', 'visitors': 12},\n",
       "    {'value': '21-24', 'visitors': 13},\n",
       "    {'value': '24-27', 'visitors': 16},\n",
       "    {'value': '27-30', 'visitors': 18},\n",
       "    {'value': '30-35', 'visitors': 9},\n",
       "    {'value': '35-45', 'visitors': 10},\n",
       "    {'value': '45-100', 'visitors': 5}],\n",
       "   'cities': [{'name': 'Санкт-Петербург', 'value': 2, 'visitors': 8},\n",
       "    {'name': 'Новосибирск', 'value': 99, 'visitors': 5},\n",
       "    {'name': 'Москва', 'value': 1, 'visitors': 5},\n",
       "    {'name': 'Самара', 'value': 123, 'visitors': 3},\n",
       "    {'name': 'Ульяновск', 'value': 149, 'visitors': 2},\n",
       "    {'name': 'Киев', 'value': 314, 'visitors': 2},\n",
       "    {'name': 'Екатеринбург', 'value': 49, 'visitors': 2},\n",
       "    {'name': 'Ростов-на-Дону', 'value': 119, 'visitors': 2},\n",
       "    {'name': 'Казань', 'value': 60, 'visitors': 2},\n",
       "    {'name': 'Алматы', 'value': 183, 'visitors': 2},\n",
       "    {'name': 'Минск', 'value': 282, 'visitors': 2},\n",
       "    {'name': 'Уфа', 'value': 151, 'visitors': 2},\n",
       "    {'name': 'Челябинск', 'value': 158, 'visitors': 2},\n",
       "    {'name': 'Пермь', 'value': 110, 'visitors': 1},\n",
       "    {'name': 'Rēzekne', 'value': 1921996, 'visitors': 1},\n",
       "    {'name': 'Сочи', 'value': 133, 'visitors': 1},\n",
       "    {'name': 'Краснодар', 'value': 72, 'visitors': 1},\n",
       "    {'name': 'Волгоград', 'value': 10, 'visitors': 1},\n",
       "    {'name': 'Тирасполь', 'value': 374, 'visitors': 1},\n",
       "    {'name': 'Сумы', 'value': 528, 'visitors': 1},\n",
       "    {'name': 'Реховот', 'value': 798, 'visitors': 1},\n",
       "    {'name': 'Тель-Авив', 'value': 3296, 'visitors': 1},\n",
       "    {'name': 'Мурманск', 'value': 87, 'visitors': 1},\n",
       "    {'name': 'Хабаровск', 'value': 153, 'visitors': 1},\n",
       "    {'name': 'Архангельск', 'value': 22, 'visitors': 1},\n",
       "    {'name': 'Вологда', 'value': 41, 'visitors': 1}],\n",
       "   'countries': [{'code': 'RU', 'name': 'Россия', 'value': 1, 'visitors': 82},\n",
       "    {'code': 'UA', 'name': 'Украина', 'value': 2, 'visitors': 19},\n",
       "    {'code': 'MD', 'name': 'Молдова', 'value': 15, 'visitors': 2},\n",
       "    {'code': 'KZ', 'name': 'Казахстан', 'value': 4, 'visitors': 2},\n",
       "    {'code': 'BY', 'name': 'Беларусь', 'value': 3, 'visitors': 2},\n",
       "    {'code': 'US', 'name': 'США', 'value': 9, 'visitors': 2},\n",
       "    {'code': 'LV', 'name': 'Латвия', 'value': 12, 'visitors': 1},\n",
       "    {'code': 'IL', 'name': 'Израиль', 'value': 8, 'visitors': 1},\n",
       "    {'code': 'GE', 'name': 'Грузия', 'value': 7, 'visitors': 1},\n",
       "    {'code': 'FI', 'name': 'Финляндия', 'value': 207, 'visitors': 1}],\n",
       "   'day': '2016-05-09',\n",
       "   'reach': 1423,\n",
       "   'reach_subscribers': 1230,\n",
       "   'sex': [{'value': 'f', 'visitors': 37}, {'value': 'm', 'visitors': 70}],\n",
       "   'sex_age': [{'value': 'f;12-18', 'visitors': 4},\n",
       "    {'value': 'f;18-21', 'visitors': 5},\n",
       "    {'value': 'f;21-24', 'visitors': 3},\n",
       "    {'value': 'f;24-27', 'visitors': 5},\n",
       "    {'value': 'f;27-30', 'visitors': 2},\n",
       "    {'value': 'f;30-35', 'visitors': 3},\n",
       "    {'value': 'f;35-45', 'visitors': 4},\n",
       "    {'value': 'f;45-100', 'visitors': 1},\n",
       "    {'value': 'm;12-18', 'visitors': 3},\n",
       "    {'value': 'm;18-21', 'visitors': 7},\n",
       "    {'value': 'm;21-24', 'visitors': 10},\n",
       "    {'value': 'm;24-27', 'visitors': 11},\n",
       "    {'value': 'm;27-30', 'visitors': 16},\n",
       "    {'value': 'm;30-35', 'visitors': 6},\n",
       "    {'value': 'm;35-45', 'visitors': 6},\n",
       "    {'value': 'm;45-100', 'visitors': 4}],\n",
       "   'subscribed': 11,\n",
       "   'unsubscribed': 5,\n",
       "   'views': 171,\n",
       "   'visitors': 113}]}"
      ]
     },
     "execution_count": 71,
     "metadata": {},
     "output_type": "execute_result"
    }
   ],
   "source": [
    "import requests\n",
    "from datetime import datetime, date, time, timedelta\n",
    "import time\n",
    "\n",
    "group_id = 38369814 #ID сообщества (здесь без минусов)\n",
    "\n",
    "date_today = (datetime.today() - timedelta(hours=4)).strftime('%Y-%m-%d')\n",
    "#получаем текущее время и дату и преобразуем в требуемый формат\n",
    "\n",
    "Token = 'f10e68bfc2deb65ae672a63eb783289b2dс239d80a8ef24e923a7219c7f16fee631ea4409abff74bde41ab08252' #токен для запроса \n",
    "                                                                                                #подставьте свой\n",
    "\n",
    "\n",
    "r = requests.get('https://api.vk.com/method/stats.get',\n",
    "                 params={'group_id':group_id,\n",
    "                         'date_from':date_today,\n",
    "                         'date_to':date_today,\n",
    "                         'v':'5.52',\n",
    "                         'access_token':Token}) \n",
    "\n",
    "r.json()\n"
   ]
  },
  {
   "cell_type": "markdown",
   "metadata": {},
   "source": [
    "Теперь эту структуру нужно привести в человеческий вид, чтобы можно было с этим работать.\n",
    "\n",
    "Если не знаете как, то изучите 4 и 5 уроки.\n",
    "\n",
    "\n",
    "\n"
   ]
  },
  {
   "cell_type": "code",
   "execution_count": 74,
   "metadata": {
    "collapsed": false
   },
   "outputs": [
    {
     "name": "stdout",
     "output_type": "stream",
     "text": [
      "114 172 1427 1233 11 5\n"
     ]
    }
   ],
   "source": [
    "import requests\n",
    "from datetime import datetime, date, time\n",
    "import time\n",
    "\n",
    "group_id = 38369814 #ID сообщества (здесь без минусов)\n",
    "\n",
    "#получаем текущее время и дату и преобразуем в требуемый формат\n",
    "date_today = (datetime.today() - timedelta(hours=4)).strftime('%Y-%m-%d')\n",
    "\n",
    "\n",
    "Token = 'f10e68bfc2deb65ae67fa63eb783289bdс239d80a8ef24e923a7219c7f16eead61ea4409abff74bde41ab08252' #токен для запроса \n",
    "                                                                                                #подставьте свой\n",
    "\n",
    "#отправляем запрос к ВК\n",
    "r = requests.get('https://api.vk.com/method/stats.get',\n",
    "                 params={'group_id':group_id,\n",
    "                         'date_from':date_today, #от сегодня\n",
    "                         'date_to':date_today, #до сегодня\n",
    "                         'v':'5.52',\n",
    "                         'access_token':Token}) \n",
    "\n",
    "#начинаем доставать нужные нам данные из того, что прислал ВКонтакте\n",
    "response = r.json()\n",
    "\n",
    "visitors = response['response'][0]['visitors'] # visitors — количество уникальных посетителей;\n",
    "views = response['response'][0]['views'] # views — количество просмотров;\n",
    "reach = response['response'][0]['reach'] # reach — полный охват;\n",
    "reach_subscribers = response['response'][0]['reach_subscribers'] # reach_subscribers — охват подписчиков;\n",
    "subscribed  = response['response'][0]['subscribed'] # subscribed — число новых подписчиков;\n",
    "unsubscribed = response['response'][0]['unsubscribed'] #unsubscribed — число отписавшихся;\n",
    "\n",
    "print(visitors,views,reach,reach_subscribers,subscribed,unsubscribed)"
   ]
  },
  {
   "cell_type": "markdown",
   "metadata": {},
   "source": [
    "В таком виде у нас отправляется всего один запрос, а нам нужно каждую минуту. На помощью нам придёт цикл **while** и **time.sleep()**\n",
    "\n",
    "> * time.sleep(сек) - приостановить выполнение программы на заданное количество секунд.\n",
    "* Циклы http://pythonworld.ru/osnovy/cikly-for-i-while-operatory-break-i-continue-volshebnoe-slovo-else.html"
   ]
  },
  {
   "cell_type": "code",
   "execution_count": 76,
   "metadata": {
    "collapsed": false,
    "slideshow": {
     "slide_type": "skip"
    }
   },
   "outputs": [
    {
     "name": "stdout",
     "output_type": "stream",
     "text": [
      "377020 790104 2598544 1699611 3588 2221\n",
      "377026 790122 2598567 1699617 3588 2221\n",
      "377031 790138 2598591 1699628 3588 2221\n",
      "377033 790145 2598622 1699639 3588 2222\n",
      "377040 790164 2598647 1699652 3588 2222\n",
      "377044 790178 2598672 1699665 3589 2222\n",
      "377048 790197 2598701 1699677 3590 2222\n"
     ]
    },
    {
     "ename": "KeyboardInterrupt",
     "evalue": "",
     "output_type": "error",
     "traceback": [
      "\u001b[1;31m---------------------------------------------------------------------------\u001b[0m",
      "\u001b[1;31mTypeError\u001b[0m                                 Traceback (most recent call last)",
      "\u001b[1;32mC:\\Users\\troll\\Anaconda3\\lib\\site-packages\\requests\\packages\\urllib3\\connectionpool.py\u001b[0m in \u001b[0;36m_make_request\u001b[1;34m(self, conn, method, url, timeout, **httplib_request_kw)\u001b[0m\n\u001b[0;32m    375\u001b[0m             \u001b[1;32mtry\u001b[0m\u001b[1;33m:\u001b[0m  \u001b[1;31m# Python 2.7, use buffering of HTTP responses\u001b[0m\u001b[1;33m\u001b[0m\u001b[0m\n\u001b[1;32m--> 376\u001b[1;33m                 \u001b[0mhttplib_response\u001b[0m \u001b[1;33m=\u001b[0m \u001b[0mconn\u001b[0m\u001b[1;33m.\u001b[0m\u001b[0mgetresponse\u001b[0m\u001b[1;33m(\u001b[0m\u001b[0mbuffering\u001b[0m\u001b[1;33m=\u001b[0m\u001b[1;32mTrue\u001b[0m\u001b[1;33m)\u001b[0m\u001b[1;33m\u001b[0m\u001b[0m\n\u001b[0m\u001b[0;32m    377\u001b[0m             \u001b[1;32mexcept\u001b[0m \u001b[0mTypeError\u001b[0m\u001b[1;33m:\u001b[0m  \u001b[1;31m# Python 2.6 and older\u001b[0m\u001b[1;33m\u001b[0m\u001b[0m\n",
      "\u001b[1;31mTypeError\u001b[0m: getresponse() got an unexpected keyword argument 'buffering'",
      "\nDuring handling of the above exception, another exception occurred:\n",
      "\u001b[1;31mKeyboardInterrupt\u001b[0m                         Traceback (most recent call last)",
      "\u001b[1;32m<ipython-input-76-28c79d98f56b>\u001b[0m in \u001b[0;36m<module>\u001b[1;34m()\u001b[0m\n\u001b[0;32m     22\u001b[0m                              \u001b[1;34m'date_to'\u001b[0m\u001b[1;33m:\u001b[0m\u001b[0mdate_today\u001b[0m\u001b[1;33m,\u001b[0m \u001b[1;31m#до сегодня\u001b[0m\u001b[1;33m\u001b[0m\u001b[0m\n\u001b[0;32m     23\u001b[0m                              \u001b[1;34m'v'\u001b[0m\u001b[1;33m:\u001b[0m\u001b[1;34m'5.52'\u001b[0m\u001b[1;33m,\u001b[0m\u001b[1;33m\u001b[0m\u001b[0m\n\u001b[1;32m---> 24\u001b[1;33m                              'access_token':Token}) \n\u001b[0m\u001b[0;32m     25\u001b[0m \u001b[1;33m\u001b[0m\u001b[0m\n\u001b[0;32m     26\u001b[0m     \u001b[1;31m#начинаем доставать нужные нам данные из того, что прислал ВКонтакте\u001b[0m\u001b[1;33m\u001b[0m\u001b[1;33m\u001b[0m\u001b[0m\n",
      "\u001b[1;32mC:\\Users\\troll\\Anaconda3\\lib\\site-packages\\requests\\api.py\u001b[0m in \u001b[0;36mget\u001b[1;34m(url, params, **kwargs)\u001b[0m\n\u001b[0;32m     67\u001b[0m \u001b[1;33m\u001b[0m\u001b[0m\n\u001b[0;32m     68\u001b[0m     \u001b[0mkwargs\u001b[0m\u001b[1;33m.\u001b[0m\u001b[0msetdefault\u001b[0m\u001b[1;33m(\u001b[0m\u001b[1;34m'allow_redirects'\u001b[0m\u001b[1;33m,\u001b[0m \u001b[1;32mTrue\u001b[0m\u001b[1;33m)\u001b[0m\u001b[1;33m\u001b[0m\u001b[0m\n\u001b[1;32m---> 69\u001b[1;33m     \u001b[1;32mreturn\u001b[0m \u001b[0mrequest\u001b[0m\u001b[1;33m(\u001b[0m\u001b[1;34m'get'\u001b[0m\u001b[1;33m,\u001b[0m \u001b[0murl\u001b[0m\u001b[1;33m,\u001b[0m \u001b[0mparams\u001b[0m\u001b[1;33m=\u001b[0m\u001b[0mparams\u001b[0m\u001b[1;33m,\u001b[0m \u001b[1;33m**\u001b[0m\u001b[0mkwargs\u001b[0m\u001b[1;33m)\u001b[0m\u001b[1;33m\u001b[0m\u001b[0m\n\u001b[0m\u001b[0;32m     70\u001b[0m \u001b[1;33m\u001b[0m\u001b[0m\n\u001b[0;32m     71\u001b[0m \u001b[1;33m\u001b[0m\u001b[0m\n",
      "\u001b[1;32mC:\\Users\\troll\\Anaconda3\\lib\\site-packages\\requests\\api.py\u001b[0m in \u001b[0;36mrequest\u001b[1;34m(method, url, **kwargs)\u001b[0m\n\u001b[0;32m     48\u001b[0m \u001b[1;33m\u001b[0m\u001b[0m\n\u001b[0;32m     49\u001b[0m     \u001b[0msession\u001b[0m \u001b[1;33m=\u001b[0m \u001b[0msessions\u001b[0m\u001b[1;33m.\u001b[0m\u001b[0mSession\u001b[0m\u001b[1;33m(\u001b[0m\u001b[1;33m)\u001b[0m\u001b[1;33m\u001b[0m\u001b[0m\n\u001b[1;32m---> 50\u001b[1;33m     \u001b[0mresponse\u001b[0m \u001b[1;33m=\u001b[0m \u001b[0msession\u001b[0m\u001b[1;33m.\u001b[0m\u001b[0mrequest\u001b[0m\u001b[1;33m(\u001b[0m\u001b[0mmethod\u001b[0m\u001b[1;33m=\u001b[0m\u001b[0mmethod\u001b[0m\u001b[1;33m,\u001b[0m \u001b[0murl\u001b[0m\u001b[1;33m=\u001b[0m\u001b[0murl\u001b[0m\u001b[1;33m,\u001b[0m \u001b[1;33m**\u001b[0m\u001b[0mkwargs\u001b[0m\u001b[1;33m)\u001b[0m\u001b[1;33m\u001b[0m\u001b[0m\n\u001b[0m\u001b[0;32m     51\u001b[0m     \u001b[1;31m# By explicitly closing the session, we avoid leaving sockets open which\u001b[0m\u001b[1;33m\u001b[0m\u001b[1;33m\u001b[0m\u001b[0m\n\u001b[0;32m     52\u001b[0m     \u001b[1;31m# can trigger a ResourceWarning in some cases, and look like a memory leak\u001b[0m\u001b[1;33m\u001b[0m\u001b[1;33m\u001b[0m\u001b[0m\n",
      "\u001b[1;32mC:\\Users\\troll\\Anaconda3\\lib\\site-packages\\requests\\sessions.py\u001b[0m in \u001b[0;36mrequest\u001b[1;34m(self, method, url, params, data, headers, cookies, files, auth, timeout, allow_redirects, proxies, hooks, stream, verify, cert, json)\u001b[0m\n\u001b[0;32m    466\u001b[0m         }\n\u001b[0;32m    467\u001b[0m         \u001b[0msend_kwargs\u001b[0m\u001b[1;33m.\u001b[0m\u001b[0mupdate\u001b[0m\u001b[1;33m(\u001b[0m\u001b[0msettings\u001b[0m\u001b[1;33m)\u001b[0m\u001b[1;33m\u001b[0m\u001b[0m\n\u001b[1;32m--> 468\u001b[1;33m         \u001b[0mresp\u001b[0m \u001b[1;33m=\u001b[0m \u001b[0mself\u001b[0m\u001b[1;33m.\u001b[0m\u001b[0msend\u001b[0m\u001b[1;33m(\u001b[0m\u001b[0mprep\u001b[0m\u001b[1;33m,\u001b[0m \u001b[1;33m**\u001b[0m\u001b[0msend_kwargs\u001b[0m\u001b[1;33m)\u001b[0m\u001b[1;33m\u001b[0m\u001b[0m\n\u001b[0m\u001b[0;32m    469\u001b[0m \u001b[1;33m\u001b[0m\u001b[0m\n\u001b[0;32m    470\u001b[0m         \u001b[1;32mreturn\u001b[0m \u001b[0mresp\u001b[0m\u001b[1;33m\u001b[0m\u001b[0m\n",
      "\u001b[1;32mC:\\Users\\troll\\Anaconda3\\lib\\site-packages\\requests\\sessions.py\u001b[0m in \u001b[0;36msend\u001b[1;34m(self, request, **kwargs)\u001b[0m\n\u001b[0;32m    574\u001b[0m \u001b[1;33m\u001b[0m\u001b[0m\n\u001b[0;32m    575\u001b[0m         \u001b[1;31m# Send the request\u001b[0m\u001b[1;33m\u001b[0m\u001b[1;33m\u001b[0m\u001b[0m\n\u001b[1;32m--> 576\u001b[1;33m         \u001b[0mr\u001b[0m \u001b[1;33m=\u001b[0m \u001b[0madapter\u001b[0m\u001b[1;33m.\u001b[0m\u001b[0msend\u001b[0m\u001b[1;33m(\u001b[0m\u001b[0mrequest\u001b[0m\u001b[1;33m,\u001b[0m \u001b[1;33m**\u001b[0m\u001b[0mkwargs\u001b[0m\u001b[1;33m)\u001b[0m\u001b[1;33m\u001b[0m\u001b[0m\n\u001b[0m\u001b[0;32m    577\u001b[0m \u001b[1;33m\u001b[0m\u001b[0m\n\u001b[0;32m    578\u001b[0m         \u001b[1;31m# Total elapsed time of the request (approximately)\u001b[0m\u001b[1;33m\u001b[0m\u001b[1;33m\u001b[0m\u001b[0m\n",
      "\u001b[1;32mC:\\Users\\troll\\Anaconda3\\lib\\site-packages\\requests\\adapters.py\u001b[0m in \u001b[0;36msend\u001b[1;34m(self, request, stream, timeout, verify, cert, proxies)\u001b[0m\n\u001b[0;32m    368\u001b[0m                     \u001b[0mdecode_content\u001b[0m\u001b[1;33m=\u001b[0m\u001b[1;32mFalse\u001b[0m\u001b[1;33m,\u001b[0m\u001b[1;33m\u001b[0m\u001b[0m\n\u001b[0;32m    369\u001b[0m                     \u001b[0mretries\u001b[0m\u001b[1;33m=\u001b[0m\u001b[0mself\u001b[0m\u001b[1;33m.\u001b[0m\u001b[0mmax_retries\u001b[0m\u001b[1;33m,\u001b[0m\u001b[1;33m\u001b[0m\u001b[0m\n\u001b[1;32m--> 370\u001b[1;33m                     \u001b[0mtimeout\u001b[0m\u001b[1;33m=\u001b[0m\u001b[0mtimeout\u001b[0m\u001b[1;33m\u001b[0m\u001b[0m\n\u001b[0m\u001b[0;32m    371\u001b[0m                 )\n\u001b[0;32m    372\u001b[0m \u001b[1;33m\u001b[0m\u001b[0m\n",
      "\u001b[1;32mC:\\Users\\troll\\Anaconda3\\lib\\site-packages\\requests\\packages\\urllib3\\connectionpool.py\u001b[0m in \u001b[0;36murlopen\u001b[1;34m(self, method, url, body, headers, retries, redirect, assert_same_host, timeout, pool_timeout, release_conn, **response_kw)\u001b[0m\n\u001b[0;32m    557\u001b[0m             httplib_response = self._make_request(conn, method, url,\n\u001b[0;32m    558\u001b[0m                                                   \u001b[0mtimeout\u001b[0m\u001b[1;33m=\u001b[0m\u001b[0mtimeout_obj\u001b[0m\u001b[1;33m,\u001b[0m\u001b[1;33m\u001b[0m\u001b[0m\n\u001b[1;32m--> 559\u001b[1;33m                                                   body=body, headers=headers)\n\u001b[0m\u001b[0;32m    560\u001b[0m \u001b[1;33m\u001b[0m\u001b[0m\n\u001b[0;32m    561\u001b[0m             \u001b[1;31m# If we're going to release the connection in ``finally:``, then\u001b[0m\u001b[1;33m\u001b[0m\u001b[1;33m\u001b[0m\u001b[0m\n",
      "\u001b[1;32mC:\\Users\\troll\\Anaconda3\\lib\\site-packages\\requests\\packages\\urllib3\\connectionpool.py\u001b[0m in \u001b[0;36m_make_request\u001b[1;34m(self, conn, method, url, timeout, **httplib_request_kw)\u001b[0m\n\u001b[0;32m    376\u001b[0m                 \u001b[0mhttplib_response\u001b[0m \u001b[1;33m=\u001b[0m \u001b[0mconn\u001b[0m\u001b[1;33m.\u001b[0m\u001b[0mgetresponse\u001b[0m\u001b[1;33m(\u001b[0m\u001b[0mbuffering\u001b[0m\u001b[1;33m=\u001b[0m\u001b[1;32mTrue\u001b[0m\u001b[1;33m)\u001b[0m\u001b[1;33m\u001b[0m\u001b[0m\n\u001b[0;32m    377\u001b[0m             \u001b[1;32mexcept\u001b[0m \u001b[0mTypeError\u001b[0m\u001b[1;33m:\u001b[0m  \u001b[1;31m# Python 2.6 and older\u001b[0m\u001b[1;33m\u001b[0m\u001b[0m\n\u001b[1;32m--> 378\u001b[1;33m                 \u001b[0mhttplib_response\u001b[0m \u001b[1;33m=\u001b[0m \u001b[0mconn\u001b[0m\u001b[1;33m.\u001b[0m\u001b[0mgetresponse\u001b[0m\u001b[1;33m(\u001b[0m\u001b[1;33m)\u001b[0m\u001b[1;33m\u001b[0m\u001b[0m\n\u001b[0m\u001b[0;32m    379\u001b[0m         \u001b[1;32mexcept\u001b[0m \u001b[1;33m(\u001b[0m\u001b[0mSocketTimeout\u001b[0m\u001b[1;33m,\u001b[0m \u001b[0mBaseSSLError\u001b[0m\u001b[1;33m,\u001b[0m \u001b[0mSocketError\u001b[0m\u001b[1;33m)\u001b[0m \u001b[1;32mas\u001b[0m \u001b[0me\u001b[0m\u001b[1;33m:\u001b[0m\u001b[1;33m\u001b[0m\u001b[0m\n\u001b[0;32m    380\u001b[0m             \u001b[0mself\u001b[0m\u001b[1;33m.\u001b[0m\u001b[0m_raise_timeout\u001b[0m\u001b[1;33m(\u001b[0m\u001b[0merr\u001b[0m\u001b[1;33m=\u001b[0m\u001b[0me\u001b[0m\u001b[1;33m,\u001b[0m \u001b[0murl\u001b[0m\u001b[1;33m=\u001b[0m\u001b[0murl\u001b[0m\u001b[1;33m,\u001b[0m \u001b[0mtimeout_value\u001b[0m\u001b[1;33m=\u001b[0m\u001b[0mread_timeout\u001b[0m\u001b[1;33m)\u001b[0m\u001b[1;33m\u001b[0m\u001b[0m\n",
      "\u001b[1;32mC:\\Users\\troll\\Anaconda3\\lib\\http\\client.py\u001b[0m in \u001b[0;36mgetresponse\u001b[1;34m(self)\u001b[0m\n\u001b[0;32m   1172\u001b[0m         \u001b[1;32mtry\u001b[0m\u001b[1;33m:\u001b[0m\u001b[1;33m\u001b[0m\u001b[0m\n\u001b[0;32m   1173\u001b[0m             \u001b[1;32mtry\u001b[0m\u001b[1;33m:\u001b[0m\u001b[1;33m\u001b[0m\u001b[0m\n\u001b[1;32m-> 1174\u001b[1;33m                 \u001b[0mresponse\u001b[0m\u001b[1;33m.\u001b[0m\u001b[0mbegin\u001b[0m\u001b[1;33m(\u001b[0m\u001b[1;33m)\u001b[0m\u001b[1;33m\u001b[0m\u001b[0m\n\u001b[0m\u001b[0;32m   1175\u001b[0m             \u001b[1;32mexcept\u001b[0m \u001b[0mConnectionError\u001b[0m\u001b[1;33m:\u001b[0m\u001b[1;33m\u001b[0m\u001b[0m\n\u001b[0;32m   1176\u001b[0m                 \u001b[0mself\u001b[0m\u001b[1;33m.\u001b[0m\u001b[0mclose\u001b[0m\u001b[1;33m(\u001b[0m\u001b[1;33m)\u001b[0m\u001b[1;33m\u001b[0m\u001b[0m\n",
      "\u001b[1;32mC:\\Users\\troll\\Anaconda3\\lib\\http\\client.py\u001b[0m in \u001b[0;36mbegin\u001b[1;34m(self)\u001b[0m\n\u001b[0;32m    280\u001b[0m         \u001b[1;31m# read until we get a non-100 response\u001b[0m\u001b[1;33m\u001b[0m\u001b[1;33m\u001b[0m\u001b[0m\n\u001b[0;32m    281\u001b[0m         \u001b[1;32mwhile\u001b[0m \u001b[1;32mTrue\u001b[0m\u001b[1;33m:\u001b[0m\u001b[1;33m\u001b[0m\u001b[0m\n\u001b[1;32m--> 282\u001b[1;33m             \u001b[0mversion\u001b[0m\u001b[1;33m,\u001b[0m \u001b[0mstatus\u001b[0m\u001b[1;33m,\u001b[0m \u001b[0mreason\u001b[0m \u001b[1;33m=\u001b[0m \u001b[0mself\u001b[0m\u001b[1;33m.\u001b[0m\u001b[0m_read_status\u001b[0m\u001b[1;33m(\u001b[0m\u001b[1;33m)\u001b[0m\u001b[1;33m\u001b[0m\u001b[0m\n\u001b[0m\u001b[0;32m    283\u001b[0m             \u001b[1;32mif\u001b[0m \u001b[0mstatus\u001b[0m \u001b[1;33m!=\u001b[0m \u001b[0mCONTINUE\u001b[0m\u001b[1;33m:\u001b[0m\u001b[1;33m\u001b[0m\u001b[0m\n\u001b[0;32m    284\u001b[0m                 \u001b[1;32mbreak\u001b[0m\u001b[1;33m\u001b[0m\u001b[0m\n",
      "\u001b[1;32mC:\\Users\\troll\\Anaconda3\\lib\\http\\client.py\u001b[0m in \u001b[0;36m_read_status\u001b[1;34m(self)\u001b[0m\n\u001b[0;32m    241\u001b[0m \u001b[1;33m\u001b[0m\u001b[0m\n\u001b[0;32m    242\u001b[0m     \u001b[1;32mdef\u001b[0m \u001b[0m_read_status\u001b[0m\u001b[1;33m(\u001b[0m\u001b[0mself\u001b[0m\u001b[1;33m)\u001b[0m\u001b[1;33m:\u001b[0m\u001b[1;33m\u001b[0m\u001b[0m\n\u001b[1;32m--> 243\u001b[1;33m         \u001b[0mline\u001b[0m \u001b[1;33m=\u001b[0m \u001b[0mstr\u001b[0m\u001b[1;33m(\u001b[0m\u001b[0mself\u001b[0m\u001b[1;33m.\u001b[0m\u001b[0mfp\u001b[0m\u001b[1;33m.\u001b[0m\u001b[0mreadline\u001b[0m\u001b[1;33m(\u001b[0m\u001b[0m_MAXLINE\u001b[0m \u001b[1;33m+\u001b[0m \u001b[1;36m1\u001b[0m\u001b[1;33m)\u001b[0m\u001b[1;33m,\u001b[0m \u001b[1;34m\"iso-8859-1\"\u001b[0m\u001b[1;33m)\u001b[0m\u001b[1;33m\u001b[0m\u001b[0m\n\u001b[0m\u001b[0;32m    244\u001b[0m         \u001b[1;32mif\u001b[0m \u001b[0mlen\u001b[0m\u001b[1;33m(\u001b[0m\u001b[0mline\u001b[0m\u001b[1;33m)\u001b[0m \u001b[1;33m>\u001b[0m \u001b[0m_MAXLINE\u001b[0m\u001b[1;33m:\u001b[0m\u001b[1;33m\u001b[0m\u001b[0m\n\u001b[0;32m    245\u001b[0m             \u001b[1;32mraise\u001b[0m \u001b[0mLineTooLong\u001b[0m\u001b[1;33m(\u001b[0m\u001b[1;34m\"status line\"\u001b[0m\u001b[1;33m)\u001b[0m\u001b[1;33m\u001b[0m\u001b[0m\n",
      "\u001b[1;32mC:\\Users\\troll\\Anaconda3\\lib\\socket.py\u001b[0m in \u001b[0;36mreadinto\u001b[1;34m(self, b)\u001b[0m\n\u001b[0;32m    573\u001b[0m         \u001b[1;32mwhile\u001b[0m \u001b[1;32mTrue\u001b[0m\u001b[1;33m:\u001b[0m\u001b[1;33m\u001b[0m\u001b[0m\n\u001b[0;32m    574\u001b[0m             \u001b[1;32mtry\u001b[0m\u001b[1;33m:\u001b[0m\u001b[1;33m\u001b[0m\u001b[0m\n\u001b[1;32m--> 575\u001b[1;33m                 \u001b[1;32mreturn\u001b[0m \u001b[0mself\u001b[0m\u001b[1;33m.\u001b[0m\u001b[0m_sock\u001b[0m\u001b[1;33m.\u001b[0m\u001b[0mrecv_into\u001b[0m\u001b[1;33m(\u001b[0m\u001b[0mb\u001b[0m\u001b[1;33m)\u001b[0m\u001b[1;33m\u001b[0m\u001b[0m\n\u001b[0m\u001b[0;32m    576\u001b[0m             \u001b[1;32mexcept\u001b[0m \u001b[0mtimeout\u001b[0m\u001b[1;33m:\u001b[0m\u001b[1;33m\u001b[0m\u001b[0m\n\u001b[0;32m    577\u001b[0m                 \u001b[0mself\u001b[0m\u001b[1;33m.\u001b[0m\u001b[0m_timeout_occurred\u001b[0m \u001b[1;33m=\u001b[0m \u001b[1;32mTrue\u001b[0m\u001b[1;33m\u001b[0m\u001b[0m\n",
      "\u001b[1;32mC:\\Users\\troll\\Anaconda3\\lib\\ssl.py\u001b[0m in \u001b[0;36mrecv_into\u001b[1;34m(self, buffer, nbytes, flags)\u001b[0m\n\u001b[0;32m    922\u001b[0m                   \u001b[1;34m\"non-zero flags not allowed in calls to recv_into() on %s\"\u001b[0m \u001b[1;33m%\u001b[0m\u001b[1;33m\u001b[0m\u001b[0m\n\u001b[0;32m    923\u001b[0m                   self.__class__)\n\u001b[1;32m--> 924\u001b[1;33m             \u001b[1;32mreturn\u001b[0m \u001b[0mself\u001b[0m\u001b[1;33m.\u001b[0m\u001b[0mread\u001b[0m\u001b[1;33m(\u001b[0m\u001b[0mnbytes\u001b[0m\u001b[1;33m,\u001b[0m \u001b[0mbuffer\u001b[0m\u001b[1;33m)\u001b[0m\u001b[1;33m\u001b[0m\u001b[0m\n\u001b[0m\u001b[0;32m    925\u001b[0m         \u001b[1;32melse\u001b[0m\u001b[1;33m:\u001b[0m\u001b[1;33m\u001b[0m\u001b[0m\n\u001b[0;32m    926\u001b[0m             \u001b[1;32mreturn\u001b[0m \u001b[0msocket\u001b[0m\u001b[1;33m.\u001b[0m\u001b[0mrecv_into\u001b[0m\u001b[1;33m(\u001b[0m\u001b[0mself\u001b[0m\u001b[1;33m,\u001b[0m \u001b[0mbuffer\u001b[0m\u001b[1;33m,\u001b[0m \u001b[0mnbytes\u001b[0m\u001b[1;33m,\u001b[0m \u001b[0mflags\u001b[0m\u001b[1;33m)\u001b[0m\u001b[1;33m\u001b[0m\u001b[0m\n",
      "\u001b[1;32mC:\\Users\\troll\\Anaconda3\\lib\\ssl.py\u001b[0m in \u001b[0;36mread\u001b[1;34m(self, len, buffer)\u001b[0m\n\u001b[0;32m    784\u001b[0m             \u001b[1;32mraise\u001b[0m \u001b[0mValueError\u001b[0m\u001b[1;33m(\u001b[0m\u001b[1;34m\"Read on closed or unwrapped SSL socket.\"\u001b[0m\u001b[1;33m)\u001b[0m\u001b[1;33m\u001b[0m\u001b[0m\n\u001b[0;32m    785\u001b[0m         \u001b[1;32mtry\u001b[0m\u001b[1;33m:\u001b[0m\u001b[1;33m\u001b[0m\u001b[0m\n\u001b[1;32m--> 786\u001b[1;33m             \u001b[1;32mreturn\u001b[0m \u001b[0mself\u001b[0m\u001b[1;33m.\u001b[0m\u001b[0m_sslobj\u001b[0m\u001b[1;33m.\u001b[0m\u001b[0mread\u001b[0m\u001b[1;33m(\u001b[0m\u001b[0mlen\u001b[0m\u001b[1;33m,\u001b[0m \u001b[0mbuffer\u001b[0m\u001b[1;33m)\u001b[0m\u001b[1;33m\u001b[0m\u001b[0m\n\u001b[0m\u001b[0;32m    787\u001b[0m         \u001b[1;32mexcept\u001b[0m \u001b[0mSSLError\u001b[0m \u001b[1;32mas\u001b[0m \u001b[0mx\u001b[0m\u001b[1;33m:\u001b[0m\u001b[1;33m\u001b[0m\u001b[0m\n\u001b[0;32m    788\u001b[0m             \u001b[1;32mif\u001b[0m \u001b[0mx\u001b[0m\u001b[1;33m.\u001b[0m\u001b[0margs\u001b[0m\u001b[1;33m[\u001b[0m\u001b[1;36m0\u001b[0m\u001b[1;33m]\u001b[0m \u001b[1;33m==\u001b[0m \u001b[0mSSL_ERROR_EOF\u001b[0m \u001b[1;32mand\u001b[0m \u001b[0mself\u001b[0m\u001b[1;33m.\u001b[0m\u001b[0msuppress_ragged_eofs\u001b[0m\u001b[1;33m:\u001b[0m\u001b[1;33m\u001b[0m\u001b[0m\n",
      "\u001b[1;32mC:\\Users\\troll\\Anaconda3\\lib\\ssl.py\u001b[0m in \u001b[0;36mread\u001b[1;34m(self, len, buffer)\u001b[0m\n\u001b[0;32m    568\u001b[0m         \"\"\"\n\u001b[0;32m    569\u001b[0m         \u001b[1;32mif\u001b[0m \u001b[0mbuffer\u001b[0m \u001b[1;32mis\u001b[0m \u001b[1;32mnot\u001b[0m \u001b[1;32mNone\u001b[0m\u001b[1;33m:\u001b[0m\u001b[1;33m\u001b[0m\u001b[0m\n\u001b[1;32m--> 570\u001b[1;33m             \u001b[0mv\u001b[0m \u001b[1;33m=\u001b[0m \u001b[0mself\u001b[0m\u001b[1;33m.\u001b[0m\u001b[0m_sslobj\u001b[0m\u001b[1;33m.\u001b[0m\u001b[0mread\u001b[0m\u001b[1;33m(\u001b[0m\u001b[0mlen\u001b[0m\u001b[1;33m,\u001b[0m \u001b[0mbuffer\u001b[0m\u001b[1;33m)\u001b[0m\u001b[1;33m\u001b[0m\u001b[0m\n\u001b[0m\u001b[0;32m    571\u001b[0m         \u001b[1;32melse\u001b[0m\u001b[1;33m:\u001b[0m\u001b[1;33m\u001b[0m\u001b[0m\n\u001b[0;32m    572\u001b[0m             \u001b[0mv\u001b[0m \u001b[1;33m=\u001b[0m \u001b[0mself\u001b[0m\u001b[1;33m.\u001b[0m\u001b[0m_sslobj\u001b[0m\u001b[1;33m.\u001b[0m\u001b[0mread\u001b[0m\u001b[1;33m(\u001b[0m\u001b[0mlen\u001b[0m \u001b[1;32mor\u001b[0m \u001b[1;36m1024\u001b[0m\u001b[1;33m)\u001b[0m\u001b[1;33m\u001b[0m\u001b[0m\n",
      "\u001b[1;31mKeyboardInterrupt\u001b[0m: "
     ]
    }
   ],
   "source": [
    "import requests\n",
    "from datetime import datetime, date, time\n",
    "import time\n",
    "\n",
    "group_id = 10639516 #ID сообщества (здесь без минусов)\n",
    "\n",
    "\n",
    "Token = 'f10e68b4fc2d23eb65fdae67263eb783289bdс239d80a8ef24e923a7219c7f16ee61ea44da09abff74bde41ab08252' #токен для запроса \n",
    "                                                                                                #подставьте свой\n",
    "\n",
    "#создаем цикл\n",
    "while True: #будет выполняться постоянно\n",
    "    #получаем текущее время и дату и преобразуем в требуемый формат (строка)\n",
    "    #дату сместили в цикл, так как нужно её обновлять при каждом запросе - мало ли день изменился\n",
    "    date_today = (datetime.today() - timedelta(hours=4)).strftime('%Y-%m-%d')  \n",
    "    \n",
    "    \n",
    "    #отправляем запрос к ВК\n",
    "    r = requests.get('https://api.vk.com/method/stats.get',\n",
    "                     params={'group_id':group_id,\n",
    "                             'date_from':date_today, #от сегодня\n",
    "                             'date_to':date_today, #до сегодня\n",
    "                             'v':'5.52',\n",
    "                             'access_token':Token}) \n",
    "\n",
    "    #начинаем доставать нужные нам данные из того, что прислал ВКонтакте\n",
    "    response = r.json()\n",
    "\n",
    "    visitors = response['response'][0]['visitors'] # visitors — количество уникальных посетителей;\n",
    "    views = response['response'][0]['views'] # views — количество просмотров;\n",
    "    reach = response['response'][0]['reach'] # reach — полный охват;\n",
    "    reach_subscribers = response['response'][0]['reach_subscribers'] # reach_subscribers — охват подписчиков;\n",
    "    subscribed  = response['response'][0]['subscribed'] # subscribed — число новых подписчиков;\n",
    "    unsubscribed = response['response'][0]['unsubscribed'] #unsubscribed — число отписавшихся;\n",
    "\n",
    "    #выводим данные на экран\n",
    "    print(visitors,views,reach,reach_subscribers,subscribed,unsubscribed)\n",
    "    \n",
    "    #сообщаем скрипту, что нужно на 1 минуту (60 сек) остановиться\n",
    "    time.sleep(.33)\n"
   ]
  },
  {
   "cell_type": "markdown",
   "metadata": {
    "collapsed": true
   },
   "source": [
    "Я специально остановил скрипт, поэтому и выдало ошибку. Как видите параметры **visitors** и **views** (1 и 2 столбец) изменились за 4 минуты. \n",
    "![alt](https://api.monosnap.com/rpc/file/download?id=FFDc2NsFUFmt9DS1LoM7e0ALFda0rM)<br>\n",
    "\n",
    "Однако, непонятно, в какое именно время совершается запрос. Ведь нам нужно соотнести это с конкретным временем, чтобы строить график. Поэтому давайте сразу после отправления запроса записывать текущее время в формате YYYY-MM-DD HH:MM\n",
    "\n",
    "Для этого мы сново будем использовать функция получения текущего времени, но преобразовывать будем иначе\n",
    "\n",
    "```python\n",
    "time_today = str(datetime.today().strftime('%Y-%m-%d %H:%M'))\n",
    "```"
   ]
  },
  {
   "cell_type": "code",
   "execution_count": 77,
   "metadata": {
    "collapsed": false
   },
   "outputs": [
    {
     "name": "stdout",
     "output_type": "stream",
     "text": [
      "2016-05-09 18:37 377976 792901 2603748 1701808 3604 2233\n",
      "2016-05-09 18:37 377984 792915 2603784 1701824 3604 2233\n",
      "2016-05-09 18:37 377990 792931 2603807 1701835 3604 2233\n",
      "2016-05-09 18:37 377995 792944 2603830 1701845 3604 2233\n",
      "2016-05-09 18:37 377997 792950 2603857 1701855 3604 2233\n",
      "2016-05-09 18:37 378003 792967 2603884 1701866 3604 2233\n",
      "2016-05-09 18:37 378011 792983 2603910 1701874 3604 2233\n",
      "2016-05-09 18:37 378017 792998 2603944 1701892 3604 2233\n",
      "2016-05-09 18:37 378019 793011 2603972 1701903 3604 2233\n",
      "2016-05-09 18:37 378025 793027 2604000 1701918 3604 2233\n",
      "2016-05-09 18:37 378033 793046 2604021 1701930 3605 2233\n",
      "2016-05-09 18:37 378038 793069 2604049 1701941 3605 2233\n",
      "2016-05-09 18:37 378044 793087 2604067 1701948 3606 2233\n",
      "2016-05-09 18:37 378045 793103 2604101 1701960 3606 2233\n"
     ]
    },
    {
     "ename": "KeyboardInterrupt",
     "evalue": "",
     "output_type": "error",
     "traceback": [
      "\u001b[1;31m---------------------------------------------------------------------------\u001b[0m",
      "\u001b[1;31mKeyboardInterrupt\u001b[0m                         Traceback (most recent call last)",
      "\u001b[1;32m<ipython-input-77-8932edb131bb>\u001b[0m in \u001b[0;36m<module>\u001b[1;34m()\u001b[0m\n\u001b[0;32m     37\u001b[0m \u001b[1;33m\u001b[0m\u001b[0m\n\u001b[0;32m     38\u001b[0m     \u001b[1;31m#сообщаем скрипту, что нужно на 1 минуту (60 сек) остановиться\u001b[0m\u001b[1;33m\u001b[0m\u001b[1;33m\u001b[0m\u001b[0m\n\u001b[1;32m---> 39\u001b[1;33m     \u001b[0mtime\u001b[0m\u001b[1;33m.\u001b[0m\u001b[0msleep\u001b[0m\u001b[1;33m(\u001b[0m\u001b[1;36m0.33\u001b[0m\u001b[1;33m)\u001b[0m\u001b[1;33m\u001b[0m\u001b[0m\n\u001b[0m",
      "\u001b[1;31mKeyboardInterrupt\u001b[0m: "
     ]
    }
   ],
   "source": [
    "import requests\n",
    "from datetime import datetime, date, time\n",
    "import time\n",
    "\n",
    "group_id = 10639516 #ID сообщества (здесь без минусов)\n",
    "\n",
    "\n",
    "Token = 'f10e68bfc2deb65ae67263ebfgs783289bdс239d80a8ef24e923a7219c2347f16ee61ea4409abff74bde41ab08252' #токен для запроса \n",
    "                                                                                                #подставьте свой\n",
    "\n",
    "#создаем цикл\n",
    "while True: #будет выполняться постоянно\n",
    "    #получаем текущее время и дату и преобразуем в требуемый формат (строка)\n",
    "\n",
    "    date_today = (datetime.today() - timedelta(hours=4)).strftime('%Y-%m-%d')  \n",
    "    time_today = str(datetime.today().strftime('%Y-%m-%d %H:%M'))\n",
    "    #отправляем запрос к ВК\n",
    "    r = requests.get('https://api.vk.com/method/stats.get',\n",
    "                     params={'group_id':group_id,\n",
    "                             'date_from':date_today, #от сегодня\n",
    "                             'date_to':date_today, #до сегодня\n",
    "                             'v':'5.52',\n",
    "                             'access_token':Token}) \n",
    "\n",
    "    #начинаем доставать нужные нам данные из того, что прислал ВКонтакте\n",
    "    response = r.json()\n",
    "\n",
    "    visitors = response['response'][0]['visitors'] # visitors — количество уникальных посетителей;\n",
    "    views = response['response'][0]['views'] # views — количество просмотров;\n",
    "    reach = response['response'][0]['reach'] # reach — полный охват;\n",
    "    reach_subscribers = response['response'][0]['reach_subscribers'] # reach_subscribers — охват подписчиков;\n",
    "    subscribed  = response['response'][0]['subscribed'] # subscribed — число новых подписчиков;\n",
    "    unsubscribed = response['response'][0]['unsubscribed'] #unsubscribed — число отписавшихся;\n",
    "\n",
    "    #выводим данные на экран\n",
    "    print(time_today, visitors,views,reach,reach_subscribers,subscribed,unsubscribed)\n",
    "    \n",
    "    #сообщаем скрипту, что нужно на 1 минуту (60 сек) остановиться\n",
    "    time.sleep(60)"
   ]
  },
  {
   "cell_type": "markdown",
   "metadata": {
    "collapsed": true
   },
   "source": [
    "> Примечание\n",
    "У меня в Jupiter почему-то при 60 секундах не хочет выводить данные на экран. Не знаю с чем это связано. При этом если ставить 5 секунд, то всё ок. Не знаю почему так. В pycharm всё ок. Так что проблема не в коде, а в окружении. Надеюсь у вас никаких проблем не возникнет. ![alt](https://api.monosnap.com/rpc/file/download?id=o1lxUeizkgOcVjx0cDbtsNfBHscLiC)<br>\n",
    "\n",
    "Если проблема есть, то вы можете запустить скрипт с помощью командной строки, но для начала вам нужен файл в формате .py только той части, что отвечает за код.\n",
    "\n",
    "![alt](https://api.monosnap.com/rpc/file/download?id=nriQoqtnxLzGPvaZHMG9ykIOegulie)<br>\n"
   ]
  },
  {
   "cell_type": "markdown",
   "metadata": {},
   "source": [
    "## Записываем всё в CSV\n",
    "\n",
    "Ладно, пускай у нас всё отлично работает, а так оно и есть, просто Жупитер чего-то у меня лагает, а у вас нет. \n",
    "\n",
    "Так как нам лень постоянно копировать всё из поля вывода на экран и вствалять потом в таблицу, то мы допишем скрипт и сразу будем писать в csv-файл, из которого мы потом легко можем получить таблицу.\n",
    "\n",
    "Давайте для начала подумаем как она будет выглядеть. У нас есть:\n",
    "* названия параметров\n",
    "* значение параметров\n",
    "* время запроса, которое постоянно обновляется\n",
    "\n",
    "Что будет строкой, а что столбцом? Есть 2 варианта:\n",
    "\n",
    "**Вариант 1**, когда в каждом новом столбце появляются значения<br>\n",
    "\n",
    "Параметр | Время1 | Время2 | Время3 | и тд.\n",
    "--- | --- | --- | --- | --- \n",
    "visitors | --- | --- | --- | --- \n",
    "views | --- | --- | --- | --- \n",
    "reach | --- | --- | --- | --- \n",
    "reach_subscribers | --- | --- | --- | --- \n",
    "subscribed | --- | --- | --- | --- \n",
    "unsubscribed | --- | --- | --- | --- \n",
    "\n",
    "**Вариант2** , когда новые значения появляются в новой строке\n",
    "\n",
    "Время | visitors | views | reach | reach_subscribers | subscribed | unsubscribed\n",
    "--- | --- | --- | --- | --- \n",
    "Время1 | --- | --- | --- | --- | --- | --- \n",
    "Время2 | --- | --- | --- | --- | --- | --- \n",
    "Время3 | --- | --- | --- | --- | --- | --- \n",
    "Время4 | --- | --- | --- | --- | --- | --- \n",
    "Время5 | --- | --- | --- | --- | --- | --- \n",
    "Время6 | --- | --- | --- | --- | --- | --- \n",
    "\n",
    "Как по мне, так вариант 2 предпочтительнее, так как крутить колесо вниз проще :)"
   ]
  },
  {
   "cell_type": "markdown",
   "metadata": {},
   "source": [
    "## Работаем с CSV  Python\n",
    "\n",
    "Для работы с CSV будем использовать модуль, входящий в состав Python. \n",
    "\n",
    "Теорий:\n",
    "* Метод в документации - https://docs.python.org/3/library/csv.html\n",
    "* http://ideafix.name/wp-content/uploads/2012/05/Python-7.pdf\n",
    "* плейлист на ютубе - https://www.youtube.com/watch?v=BpgbECVTryk\n",
    "\n",
    "Так как мы выбрали второй вариант с таблицей, то нам нужно:\n",
    "* записать один раз названия столбцов\n",
    "* с новой строки записать по очереди время, уники, просмотры, охват, полный охват, подписалось, отписалось\n",
    "\n",
    "И так каждые *time.sleep(секунд)* время может быть произвольным.\n",
    "\n",
    "Давайте доработаем наш код, чтобы у нас писалась сразу в таблицу, а значит функция print для вывода именно результатов нам не нужна.\n",
    "\n",
    "Попробуем для начала записать названия столбцов"
   ]
  },
  {
   "cell_type": "code",
   "execution_count": 78,
   "metadata": {
    "collapsed": false
   },
   "outputs": [
    {
     "name": "stdout",
     "output_type": "stream",
     "text": [
      "Записали названия столбцов\n"
     ]
    }
   ],
   "source": [
    "import requests\n",
    "from datetime import datetime, date, time, timedelta\n",
    "import time\n",
    "import csv\n",
    "\n",
    "group_id = 10639516 #ID сообщества (здесь без минусов)\n",
    "\n",
    "\n",
    "Token = 'f10e68bfc2debag65ae67263eb783289bdс239d80a8ef24e923a7219cadfg7f16ee61ea4409abff74bde41ab08252' #токен для запроса \n",
    "                                                                                                #подставьте свой\n",
    "\n",
    "\n",
    "with open('stats_test_sum.csv', 'a', newline='') as csvfile:\n",
    "        datawriter = csv.writer(csvfile, delimiter=',',\n",
    "                            quotechar='|', quoting=csv.QUOTE_MINIMAL)\n",
    "        #записываем названия столбцов в csv\n",
    "        datawriter.writerow(['Время']+['Уникальные посетители']+['Просмотры']+\n",
    "                            ['Полный охват']+['Охват подписчиков']+['Подписалось']+['Отписалось'])\n",
    "print ('Записали названия столбцов') #Вывод на экран будем делать для того, чтобы понимать где сейчас работает скрипт"
   ]
  },
  {
   "cell_type": "markdown",
   "metadata": {},
   "source": [
    "Вот что должно получиться (файл ищите по адресу - *C:\\Users\\name_user\\* для Windows)\n",
    "\n",
    "![alt](https://api.monosnap.com/rpc/file/download?id=D291CdN8Lcc6MaGQrEsuOl8gT008Mm)<br>"
   ]
  },
  {
   "cell_type": "markdown",
   "metadata": {},
   "source": [
    "Осталось дело за малым, на каждой новой строке записывать то, что мы каждые 60 секунд будем получать от ВКонтакте.\n",
    "\n",
    "Учтите, ВКонтакте отдаёт суммарное значение за день. Так же **учтите**, что ВКонтакте считает сутки с **04:00 утра до 04:00** следующего дня.\n",
    "\n",
    "Для этого мы от текущего времени будем отнимать 4 часа.\n",
    "\n",
    "```python\n",
    "date_today = (datetime.today() - timedelta(hours=4)).strftime('%Y-%m-%d') \n",
    "```\n",
    "\n",
    "Если этого не сделать, то когда наступает следующий день ВКонтакте будет возвращать json-объект, в котором ничего не будет.\n",
    "```python\n",
    "{'response':[]}\n",
    "```\n",
    "\n",
    "В коде ниже, вы также можете заметить **try** и **exepte** - это нужно для обработки ошибок, чтобы наш код продолжал выполняться.\n",
    "* Документация - https://docs.python.org/3.5/tutorial/errors.html\n",
    "* http://pythonworld.ru/tipy-dannyx-v-python/isklyucheniya-v-python-konstrukciya-try-except-dlya-obrabotki-isklyuchenij.html\n",
    "\n",
    "Ниже код для получения суммарных значений каждые 60 секунд, которые будут записаны в файл stats_sum.csv"
   ]
  },
  {
   "cell_type": "code",
   "execution_count": 79,
   "metadata": {
    "collapsed": false
   },
   "outputs": [
    {
     "name": "stdout",
     "output_type": "stream",
     "text": [
      "Записали названия столбцов\n",
      "Зашли в цикл, 2016-05-09 18:45\n",
      "Отправили запрос\n",
      "2016-05-09 18:45 381427 802932 2626414 1714478 3661 2263\n",
      "Преобразвали данные\n",
      "Ждём 60 секунд\n",
      "Зашли в цикл, 2016-05-09 18:45\n",
      "Отправили запрос\n",
      "2016-05-09 18:45 381444 802972 2626481 1714509 3661 2263\n",
      "Преобразвали данные\n",
      "Ждём 60 секунд\n",
      "Зашли в цикл, 2016-05-09 18:46\n",
      "Отправили запрос\n",
      "2016-05-09 18:46 381458 803003 2626548 1714541 3661 2263\n",
      "Преобразвали данные\n",
      "Ждём 60 секунд\n",
      "Зашли в цикл, 2016-05-09 18:46\n",
      "Отправили запрос\n",
      "2016-05-09 18:46 381466 803024 2626627 1714587 3661 2263\n",
      "Преобразвали данные\n",
      "Ждём 60 секунд\n",
      "Зашли в цикл, 2016-05-09 18:46\n",
      "Отправили запрос\n",
      "2016-05-09 18:46 381472 803047 2626693 1714623 3661 2263\n",
      "Преобразвали данные\n",
      "Ждём 60 секунд\n",
      "Зашли в цикл, 2016-05-09 18:46\n",
      "Отправили запрос\n",
      "2016-05-09 18:46 381486 803087 2626763 1714665 3661 2263\n",
      "Преобразвали данные\n",
      "Ждём 60 секунд\n",
      "Зашли в цикл, 2016-05-09 18:46\n",
      "Отправили запрос\n",
      "2016-05-09 18:46 381494 803114 2626823 1714697 3661 2263\n",
      "Преобразвали данные\n",
      "Ждём 60 секунд\n",
      "Зашли в цикл, 2016-05-09 18:46\n",
      "Отправили запрос\n",
      "2016-05-09 18:46 381510 803153 2626899 1714745 3661 2263\n",
      "Преобразвали данные\n",
      "Ждём 60 секунд\n",
      "Зашли в цикл, 2016-05-09 18:46\n",
      "Отправили запрос\n",
      "2016-05-09 18:46 381520 803185 2626973 1714786 3662 2263\n",
      "Преобразвали данные\n",
      "Ждём 60 секунд\n",
      "Зашли в цикл, 2016-05-09 18:46\n",
      "Отправили запрос\n",
      "2016-05-09 18:46 381529 803211 2627034 1714819 3662 2263\n",
      "Преобразвали данные\n",
      "Ждём 60 секунд\n",
      "Зашли в цикл, 2016-05-09 18:46\n",
      "Отправили запрос\n",
      "2016-05-09 18:46 381544 803240 2627095 1714851 3662 2263\n",
      "Преобразвали данные\n",
      "Ждём 60 секунд\n",
      "Зашли в цикл, 2016-05-09 18:46\n",
      "Отправили запрос\n",
      "2016-05-09 18:46 381561 803285 2627165 1714888 3662 2263\n",
      "Преобразвали данные\n",
      "Ждём 60 секунд\n",
      "Зашли в цикл, 2016-05-09 18:46\n",
      "Отправили запрос\n",
      "2016-05-09 18:46 381571 803317 2627219 1714913 3662 2263\n",
      "Преобразвали данные\n",
      "Ждём 60 секунд\n",
      "Зашли в цикл, 2016-05-09 18:46\n",
      "Отправили запрос\n",
      "2016-05-09 18:46 381582 803353 2627295 1714954 3662 2263\n",
      "Преобразвали данные\n",
      "Ждём 60 секунд\n",
      "Зашли в цикл, 2016-05-09 18:46\n",
      "Отправили запрос\n",
      "2016-05-09 18:46 381593 803382 2627360 1714983 3662 2263\n",
      "Преобразвали данные\n",
      "Ждём 60 секунд\n",
      "Зашли в цикл, 2016-05-09 18:46\n",
      "Отправили запрос\n",
      "2016-05-09 18:46 381601 803413 2627436 1715023 3663 2263\n",
      "Преобразвали данные\n",
      "Ждём 60 секунд\n",
      "Зашли в цикл, 2016-05-09 18:46\n",
      "Отправили запрос\n",
      "2016-05-09 18:46 381613 803442 2627505 1715064 3664 2263\n",
      "Преобразвали данные\n",
      "Ждём 60 секунд\n",
      "Зашли в цикл, 2016-05-09 18:46\n",
      "Отправили запрос\n",
      "2016-05-09 18:46 381622 803472 2627570 1715098 3664 2263\n",
      "Преобразвали данные\n",
      "Ждём 60 секунд\n",
      "Зашли в цикл, 2016-05-09 18:46\n",
      "Отправили запрос\n",
      "2016-05-09 18:46 381636 803510 2627653 1715142 3664 2263\n",
      "Преобразвали данные\n",
      "Ждём 60 секунд\n",
      "Зашли в цикл, 2016-05-09 18:46\n",
      "Отправили запрос\n",
      "2016-05-09 18:46 381650 803557 2627743 1715184 3664 2263\n",
      "Преобразвали данные\n",
      "Ждём 60 секунд\n",
      "Зашли в цикл, 2016-05-09 18:46\n",
      "Отправили запрос\n",
      "2016-05-09 18:46 381708 803727 2628100 1715370 3664 2264\n",
      "Преобразвали данные\n",
      "Ждём 60 секунд\n",
      "Зашли в цикл, 2016-05-09 18:46\n",
      "Отправили запрос\n",
      "2016-05-09 18:46 381721 803762 2628165 1715399 3664 2264\n",
      "Преобразвали данные\n",
      "Ждём 60 секунд\n",
      "Зашли в цикл, 2016-05-09 18:46\n",
      "Отправили запрос\n",
      "2016-05-09 18:46 381732 803790 2628241 1715435 3664 2264\n",
      "Преобразвали данные\n",
      "Ждём 60 секунд\n",
      "Зашли в цикл, 2016-05-09 18:46\n",
      "Отправили запрос\n",
      "2016-05-09 18:46 381748 803825 2628300 1715471 3664 2264\n",
      "Преобразвали данные\n",
      "Ждём 60 секунд\n",
      "Зашли в цикл, 2016-05-09 18:46\n",
      "Отправили запрос\n",
      "2016-05-09 18:46 381760 803857 2628363 1715507 3664 2264\n",
      "Преобразвали данные\n",
      "Ждём 60 секунд\n",
      "Зашли в цикл, 2016-05-09 18:46\n",
      "Отправили запрос\n",
      "2016-05-09 18:46 381772 803886 2628426 1715537 3664 2264\n",
      "Преобразвали данные\n",
      "Ждём 60 секунд\n",
      "Зашли в цикл, 2016-05-09 18:46\n",
      "Отправили запрос\n",
      "2016-05-09 18:46 381779 803919 2628490 1715566 3664 2264\n",
      "Преобразвали данные\n",
      "Ждём 60 секунд\n",
      "Зашли в цикл, 2016-05-09 18:46\n",
      "Отправили запрос\n",
      "2016-05-09 18:46 381795 803961 2628562 1715605 3665 2264\n",
      "Преобразвали данные\n",
      "Ждём 60 секунд\n",
      "Зашли в цикл, 2016-05-09 18:46\n"
     ]
    },
    {
     "ename": "KeyboardInterrupt",
     "evalue": "",
     "output_type": "error",
     "traceback": [
      "\u001b[1;31m---------------------------------------------------------------------------\u001b[0m",
      "\u001b[1;31mKeyboardInterrupt\u001b[0m                         Traceback (most recent call last)",
      "\u001b[1;32m<ipython-input-79-2390eeb883eb>\u001b[0m in \u001b[0;36m<module>\u001b[1;34m()\u001b[0m\n\u001b[0;32m     31\u001b[0m                                  \u001b[1;34m'date_to'\u001b[0m\u001b[1;33m:\u001b[0m\u001b[0mdate_today\u001b[0m\u001b[1;33m,\u001b[0m \u001b[1;31m#до сегодня\u001b[0m\u001b[1;33m\u001b[0m\u001b[0m\n\u001b[0;32m     32\u001b[0m                                  \u001b[1;34m'v'\u001b[0m\u001b[1;33m:\u001b[0m\u001b[1;34m'5.52'\u001b[0m\u001b[1;33m,\u001b[0m\u001b[1;33m\u001b[0m\u001b[0m\n\u001b[1;32m---> 33\u001b[1;33m                                  'access_token':Token})\n\u001b[0m\u001b[0;32m     34\u001b[0m         \u001b[0mprint\u001b[0m\u001b[1;33m(\u001b[0m\u001b[1;34m'Отправили запрос'\u001b[0m\u001b[1;33m)\u001b[0m\u001b[1;33m\u001b[0m\u001b[0m\n\u001b[0;32m     35\u001b[0m \u001b[1;33m\u001b[0m\u001b[0m\n",
      "\u001b[1;32mC:\\Users\\troll\\Anaconda3\\lib\\site-packages\\requests\\api.py\u001b[0m in \u001b[0;36mget\u001b[1;34m(url, params, **kwargs)\u001b[0m\n\u001b[0;32m     67\u001b[0m \u001b[1;33m\u001b[0m\u001b[0m\n\u001b[0;32m     68\u001b[0m     \u001b[0mkwargs\u001b[0m\u001b[1;33m.\u001b[0m\u001b[0msetdefault\u001b[0m\u001b[1;33m(\u001b[0m\u001b[1;34m'allow_redirects'\u001b[0m\u001b[1;33m,\u001b[0m \u001b[1;32mTrue\u001b[0m\u001b[1;33m)\u001b[0m\u001b[1;33m\u001b[0m\u001b[0m\n\u001b[1;32m---> 69\u001b[1;33m     \u001b[1;32mreturn\u001b[0m \u001b[0mrequest\u001b[0m\u001b[1;33m(\u001b[0m\u001b[1;34m'get'\u001b[0m\u001b[1;33m,\u001b[0m \u001b[0murl\u001b[0m\u001b[1;33m,\u001b[0m \u001b[0mparams\u001b[0m\u001b[1;33m=\u001b[0m\u001b[0mparams\u001b[0m\u001b[1;33m,\u001b[0m \u001b[1;33m**\u001b[0m\u001b[0mkwargs\u001b[0m\u001b[1;33m)\u001b[0m\u001b[1;33m\u001b[0m\u001b[0m\n\u001b[0m\u001b[0;32m     70\u001b[0m \u001b[1;33m\u001b[0m\u001b[0m\n\u001b[0;32m     71\u001b[0m \u001b[1;33m\u001b[0m\u001b[0m\n",
      "\u001b[1;32mC:\\Users\\troll\\Anaconda3\\lib\\site-packages\\requests\\api.py\u001b[0m in \u001b[0;36mrequest\u001b[1;34m(method, url, **kwargs)\u001b[0m\n\u001b[0;32m     48\u001b[0m \u001b[1;33m\u001b[0m\u001b[0m\n\u001b[0;32m     49\u001b[0m     \u001b[0msession\u001b[0m \u001b[1;33m=\u001b[0m \u001b[0msessions\u001b[0m\u001b[1;33m.\u001b[0m\u001b[0mSession\u001b[0m\u001b[1;33m(\u001b[0m\u001b[1;33m)\u001b[0m\u001b[1;33m\u001b[0m\u001b[0m\n\u001b[1;32m---> 50\u001b[1;33m     \u001b[0mresponse\u001b[0m \u001b[1;33m=\u001b[0m \u001b[0msession\u001b[0m\u001b[1;33m.\u001b[0m\u001b[0mrequest\u001b[0m\u001b[1;33m(\u001b[0m\u001b[0mmethod\u001b[0m\u001b[1;33m=\u001b[0m\u001b[0mmethod\u001b[0m\u001b[1;33m,\u001b[0m \u001b[0murl\u001b[0m\u001b[1;33m=\u001b[0m\u001b[0murl\u001b[0m\u001b[1;33m,\u001b[0m \u001b[1;33m**\u001b[0m\u001b[0mkwargs\u001b[0m\u001b[1;33m)\u001b[0m\u001b[1;33m\u001b[0m\u001b[0m\n\u001b[0m\u001b[0;32m     51\u001b[0m     \u001b[1;31m# By explicitly closing the session, we avoid leaving sockets open which\u001b[0m\u001b[1;33m\u001b[0m\u001b[1;33m\u001b[0m\u001b[0m\n\u001b[0;32m     52\u001b[0m     \u001b[1;31m# can trigger a ResourceWarning in some cases, and look like a memory leak\u001b[0m\u001b[1;33m\u001b[0m\u001b[1;33m\u001b[0m\u001b[0m\n",
      "\u001b[1;32mC:\\Users\\troll\\Anaconda3\\lib\\site-packages\\requests\\sessions.py\u001b[0m in \u001b[0;36mrequest\u001b[1;34m(self, method, url, params, data, headers, cookies, files, auth, timeout, allow_redirects, proxies, hooks, stream, verify, cert, json)\u001b[0m\n\u001b[0;32m    466\u001b[0m         }\n\u001b[0;32m    467\u001b[0m         \u001b[0msend_kwargs\u001b[0m\u001b[1;33m.\u001b[0m\u001b[0mupdate\u001b[0m\u001b[1;33m(\u001b[0m\u001b[0msettings\u001b[0m\u001b[1;33m)\u001b[0m\u001b[1;33m\u001b[0m\u001b[0m\n\u001b[1;32m--> 468\u001b[1;33m         \u001b[0mresp\u001b[0m \u001b[1;33m=\u001b[0m \u001b[0mself\u001b[0m\u001b[1;33m.\u001b[0m\u001b[0msend\u001b[0m\u001b[1;33m(\u001b[0m\u001b[0mprep\u001b[0m\u001b[1;33m,\u001b[0m \u001b[1;33m**\u001b[0m\u001b[0msend_kwargs\u001b[0m\u001b[1;33m)\u001b[0m\u001b[1;33m\u001b[0m\u001b[0m\n\u001b[0m\u001b[0;32m    469\u001b[0m \u001b[1;33m\u001b[0m\u001b[0m\n\u001b[0;32m    470\u001b[0m         \u001b[1;32mreturn\u001b[0m \u001b[0mresp\u001b[0m\u001b[1;33m\u001b[0m\u001b[0m\n",
      "\u001b[1;32mC:\\Users\\troll\\Anaconda3\\lib\\site-packages\\requests\\sessions.py\u001b[0m in \u001b[0;36msend\u001b[1;34m(self, request, **kwargs)\u001b[0m\n\u001b[0;32m    574\u001b[0m \u001b[1;33m\u001b[0m\u001b[0m\n\u001b[0;32m    575\u001b[0m         \u001b[1;31m# Send the request\u001b[0m\u001b[1;33m\u001b[0m\u001b[1;33m\u001b[0m\u001b[0m\n\u001b[1;32m--> 576\u001b[1;33m         \u001b[0mr\u001b[0m \u001b[1;33m=\u001b[0m \u001b[0madapter\u001b[0m\u001b[1;33m.\u001b[0m\u001b[0msend\u001b[0m\u001b[1;33m(\u001b[0m\u001b[0mrequest\u001b[0m\u001b[1;33m,\u001b[0m \u001b[1;33m**\u001b[0m\u001b[0mkwargs\u001b[0m\u001b[1;33m)\u001b[0m\u001b[1;33m\u001b[0m\u001b[0m\n\u001b[0m\u001b[0;32m    577\u001b[0m \u001b[1;33m\u001b[0m\u001b[0m\n\u001b[0;32m    578\u001b[0m         \u001b[1;31m# Total elapsed time of the request (approximately)\u001b[0m\u001b[1;33m\u001b[0m\u001b[1;33m\u001b[0m\u001b[0m\n",
      "\u001b[1;32mC:\\Users\\troll\\Anaconda3\\lib\\site-packages\\requests\\adapters.py\u001b[0m in \u001b[0;36msend\u001b[1;34m(self, request, stream, timeout, verify, cert, proxies)\u001b[0m\n\u001b[0;32m    368\u001b[0m                     \u001b[0mdecode_content\u001b[0m\u001b[1;33m=\u001b[0m\u001b[1;32mFalse\u001b[0m\u001b[1;33m,\u001b[0m\u001b[1;33m\u001b[0m\u001b[0m\n\u001b[0;32m    369\u001b[0m                     \u001b[0mretries\u001b[0m\u001b[1;33m=\u001b[0m\u001b[0mself\u001b[0m\u001b[1;33m.\u001b[0m\u001b[0mmax_retries\u001b[0m\u001b[1;33m,\u001b[0m\u001b[1;33m\u001b[0m\u001b[0m\n\u001b[1;32m--> 370\u001b[1;33m                     \u001b[0mtimeout\u001b[0m\u001b[1;33m=\u001b[0m\u001b[0mtimeout\u001b[0m\u001b[1;33m\u001b[0m\u001b[0m\n\u001b[0m\u001b[0;32m    371\u001b[0m                 )\n\u001b[0;32m    372\u001b[0m \u001b[1;33m\u001b[0m\u001b[0m\n",
      "\u001b[1;32mC:\\Users\\troll\\Anaconda3\\lib\\site-packages\\requests\\packages\\urllib3\\connectionpool.py\u001b[0m in \u001b[0;36murlopen\u001b[1;34m(self, method, url, body, headers, retries, redirect, assert_same_host, timeout, pool_timeout, release_conn, **response_kw)\u001b[0m\n\u001b[0;32m    557\u001b[0m             httplib_response = self._make_request(conn, method, url,\n\u001b[0;32m    558\u001b[0m                                                   \u001b[0mtimeout\u001b[0m\u001b[1;33m=\u001b[0m\u001b[0mtimeout_obj\u001b[0m\u001b[1;33m,\u001b[0m\u001b[1;33m\u001b[0m\u001b[0m\n\u001b[1;32m--> 559\u001b[1;33m                                                   body=body, headers=headers)\n\u001b[0m\u001b[0;32m    560\u001b[0m \u001b[1;33m\u001b[0m\u001b[0m\n\u001b[0;32m    561\u001b[0m             \u001b[1;31m# If we're going to release the connection in ``finally:``, then\u001b[0m\u001b[1;33m\u001b[0m\u001b[1;33m\u001b[0m\u001b[0m\n",
      "\u001b[1;32mC:\\Users\\troll\\Anaconda3\\lib\\site-packages\\requests\\packages\\urllib3\\connectionpool.py\u001b[0m in \u001b[0;36m_make_request\u001b[1;34m(self, conn, method, url, timeout, **httplib_request_kw)\u001b[0m\n\u001b[0;32m    343\u001b[0m         \u001b[1;31m# Trigger any extra validation we need to do.\u001b[0m\u001b[1;33m\u001b[0m\u001b[1;33m\u001b[0m\u001b[0m\n\u001b[0;32m    344\u001b[0m         \u001b[1;32mtry\u001b[0m\u001b[1;33m:\u001b[0m\u001b[1;33m\u001b[0m\u001b[0m\n\u001b[1;32m--> 345\u001b[1;33m             \u001b[0mself\u001b[0m\u001b[1;33m.\u001b[0m\u001b[0m_validate_conn\u001b[0m\u001b[1;33m(\u001b[0m\u001b[0mconn\u001b[0m\u001b[1;33m)\u001b[0m\u001b[1;33m\u001b[0m\u001b[0m\n\u001b[0m\u001b[0;32m    346\u001b[0m         \u001b[1;32mexcept\u001b[0m \u001b[1;33m(\u001b[0m\u001b[0mSocketTimeout\u001b[0m\u001b[1;33m,\u001b[0m \u001b[0mBaseSSLError\u001b[0m\u001b[1;33m)\u001b[0m \u001b[1;32mas\u001b[0m \u001b[0me\u001b[0m\u001b[1;33m:\u001b[0m\u001b[1;33m\u001b[0m\u001b[0m\n\u001b[0;32m    347\u001b[0m             \u001b[1;31m# Py2 raises this as a BaseSSLError, Py3 raises it as socket timeout.\u001b[0m\u001b[1;33m\u001b[0m\u001b[1;33m\u001b[0m\u001b[0m\n",
      "\u001b[1;32mC:\\Users\\troll\\Anaconda3\\lib\\site-packages\\requests\\packages\\urllib3\\connectionpool.py\u001b[0m in \u001b[0;36m_validate_conn\u001b[1;34m(self, conn)\u001b[0m\n\u001b[0;32m    780\u001b[0m         \u001b[1;31m# Force connect early to allow us to validate the connection.\u001b[0m\u001b[1;33m\u001b[0m\u001b[1;33m\u001b[0m\u001b[0m\n\u001b[0;32m    781\u001b[0m         \u001b[1;32mif\u001b[0m \u001b[1;32mnot\u001b[0m \u001b[0mgetattr\u001b[0m\u001b[1;33m(\u001b[0m\u001b[0mconn\u001b[0m\u001b[1;33m,\u001b[0m \u001b[1;34m'sock'\u001b[0m\u001b[1;33m,\u001b[0m \u001b[1;32mNone\u001b[0m\u001b[1;33m)\u001b[0m\u001b[1;33m:\u001b[0m  \u001b[1;31m# AppEngine might not have  `.sock`\u001b[0m\u001b[1;33m\u001b[0m\u001b[0m\n\u001b[1;32m--> 782\u001b[1;33m             \u001b[0mconn\u001b[0m\u001b[1;33m.\u001b[0m\u001b[0mconnect\u001b[0m\u001b[1;33m(\u001b[0m\u001b[1;33m)\u001b[0m\u001b[1;33m\u001b[0m\u001b[0m\n\u001b[0m\u001b[0;32m    783\u001b[0m \u001b[1;33m\u001b[0m\u001b[0m\n\u001b[0;32m    784\u001b[0m         \u001b[1;32mif\u001b[0m \u001b[1;32mnot\u001b[0m \u001b[0mconn\u001b[0m\u001b[1;33m.\u001b[0m\u001b[0mis_verified\u001b[0m\u001b[1;33m:\u001b[0m\u001b[1;33m\u001b[0m\u001b[0m\n",
      "\u001b[1;32mC:\\Users\\troll\\Anaconda3\\lib\\site-packages\\requests\\packages\\urllib3\\connection.py\u001b[0m in \u001b[0;36mconnect\u001b[1;34m(self)\u001b[0m\n\u001b[0;32m    248\u001b[0m                                     \u001b[0mca_cert_dir\u001b[0m\u001b[1;33m=\u001b[0m\u001b[0mself\u001b[0m\u001b[1;33m.\u001b[0m\u001b[0mca_cert_dir\u001b[0m\u001b[1;33m,\u001b[0m\u001b[1;33m\u001b[0m\u001b[0m\n\u001b[0;32m    249\u001b[0m                                     \u001b[0mserver_hostname\u001b[0m\u001b[1;33m=\u001b[0m\u001b[0mhostname\u001b[0m\u001b[1;33m,\u001b[0m\u001b[1;33m\u001b[0m\u001b[0m\n\u001b[1;32m--> 250\u001b[1;33m                                     ssl_version=resolved_ssl_version)\n\u001b[0m\u001b[0;32m    251\u001b[0m \u001b[1;33m\u001b[0m\u001b[0m\n\u001b[0;32m    252\u001b[0m         \u001b[1;32mif\u001b[0m \u001b[0mself\u001b[0m\u001b[1;33m.\u001b[0m\u001b[0massert_fingerprint\u001b[0m\u001b[1;33m:\u001b[0m\u001b[1;33m\u001b[0m\u001b[0m\n",
      "\u001b[1;32mC:\\Users\\troll\\Anaconda3\\lib\\site-packages\\requests\\packages\\urllib3\\util\\ssl_.py\u001b[0m in \u001b[0;36mssl_wrap_socket\u001b[1;34m(sock, keyfile, certfile, cert_reqs, ca_certs, server_hostname, ssl_version, ciphers, ssl_context, ca_cert_dir)\u001b[0m\n\u001b[0;32m    283\u001b[0m         \u001b[0mcontext\u001b[0m\u001b[1;33m.\u001b[0m\u001b[0mload_cert_chain\u001b[0m\u001b[1;33m(\u001b[0m\u001b[0mcertfile\u001b[0m\u001b[1;33m,\u001b[0m \u001b[0mkeyfile\u001b[0m\u001b[1;33m)\u001b[0m\u001b[1;33m\u001b[0m\u001b[0m\n\u001b[0;32m    284\u001b[0m     \u001b[1;32mif\u001b[0m \u001b[0mHAS_SNI\u001b[0m\u001b[1;33m:\u001b[0m  \u001b[1;31m# Platform-specific: OpenSSL with enabled SNI\u001b[0m\u001b[1;33m\u001b[0m\u001b[0m\n\u001b[1;32m--> 285\u001b[1;33m         \u001b[1;32mreturn\u001b[0m \u001b[0mcontext\u001b[0m\u001b[1;33m.\u001b[0m\u001b[0mwrap_socket\u001b[0m\u001b[1;33m(\u001b[0m\u001b[0msock\u001b[0m\u001b[1;33m,\u001b[0m \u001b[0mserver_hostname\u001b[0m\u001b[1;33m=\u001b[0m\u001b[0mserver_hostname\u001b[0m\u001b[1;33m)\u001b[0m\u001b[1;33m\u001b[0m\u001b[0m\n\u001b[0m\u001b[0;32m    286\u001b[0m     \u001b[1;32mreturn\u001b[0m \u001b[0mcontext\u001b[0m\u001b[1;33m.\u001b[0m\u001b[0mwrap_socket\u001b[0m\u001b[1;33m(\u001b[0m\u001b[0msock\u001b[0m\u001b[1;33m)\u001b[0m\u001b[1;33m\u001b[0m\u001b[0m\n",
      "\u001b[1;32mC:\\Users\\troll\\Anaconda3\\lib\\ssl.py\u001b[0m in \u001b[0;36mwrap_socket\u001b[1;34m(self, sock, server_side, do_handshake_on_connect, suppress_ragged_eofs, server_hostname)\u001b[0m\n\u001b[0;32m    374\u001b[0m                          \u001b[0msuppress_ragged_eofs\u001b[0m\u001b[1;33m=\u001b[0m\u001b[0msuppress_ragged_eofs\u001b[0m\u001b[1;33m,\u001b[0m\u001b[1;33m\u001b[0m\u001b[0m\n\u001b[0;32m    375\u001b[0m                          \u001b[0mserver_hostname\u001b[0m\u001b[1;33m=\u001b[0m\u001b[0mserver_hostname\u001b[0m\u001b[1;33m,\u001b[0m\u001b[1;33m\u001b[0m\u001b[0m\n\u001b[1;32m--> 376\u001b[1;33m                          _context=self)\n\u001b[0m\u001b[0;32m    377\u001b[0m \u001b[1;33m\u001b[0m\u001b[0m\n\u001b[0;32m    378\u001b[0m     def wrap_bio(self, incoming, outgoing, server_side=False,\n",
      "\u001b[1;32mC:\\Users\\troll\\Anaconda3\\lib\\ssl.py\u001b[0m in \u001b[0;36m__init__\u001b[1;34m(self, sock, keyfile, certfile, server_side, cert_reqs, ssl_version, ca_certs, do_handshake_on_connect, family, type, proto, fileno, suppress_ragged_eofs, npn_protocols, ciphers, server_hostname, _context)\u001b[0m\n\u001b[0;32m    745\u001b[0m                         \u001b[1;31m# non-blocking\u001b[0m\u001b[1;33m\u001b[0m\u001b[1;33m\u001b[0m\u001b[0m\n\u001b[0;32m    746\u001b[0m                         \u001b[1;32mraise\u001b[0m \u001b[0mValueError\u001b[0m\u001b[1;33m(\u001b[0m\u001b[1;34m\"do_handshake_on_connect should not be specified for non-blocking sockets\"\u001b[0m\u001b[1;33m)\u001b[0m\u001b[1;33m\u001b[0m\u001b[0m\n\u001b[1;32m--> 747\u001b[1;33m                     \u001b[0mself\u001b[0m\u001b[1;33m.\u001b[0m\u001b[0mdo_handshake\u001b[0m\u001b[1;33m(\u001b[0m\u001b[1;33m)\u001b[0m\u001b[1;33m\u001b[0m\u001b[0m\n\u001b[0m\u001b[0;32m    748\u001b[0m \u001b[1;33m\u001b[0m\u001b[0m\n\u001b[0;32m    749\u001b[0m             \u001b[1;32mexcept\u001b[0m \u001b[1;33m(\u001b[0m\u001b[0mOSError\u001b[0m\u001b[1;33m,\u001b[0m \u001b[0mValueError\u001b[0m\u001b[1;33m)\u001b[0m\u001b[1;33m:\u001b[0m\u001b[1;33m\u001b[0m\u001b[0m\n",
      "\u001b[1;32mC:\\Users\\troll\\Anaconda3\\lib\\ssl.py\u001b[0m in \u001b[0;36mdo_handshake\u001b[1;34m(self, block)\u001b[0m\n\u001b[0;32m    981\u001b[0m             \u001b[1;32mif\u001b[0m \u001b[0mtimeout\u001b[0m \u001b[1;33m==\u001b[0m \u001b[1;36m0.0\u001b[0m \u001b[1;32mand\u001b[0m \u001b[0mblock\u001b[0m\u001b[1;33m:\u001b[0m\u001b[1;33m\u001b[0m\u001b[0m\n\u001b[0;32m    982\u001b[0m                 \u001b[0mself\u001b[0m\u001b[1;33m.\u001b[0m\u001b[0msettimeout\u001b[0m\u001b[1;33m(\u001b[0m\u001b[1;32mNone\u001b[0m\u001b[1;33m)\u001b[0m\u001b[1;33m\u001b[0m\u001b[0m\n\u001b[1;32m--> 983\u001b[1;33m             \u001b[0mself\u001b[0m\u001b[1;33m.\u001b[0m\u001b[0m_sslobj\u001b[0m\u001b[1;33m.\u001b[0m\u001b[0mdo_handshake\u001b[0m\u001b[1;33m(\u001b[0m\u001b[1;33m)\u001b[0m\u001b[1;33m\u001b[0m\u001b[0m\n\u001b[0m\u001b[0;32m    984\u001b[0m         \u001b[1;32mfinally\u001b[0m\u001b[1;33m:\u001b[0m\u001b[1;33m\u001b[0m\u001b[0m\n\u001b[0;32m    985\u001b[0m             \u001b[0mself\u001b[0m\u001b[1;33m.\u001b[0m\u001b[0msettimeout\u001b[0m\u001b[1;33m(\u001b[0m\u001b[0mtimeout\u001b[0m\u001b[1;33m)\u001b[0m\u001b[1;33m\u001b[0m\u001b[0m\n",
      "\u001b[1;32mC:\\Users\\troll\\Anaconda3\\lib\\ssl.py\u001b[0m in \u001b[0;36mdo_handshake\u001b[1;34m(self)\u001b[0m\n\u001b[0;32m    626\u001b[0m     \u001b[1;32mdef\u001b[0m \u001b[0mdo_handshake\u001b[0m\u001b[1;33m(\u001b[0m\u001b[0mself\u001b[0m\u001b[1;33m)\u001b[0m\u001b[1;33m:\u001b[0m\u001b[1;33m\u001b[0m\u001b[0m\n\u001b[0;32m    627\u001b[0m         \u001b[1;34m\"\"\"Start the SSL/TLS handshake.\"\"\"\u001b[0m\u001b[1;33m\u001b[0m\u001b[0m\n\u001b[1;32m--> 628\u001b[1;33m         \u001b[0mself\u001b[0m\u001b[1;33m.\u001b[0m\u001b[0m_sslobj\u001b[0m\u001b[1;33m.\u001b[0m\u001b[0mdo_handshake\u001b[0m\u001b[1;33m(\u001b[0m\u001b[1;33m)\u001b[0m\u001b[1;33m\u001b[0m\u001b[0m\n\u001b[0m\u001b[0;32m    629\u001b[0m         \u001b[1;32mif\u001b[0m \u001b[0mself\u001b[0m\u001b[1;33m.\u001b[0m\u001b[0mcontext\u001b[0m\u001b[1;33m.\u001b[0m\u001b[0mcheck_hostname\u001b[0m\u001b[1;33m:\u001b[0m\u001b[1;33m\u001b[0m\u001b[0m\n\u001b[0;32m    630\u001b[0m             \u001b[1;32mif\u001b[0m \u001b[1;32mnot\u001b[0m \u001b[0mself\u001b[0m\u001b[1;33m.\u001b[0m\u001b[0mserver_hostname\u001b[0m\u001b[1;33m:\u001b[0m\u001b[1;33m\u001b[0m\u001b[0m\n",
      "\u001b[1;31mKeyboardInterrupt\u001b[0m: "
     ]
    }
   ],
   "source": [
    "import requests\n",
    "from datetime import datetime, date, time, timedelta\n",
    "import time\n",
    "import csv\n",
    "\n",
    "group_id = 10639516 #ID сообщества (здесь без минусов)\n",
    "\n",
    "Token = 'f10e68bfc2deb65ae67263eb7832sdfg89bdс239d80a8ef24e923a7219c7f16ee61ea4409abff74bde41ab08252' #токен для запроса \n",
    "                                                                                                #подставьте свой\n",
    "\n",
    "\n",
    "with open('stats_sum.csv', 'a', newline='') as csvfile:\n",
    "        datawriter = csv.writer(csvfile, delimiter=',',\n",
    "                            quotechar='|', quoting=csv.QUOTE_MINIMAL)\n",
    "        #записываем названия столбцов в csv\n",
    "        datawriter.writerow(['Время']+['Уникальные посетители']+['Просмотры']+\n",
    "                            ['Полный охват']+['Охват подписчиков']+['Подписалось']+['Отписалось'])\n",
    "print ('Записали названия столбцов') #Вывод на экран будем делать для того, чтобы понимать где сейчас работает скрипт\n",
    "\n",
    "#создаем цикл\n",
    "while True:\n",
    "    try:\n",
    "        #получаем текущее время и дату и преобразуем в требуемый формат (строка)\n",
    "        date_today = (datetime.today() - timedelta(hours=4)).strftime('%Y-%m-%d')    \n",
    "        time_today = str(datetime.today().strftime('%Y-%m-%d %H:%M'))\n",
    "        print('Зашли в цикл,', time_today)\n",
    "        #отправляем запрос к ВК\n",
    "        r = requests.get('https://api.vk.com/method/stats.get',\n",
    "                         params={'group_id':group_id,\n",
    "                                 'date_from':date_today, #от сегодня\n",
    "                                 'date_to':date_today, #до сегодня\n",
    "                                 'v':'5.52',\n",
    "                                 'access_token':Token})\n",
    "        print('Отправили запрос')\n",
    "\n",
    "        #начинаем доставать нужные нам данные из того, что прислал ВКонтакте\n",
    "        response = r.json()\n",
    "\n",
    "        visitors = response['response'][0]['visitors'] # visitors — количество уникальных посетителей;\n",
    "        views = response['response'][0]['views'] # views — количество просмотров;\n",
    "        reach = response['response'][0]['reach'] # reach — полный охват;\n",
    "        reach_subscribers = response['response'][0]['reach_subscribers'] # reach_subscribers — охват подписчиков;\n",
    "        subscribed  = response['response'][0]['subscribed'] # subscribed — число новых подписчиков;\n",
    "        unsubscribed = response['response'][0]['unsubscribed'] #unsubscribed — число отписавшихся;\n",
    "        print(time_today, visitors,views,reach,reach_subscribers,subscribed,unsubscribed)\n",
    "        print('Преобразвали данные')\n",
    "        \n",
    "       \n",
    "        \n",
    "        #пишем в csv\n",
    "        with open('stats_sum.csv', 'a', newline='') as csvfile:\n",
    "            datawriter = csv.writer(csvfile, delimiter=',',\n",
    "                                quotechar='|', quoting=csv.QUOTE_MINIMAL)\n",
    "            datawriter.writerow([time_today]+[visitors]+[views]+[reach]+[reach_subscribers]+[subscribed]+[unsubscribed])\n",
    "        \n",
    "        #сообщаем скрипту, что нужно на 1 минуту (60 сек) остановиться\n",
    "        print('Ждём 60 секунд')\n",
    "        time.sleep(1)\n",
    "\n",
    "\n",
    "    except Exception:\n",
    "        print('===============Какая-то ошибка===============')"
   ]
  },
  {
   "cell_type": "markdown",
   "metadata": {},
   "source": [
    "Вот что должно получиться\n",
    "![alt](https://api.monosnap.com/rpc/file/download?id=ki9epa2jfH5OHYWRDgZ4gUXqsVuLky)<br>\n",
    "\n",
    "Рекомендую открывать в текстовом редакторе, чтобы не блокировать запись в файл. Если будете открывать через OpenOffice http://www.openoffice.org/, который адекватно может работать с csv-файлом, то благодаря тому, что мы добавили **try** наш код будет выдавать обработку ошибки, но прекращать выполнение не будет\n",
    "![alt](https://api.monosnap.com/rpc/file/download?id=tRAkgnkj7ce9aoBszccMl8Rkr3BJIU)<br>\n",
    "\n",
    "### Открыть csv через OpenOffice\n",
    "\n",
    "В самом начале он спросит как обработать документ. Вам нужно выбрать следущие параметры:\n",
    "![alt](https://api.monosnap.com/rpc/file/download?id=jPXIjLY0zaYe5XRPPnX7ZOXqr0t9Ih)<br>\n"
   ]
  },
  {
   "cell_type": "markdown",
   "metadata": {},
   "source": [
    "# Домашнее задание к уроку 6\n",
    "\n",
    "1. Создать standalone-приложение\n",
    "2. Получить токен\n",
    "3. Использовать его для получения суммарной статистики \n",
    "4. **кому посложнее** - доработать код, чтобы в файл писались не суммарные значения, а разница. В итоге получитя таблица, которая будет сообщать сколько уников\\просмотров и др. прибавилось за отрезок времени\n",
    "\n",
    "Для моего сообщества динамика показателей следующая:\n",
    "![alt](https://api.monosnap.com/rpc/file/download?id=ZWhIoYjuXT7lQLrRmj3aZPnCpluIuR)<br>\n",
    "\n",
    "Ответы и вопросы по домашке публикуйте здесь - https://vk.com/topic-38369814_33529150\n",
    "\n",
    "**используйте поле ниже для решения самостоятельных задач**\n"
   ]
  },
  {
   "cell_type": "code",
   "execution_count": null,
   "metadata": {
    "collapsed": true
   },
   "outputs": [],
   "source": []
  },
  {
   "cell_type": "markdown",
   "metadata": {
    "collapsed": true
   },
   "source": [
    "-----\n",
    "\n",
    "Далее: [Урок 7: Анализ аудитории сообщества, сайта, списка ID](/notebooks/lesson%207%20-%20Analysis%20of%20audience%20groups%2C%20site%20retargeting%20database%20VKontakte.ipynb)"
   ]
  }
 ],
 "metadata": {
  "kernelspec": {
   "display_name": "Python 3",
   "language": "python",
   "name": "python3"
  },
  "language_info": {
   "codemirror_mode": {
    "name": "ipython",
    "version": 3
   },
   "file_extension": ".py",
   "mimetype": "text/x-python",
   "name": "python",
   "nbconvert_exporter": "python",
   "pygments_lexer": "ipython3",
   "version": "3.5.2"
  }
 },
 "nbformat": 4,
 "nbformat_minor": 0
}

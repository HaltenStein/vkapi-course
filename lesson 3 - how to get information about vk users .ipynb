{
 "cells": [
  {
   "cell_type": "markdown",
   "metadata": {},
   "source": [
    "**Автор:** Сергей Шмаков\n",
    "\n",
    "**Обновление этого документа** и не только публикуется на канале в Телеграм - https://telegram.me/smm_python\n",
    "\n",
    "Другие мои площадки:\n",
    "* ВКонтакте - https://vk.com/smmblog\n",
    "* Youtube - https://youtube.com/smmblog\n",
    "* Блог - http://freesmm.ru"
   ]
  },
  {
   "cell_type": "markdown",
   "metadata": {},
   "source": [
    "# Урок 3: Как получить информацию о нескольких пользователях (объектах)"
   ]
  },
  {
   "cell_type": "markdown",
   "metadata": {},
   "source": [
    "**запустите код ниже**"
   ]
  },
  {
   "cell_type": "code",
   "execution_count": 1,
   "metadata": {
    "collapsed": false
   },
   "outputs": [
    {
     "data": {
      "text/html": [
       "\n",
       "        <iframe\n",
       "            width=\"400\"\n",
       "            height=\"300\"\n",
       "            src=\"https://www.youtube.com/embed/nvH7y9agij0\"\n",
       "            frameborder=\"0\"\n",
       "            allowfullscreen\n",
       "        ></iframe>\n",
       "        "
      ],
      "text/plain": [
       "<IPython.lib.display.YouTubeVideo at 0x5eee1e6fd0>"
      ]
     },
     "execution_count": 1,
     "metadata": {},
     "output_type": "execute_result"
    }
   ],
   "source": [
    "from IPython.display import YouTubeVideo\n",
    "YouTubeVideo(\"nvH7y9agij0\")"
   ]
  },
  {
   "cell_type": "markdown",
   "metadata": {},
   "source": [
    "**Описание в блоге** - http://freesmm.ru/smm-help/api/vk-3/\n",
    "\n",
    "Материалы для обучения:\n",
    "\n",
    "* Списки в Python — http://pythonworld.ru/tipy-dannyx-v-python/spiski-list-funkcii-i-metody-spiskov.html\n",
    "* Цикл for в Python — http://pythonworld.ru/osnovy/cikly-for-i-while-operatory-break-i-continue-volshebnoe-slovo-else.html\n",
    "\n",
    "**Задача: **\n",
    "> получить основную информацию о пользователях и количестве их подписчиков\n",
    "\n",
    "Для начала создадим новую переменню user_id и присвоей ей значение 928041 и подставим в параметр запроса эту переменную\n",
    "было\n",
    "```python\n",
    "r = requests.get('https://api.vk.com/method/users.get',params={'user_ids':928041,'fields':'followers_count'})\n",
    "```\n",
    "стало\n",
    "```python\n",
    "r = requests.get('https://api.vk.com/method/users.get',params={'user_ids':user_id,'fields':'followers_count'})\n",
    "```\n",
    "\n",
    "**запустите код ниже**"
   ]
  },
  {
   "cell_type": "code",
   "execution_count": 2,
   "metadata": {
    "collapsed": false
   },
   "outputs": [
    {
     "name": "stdout",
     "output_type": "stream",
     "text": [
      "{'response': [{'uid': 928041, 'last_name': 'Шмаков', 'first_name': 'Сергей', 'followers_count': 3402}]}\n"
     ]
    }
   ],
   "source": [
    "import requests\n",
    "user_id = 928041 #новая переменная\n",
    "#добавляем переменную в параметр запрос\n",
    "r = requests.get('https://api.vk.com/method/users.get',params={'user_ids':user_id,'fields':'followers_count'}) \n",
    "print(r.json())"
   ]
  },
  {
   "cell_type": "markdown",
   "metadata": {},
   "source": [
    "**Задача**:\n",
    "> Получить основную информацию о списке пользователей (1, 928041, 342, 7527275) и количестве их подписчиков\n",
    "\n",
    "## Вариант 1: С помощью цикла for\n",
    "Списки в Python — http://pythonworld.ru/tipy-dannyx-v-python/spiski-list-funkcii-i-metody-spiskov.html\n",
    "\n",
    "1. Создаём список **user_id = [1, 928041, 342, 7527275]**\n",
    "2. С помощью цикла **for** проходим по каждому элементу списка (**i**), то есть в выражение\n",
    "```python\n",
    "requests.get('https://api.vk.com/method/users.get',params={'user_ids':i,'fields':'followers_count'})\n",
    "```\n",
    "на место **i** будет поочередно подставлено значение равное элементу списка: сначала 1, потом 928041, потом 342 и 7527275"
   ]
  },
  {
   "cell_type": "code",
   "execution_count": 3,
   "metadata": {
    "collapsed": false
   },
   "outputs": [
    {
     "name": "stdout",
     "output_type": "stream",
     "text": [
      "{'response': [{'uid': 1, 'last_name': 'Дуров', 'first_name': 'Павел', 'followers_count': 6089008}]}\n",
      "{'response': [{'uid': 928041, 'last_name': 'Шмаков', 'first_name': 'Сергей', 'followers_count': 3402}]}\n",
      "{'response': [{'uid': 342, 'last_name': 'Svetloff', 'hidden': 1, 'first_name': 'Dmitry', 'followers_count': 870}]}\n",
      "{'response': [{'uid': 7527275, 'deactivated': 'deleted', 'last_name': 'Жукова', 'first_name': 'Алла'}]}\n"
     ]
    }
   ],
   "source": [
    "import requests\n",
    "user_id = [1, 928041, 342, 7527275]\n",
    "for i in user_id:\n",
    "    r = requests.get('https://api.vk.com/method/users.get',params={'user_ids':i,'fields':'followers_count'})\n",
    "    print(r.json())"
   ]
  },
  {
   "cell_type": "markdown",
   "metadata": {},
   "source": [
    "## Вариант 2: отправляем до 1000 id сразу\n",
    "Вариант 1 демонстрирует возможность работы с помощью циклов. Минус этого варианта в том, что нам нужно отправить ровно столько запросов к ВКонткте, сколько id списке у нас есть. В нашем примере это целых 4 запроса. Запросы лучше всегда эконосить и если есть возможность получить всё и сразу, то этот вариант можно признать лучшим.\n",
    "\n",
    "В документации к методу https://vk.com/dev/users.get указано, что можно разом получить информацию не более чем о **1000** пользователей\n",
    "> у разных методов **разные ограничения**\n",
    "\n",
    "Таким образом, нам нужно преобразовать python-список \n",
    "```python\n",
    "user_id = [1, 928041, 342, 7527275]\n",
    "``` \n",
    "в строку \n",
    "```python\n",
    "user_id = '1, 928041, 342, 7527275'\n",
    "```\n",
    "\n",
    "В этом случае использовать цикл for нам не потребуется\n",
    "\n",
    "**запустите код ниже**"
   ]
  },
  {
   "cell_type": "code",
   "execution_count": 4,
   "metadata": {
    "collapsed": false
   },
   "outputs": [
    {
     "name": "stdout",
     "output_type": "stream",
     "text": [
      "{'response': [{'uid': 1, 'last_name': 'Дуров', 'first_name': 'Павел', 'followers_count': 6089009}, {'uid': 928041, 'last_name': 'Шмаков', 'first_name': 'Сергей', 'followers_count': 3402}, {'uid': 342, 'last_name': 'Svetloff', 'hidden': 1, 'first_name': 'Dmitry', 'followers_count': 870}, {'uid': 7527275, 'deactivated': 'deleted', 'last_name': 'Жукова', 'first_name': 'Алла'}]}\n"
     ]
    }
   ],
   "source": [
    "import requests\n",
    "user_id = '1, 928041, 342, 7527275' #теперь это строка\n",
    "r = requests.get('https://api.vk.com/method/users.get',params={'user_ids':user_id,'fields':'followers_count'})\n",
    "print(r.json())"
   ]
  },
  {
   "cell_type": "markdown",
   "metadata": {},
   "source": [
    "## Домашнее задание\n",
    "> * Получить основную информацию о своих друзьях или любого другого пользователя ВК. \n",
    "Нужно составить список друзей используя метод https://vk.com/dev/friends.get \n",
    "\n",
    "Ответы и вопросы по домашке публикуйте здесь - https://vk.com/topic-38369814_33529150\n",
    "\n",
    "**используйте поле ниже для решения самостоятельных задач**"
   ]
  },
  {
   "cell_type": "code",
   "execution_count": null,
   "metadata": {
    "collapsed": true
   },
   "outputs": [],
   "source": []
  },
  {
   "cell_type": "markdown",
   "metadata": {
    "collapsed": true
   },
   "source": [
    "-----\n",
    "\n",
    "Далее: [Урок 4: Получить информацию о 100 постах в сообществе ВКонтакте](/notebooks/lesson%204%20-%20how%20to%20get%20information%20about%20100%20posts.ipynb)"
   ]
  }
 ],
 "metadata": {
  "kernelspec": {
   "display_name": "Python 3",
   "language": "python",
   "name": "python3"
  },
  "language_info": {
   "codemirror_mode": {
    "name": "ipython",
    "version": 3
   },
   "file_extension": ".py",
   "mimetype": "text/x-python",
   "name": "python",
   "nbconvert_exporter": "python",
   "pygments_lexer": "ipython3",
   "version": "3.5.2"
  }
 },
 "nbformat": 4,
 "nbformat_minor": 0
}

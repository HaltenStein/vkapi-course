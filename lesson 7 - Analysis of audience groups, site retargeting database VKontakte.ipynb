{
 "cells": [
  {
   "cell_type": "markdown",
   "metadata": {},
   "source": [
    "**Автор:** Сергей Шмаков\n",
    "\n",
    "**Обновление этого документа** и не только публикуется на канале в Телеграм - https://telegram.me/smm_python\n",
    "\n",
    "Другие мои площадки:\n",
    "* ВКонтакте - https://vk.com/smmblog\n",
    "* Youtube - https://youtube.com/smmblog\n",
    "* Блог - http://freesmm.ru"
   ]
  },
  {
   "cell_type": "markdown",
   "metadata": {},
   "source": [
    "# Урок 7: Анализ аудитории сообщества, сайта, списка ID "
   ]
  },
  {
   "cell_type": "markdown",
   "metadata": {},
   "source": [
    "**запустите код ниже** (видео ютуб)"
   ]
  },
  {
   "cell_type": "code",
   "execution_count": 2,
   "metadata": {
    "collapsed": false
   },
   "outputs": [
    {
     "data": {
      "text/html": [
       "\n",
       "        <iframe\n",
       "            width=\"400\"\n",
       "            height=\"300\"\n",
       "            src=\"https://www.youtube.com/embed/y-VaNbaQ51A\"\n",
       "            frameborder=\"0\"\n",
       "            allowfullscreen\n",
       "        ></iframe>\n",
       "        "
      ],
      "text/plain": [
       "<IPython.lib.display.YouTubeVideo at 0x545d979320>"
      ]
     },
     "execution_count": 2,
     "metadata": {},
     "output_type": "execute_result"
    }
   ],
   "source": [
    "from IPython.display import YouTubeVideo\n",
    "YouTubeVideo(\"y-VaNbaQ51A\")"
   ]
  },
  {
   "cell_type": "markdown",
   "metadata": {},
   "source": [
    "В 5 уроке мы анализировали стену сообщества (количество лайков\\репостов\\комментариев), а в 6 научились собирать статистику группы, использую access_token. Всё это не зря, так как полученные знания и опыт из предыдущих уроков нам полностью понадобится, чтобы в итоге получить это:\n",
    "\n",
    "![alt](https://api.monosnap.com/rpc/file/download?id=FdFXicUSPvVaIsSiGxGTLMHofdX2uw)<br>\n",
    "![alt](https://api.monosnap.com/rpc/file/download?id=HoFXgiMyEcmMjjGjf7UY4GCu3CWlne)"
   ]
  },
  {
   "cell_type": "markdown",
   "metadata": {},
   "source": [
    "Вообще зачем нужен анализ аудитории сообщества, сайта, списка ID:\n",
    "* хотим знать какие группы пользователей являются подписчиками сообщества \\ посетители сайта\n",
    "* выстроить на основе полученных данных предположения, которые могут повлиять на то как вести в целом взаимодействие с аудиторией\n",
    "\n",
    "Есть несколько способов анализа аудитории сообщества\\аудитории сайта (при установленном коде ретаргетинга):\n",
    "1. Если есть доступ к статистике, то мы можем посмотреть часть информации, которую отображает ВКонтакте\n",
    "2. Спарсить всех пользователей со списком всех полей - https://vk.com/dev/groups.getMembers\n",
    "3, Используя рекламное API - https://vk.com/dev/ads\n",
    "\n",
    "## Минусы и Плюсы\n",
    "\n",
    "### Через статистику\n",
    "**Плюсы**:\n",
    "\n",
    "+ быстро\n",
    "+ есть история развития сообщества\n",
    "\n",
    "**Минусы** :\n",
    "\n",
    "+ если статистика закрыта, то ничего проанализировать не получится, либо придётся писать админу, чтобы он открыл статистику\n",
    "+ мало данных\n",
    "\n",
    "### Через парсинг участников сообщества\n",
    "**Плюсы**:\n",
    "\n",
    "+ можно получить информацию о каждом участнике\n",
    "+ есть история развития сообщества\n",
    "\n",
    "**Минусы** :\n",
    "\n",
    "+ не все данные можно получить, так как пользователи заполняют не все поля (возраст, город, страна и тд)\n",
    "+ сложность обработки данных (собранный файл будет содержать много данных (если сообщество большое) и работать в Excel будет с ним очень сложно\\медленно)\n",
    "\n",
    "### Через рекламное API\n",
    "**Плюсы**:\n",
    "\n",
    "+ множество параметров (больше чем можно получить через статистику группы или через парсинг участников)\n",
    "+ можно анализировать аудиторию сообщества, сайта (при наличии кода ретаргетинга и доступа к нему), приложения\n",
    "\n",
    "**Минусы** :\n",
    "\n",
    "+ будем знать только количество аудитории\n",
    "+ количество аудитории чаще всего не совпадает с реальным, но погрешность приемлемая\n",
    "![alt](https://api.monosnap.com/rpc/file/download?id=HCgYyn5LEZyhbIC2n2i6TjBHhmQp6V)\n",
    "> Конечно, можно добавить еще анализ действий на стене и другие варианты, но остановимся пока на этих 3х.\n"
   ]
  },
  {
   "cell_type": "markdown",
   "metadata": {},
   "source": [
    "Теперь когда у нас есть 3 варианта анализа давайте поставим задачу, чтобы выбрать \"правильный\" метод или несколько\n",
    "\n",
    "**Задача**\n",
    "\n",
    "> + узнать как распределены подписчики сообщества https://vk.com/smmblog по **полу** и **возрасту** (с **точностью** до года - сколько 20-летних М и Ж и тд) - от 20 до 25 лет\n",
    "+ сколько пользователей использовал голоса в приложениях ВКонтакте (по каждой половозрастной группе)\n",
    "+ какими **устройствами** они пользуются\n",
    "\n",
    "Теперь вернёмся к возможным методам анализа. \n",
    "\n",
    "* Парсинг участников из-за своей сложности нам не подойдёт, так как нам не нужно знать \"кто\" конкретно + мы не можем получить данные об использовании голосов и какими устройствами они пользуются (конечно можно, но для этого придётся парсить их стену на предмет публикации через приложения c iOS или Android.\n",
    "\n",
    "* Анализ аудитории через статистику тоже не даст нам те данные, которые нужны. Плюс в статистике сообщества мы можем получить данные только о половозрастных группах\n",
    "![alt](https://api.monosnap.com/rpc/file/download?id=CcEf33gLi1uJzMnZ9ja3qzgNOeUZej)"
   ]
  },
  {
   "cell_type": "markdown",
   "metadata": {},
   "source": [
    "Конечно, я поставил задачу так, чтоб 3 метод анализа был наиболее подходящим для решения. Этот метод можно использовать и руками, меня параметры при создании/обновлении объявления. Так как изучаем Python, то руками мы будем только писать код, который позволит нам анализировать аудиторию гораздо быстрее и по множеству параметров.\n",
    "\n",
    "Преступим к написанию кода - последовательно усложняя код.\n",
    "\n",
    "# Пишем код\n",
    "Для начала нам нужно правильно сформировать запрос к методу https://vk.com/dev/ads.getTargetingStats\n",
    "> у меня на это ушло пару дней, несколько вопросов, пару взрывов мозга, но всё привело к тому, что вы читаете этот готовый урок.\n",
    "\n",
    "Вся сложность была в правильном осмыслении \"criteria - сериализованный JSON-объект, описывающий параметры таргетинга. Описание объекта criteria см. ниже. \"\n",
    "![alt](https://api.monosnap.com/rpc/file/download?id=1y6lH4hYpqbGyumlV4W8G7NNemNNim)\n",
    "\n",
    "## Шаг 1: отправляем запрос\n",
    "\n",
    "Но для начала обновите токен с получением прав на рекламу!!!"
   ]
  },
  {
   "cell_type": "code",
   "execution_count": 44,
   "metadata": {
    "collapsed": false
   },
   "outputs": [
    {
     "data": {
      "text/plain": [
       "{'response': {'audience_count': 572,\n",
       "  'recommended_cpc': '34.69',\n",
       "  'recommended_cpm': '10.09'}}"
      ]
     },
     "execution_count": 44,
     "metadata": {},
     "output_type": "execute_result"
    }
   ],
   "source": [
    "import requests #для отправки запроса и обработки json\n",
    "import json  #поребуется для сериализации json\n",
    "\n",
    "Token = \"b526251b9f8aa7eb0c0595913591749b3164d6874a04bce379a8a9050549fae7b6038c13a2bd9\" #подставьте свой токен\n",
    "groups = 38369814 #id vk.com/smmblog\n",
    "\n",
    "#Формируем запрос\n",
    "\n",
    "r = requests.get('https://api.vk.com/method/ads.getTargetingStats',\n",
    "                     params={'account_id':1600169068, #id рекламного аккаунта https://vk.com/ads?act=settings\n",
    "                            'criteria':json.dumps({'sex':0,\n",
    "                                                    'age_from':20, #возраст \"от\"\n",
    "                                                    'age_to':20, #возраст \"до\"\n",
    "                                                    'groups':groups\n",
    "                                                   }),\n",
    "                             #'ad_id':23301483,\n",
    "                             'ad_format':1, #может влиять на стоимость cpc и cpm\n",
    "                              'link_url':'http://yoursite.cоm',\n",
    "                              'link_domain':'http://yoursite.cоm',\n",
    "                             'v':'5.52',\n",
    "                             'access_token':Token})\n",
    "\n",
    "r.json()"
   ]
  },
  {
   "cell_type": "markdown",
   "metadata": {},
   "source": [
    "**Что мы получили?** \n",
    "Количество пользователей(**573**), которые подходят под параметры аудитории: \n",
    "* пол - любой\n",
    "* возраст - от 20 до 20\n",
    "* участники сообщества - https://vk.com/smmblog"
   ]
  },
  {
   "cell_type": "markdown",
   "metadata": {},
   "source": [
    "**Теория**\n",
    "\n",
    "Что делает json.dumps\n",
    "* http://pythonworld.ru/moduli/modul-json.html\n",
    "> json.dumps(obj, skipkeys=False, ensure_ascii=True, check_circular=True, allow_nan=True, cls=None, indent=None, separators=None, default=None, sort_keys=False, **kw) - сериализует obj в строку JSON-формата.\n"
   ]
  },
  {
   "cell_type": "code",
   "execution_count": 2,
   "metadata": {
    "collapsed": false
   },
   "outputs": [
    {
     "data": {
      "text/plain": [
       "'{\"groups\": 1, \"age_from\": 20, \"age_to\": 20, \"sex\": 0}'"
      ]
     },
     "execution_count": 2,
     "metadata": {},
     "output_type": "execute_result"
    }
   ],
   "source": [
    "import json\n",
    "a = json.dumps({'sex':0,\n",
    "            'age_from':20,\n",
    "            'age_to':20,\n",
    "            'groups':1\n",
    "            })\n",
    "a"
   ]
  },
  {
   "cell_type": "markdown",
   "metadata": {},
   "source": [
    "Как видите, получилась строка (ограничена одинарными кавычками слева и справа), а кавычки внутри словаря стали двойными."
   ]
  },
  {
   "cell_type": "markdown",
   "metadata": {},
   "source": [
    "## Шаг 2: получаем данные о нескольких группах возрастов\n",
    "\n",
    "В первом шаге мы получили данные только для 20-20, но нам нужно получить и к 21-21, и т.д. Как быть? Использовать **цикл for**, а чтобы было по чему проходить циклу, то нужно создать список с возрастом:\n",
    "\n",
    "```python\n",
    "age_from = [20,21,22,23,24,25] #возраст \"от\"\n",
    "```"
   ]
  },
  {
   "cell_type": "code",
   "execution_count": 4,
   "metadata": {
    "collapsed": true
   },
   "outputs": [],
   "source": [
    "import requests #для отправки запроса и обработки json\n",
    "import json  #поребуется для сериализации json\n",
    "\n",
    "Token = \"b526251b9f8aa7eb0c0595913591749b3164d6874a04bce379a8a9050549fae7b6038c13a2bd9\" #подставьте свой токен\n",
    "groups = 38369814 #id vk.com/smmblog\n",
    "\n",
    "age_from = [20,21,22,23,24,25]\n",
    "\n",
    "\n",
    "for age_from in age_from:\n",
    "    #Формируем запрос\n",
    "    r = requests.get('https://api.vk.com/method/ads.getTargetingStats',\n",
    "                         params={'account_id':1600169068, #id рекламного аккаунта https://vk.com/ads?act=settings\n",
    "                                'criteria':json.dumps({'sex':0,\n",
    "                                                        'age_from':age_from, #возраст \"от\" - заменили\n",
    "                                                        'age_to':20, #возраст \"до\"\n",
    "                                                        'groups':groups\n",
    "                                                       }),\n",
    "                                 #'ad_id':23301483,\n",
    "                                 'ad_format':1, #может влиять на стоимость cpc и cpm\n",
    "                                  'link_url':'http://yoursite.cоm',\n",
    "                                  'link_domain':'http://yoursite.cоm',\n",
    "                                 'v':'5.52',\n",
    "                                 'access_token':Token})\n",
    "\n",
    "    r.json()"
   ]
  },
  {
   "cell_type": "code",
   "execution_count": 5,
   "metadata": {
    "collapsed": false
   },
   "outputs": [
    {
     "data": {
      "text/plain": [
       "{'error': {'error_code': 9,\n",
       "  'error_msg': 'Flood control',\n",
       "  'request_params': [{'key': 'oauth', 'value': '1'},\n",
       "   {'key': 'method', 'value': 'ads.getTargetingStats'},\n",
       "   {'key': 'account_id', 'value': '1600169068'},\n",
       "   {'key': 'v', 'value': '5.52'},\n",
       "   {'key': 'link_url', 'value': 'http://yoursite.cоm'},\n",
       "   {'key': 'criteria',\n",
       "    'value': '{\"groups\": 38369814, \"age_from\": 25, \"age_to\": 20, \"sex\": 0}'},\n",
       "   {'key': 'ad_format', 'value': '1'},\n",
       "   {'key': 'link_domain', 'value': 'http://yoursite.cоm'}]}}"
      ]
     },
     "execution_count": 5,
     "metadata": {},
     "output_type": "execute_result"
    }
   ],
   "source": [
    "r.json()"
   ]
  },
  {
   "cell_type": "markdown",
   "metadata": {},
   "source": [
    "## Шаг 3: устранение ошибки\n",
    "\n",
    "Так, выдало ошибк с кодом **9**. Давайте разбираться что это за ошибка (список всех ошибок с кодами - https://vk.com/dev/errors)\n",
    "![alt](https://api.monosnap.com/rpc/file/download?id=i0VQqlNyuzvLnsS15qwk7wFWjY0gl1)\n",
    "\n",
    "Так, слишком много однотипных действий. Мы помним, что ограничения обращений к api vk составляет 3 в секунду. То есть нам нужно добавить *time.sleep(.33)*"
   ]
  },
  {
   "cell_type": "code",
   "execution_count": 6,
   "metadata": {
    "collapsed": true
   },
   "outputs": [],
   "source": [
    "import requests #для отправки запроса и обработки json\n",
    "import json  #поребуется для сериализации json\n",
    "import time\n",
    "\n",
    "Token = \"b526251b9f8aa7eb0c0595913591749b3164d6874a04bce379a8a9050549fae7b6038c13a2bd9\" #подставьте свой токен\n",
    "groups = 38369814 #id vk.com/smmblog\n",
    "\n",
    "age_from = [20,21,22,23,24,25]\n",
    "\n",
    "\n",
    "for age_from in age_from:\n",
    "    #Формируем запрос\n",
    "    r = requests.get('https://api.vk.com/method/ads.getTargetingStats',\n",
    "                         params={'account_id':1600169068, #id рекламного аккаунта https://vk.com/ads?act=settings\n",
    "                                'criteria':json.dumps({'sex':0,\n",
    "                                                        'age_from':age_from, #возраст \"от\" - заменили\n",
    "                                                        'age_to':20, #возраст \"до\"\n",
    "                                                        'groups':groups\n",
    "                                                       }),\n",
    "                                 #'ad_id':23301483,\n",
    "                                 'ad_format':1, #может влиять на стоимость cpc и cpm\n",
    "                                  'link_url':'http://yoursite.cоm',\n",
    "                                  'link_domain':'http://yoursite.cоm',\n",
    "                                 'v':'5.52',\n",
    "                                 'access_token':Token})\n",
    "\n",
    "    r.json()\n",
    "    time.sleep(.33)"
   ]
  },
  {
   "cell_type": "code",
   "execution_count": 7,
   "metadata": {
    "collapsed": false
   },
   "outputs": [
    {
     "data": {
      "text/plain": [
       "{'error': {'error_code': 9,\n",
       "  'error_msg': 'Flood control',\n",
       "  'request_params': [{'key': 'oauth', 'value': '1'},\n",
       "   {'key': 'method', 'value': 'ads.getTargetingStats'},\n",
       "   {'key': 'account_id', 'value': '1600169068'},\n",
       "   {'key': 'v', 'value': '5.52'},\n",
       "   {'key': 'link_url', 'value': 'http://yoursite.cоm'},\n",
       "   {'key': 'criteria',\n",
       "    'value': '{\"groups\": 38369814, \"age_from\": 25, \"age_to\": 20, \"sex\": 0}'},\n",
       "   {'key': 'ad_format', 'value': '1'},\n",
       "   {'key': 'link_domain', 'value': 'http://yoursite.cоm'}]}}"
      ]
     },
     "execution_count": 7,
     "metadata": {},
     "output_type": "execute_result"
    }
   ],
   "source": [
    "r.json()"
   ]
  },
  {
   "cell_type": "markdown",
   "metadata": {},
   "source": [
    "Так, ничего не изменилось. Лезем в рекламный api и ищем информацию. Может мы что-то упустили... https://vk.com/dev/ads\n",
    "![alt](https://api.monosnap.com/rpc/file/download?id=w3XHRQCOqg7zlv5sIfAwnY0GFhFW0P)\n",
    "\n",
    "Ага. Давайте посмотрим что там - https://vk.com/dev/ads_limits\n",
    "\n",
    "### Ограничения на вызов методов Ads API\n",
    "При работе с Ads API стоит учитывать следующие особенности платформы: \n",
    "\n",
    "* **Примитивное ограничение** — ограничение на количество вызываемых методов в течение короткого промежутка времени для каждого пользователя.\n",
    "* **Часовое ограничение** — ограничение на количество вызываемых методов в течение часа для каждого рекламного кабинета\n",
    "\n",
    "#### Примитивное ограничение\n",
    "\n",
    "На серверах стоят различные ограничения на частоту вызовов методов. В частности, платформа не позволяет Вам запускать методы более **двух раз** в течение **одной** секунды.\n",
    "\n",
    "> То есть как минимум time.sleep(.5) , но читаем дальше!\n",
    "\n",
    "#### Конкретные цифры\n",
    "Примитивное ограничение :\n",
    "\n",
    "* **\"Сложные\"** методы (ads.createAds, ads.updateAds, **ads.getTargetingStats**) разрешается запускать не чаще 5 раз в 10 секунд. \n",
    "* Все методы (включая \"сложные\") разрешается запускать не чаще 2 раз в секунду. \n",
    "* ads.getUploadURL разрешается запускать со стандартной частотой для вызовов методов API.\n",
    "\n",
    "> Так как мы используем метод **ads.getTargetingStats**, то мы его можем запрашивать не чаще 5 раз в 10 секунд или 1 каждые 2 секунды. То есть\n",
    "```python\n",
    "time.sleep(2)\n",
    "```\n",
    "\n",
    "Попробуем снова\n"
   ]
  },
  {
   "cell_type": "code",
   "execution_count": null,
   "metadata": {
    "collapsed": false
   },
   "outputs": [],
   "source": [
    "import requests #для отправки запроса и обработки json\n",
    "import json  #поребуется для сериализации json\n",
    "import time\n",
    "\n",
    "Token = \"251b9f8aa7eb0c0595913591749b3164d6874a04bce379a8a9050549fae7b6038c13a2bd9\" #подставьте свой токен\n",
    "groups = 38369814 #id vk.com/smmblog\n",
    "\n",
    "age_from = [20,21,22,23,24,25]\n",
    "\n",
    "\n",
    "for age_from in age_from: #будет подставляться сначала 20,21,22 и тд.\n",
    "    #Формируем запрос\n",
    "    r = requests.get('https://api.vk.com/method/ads.getTargetingStats',\n",
    "                         params={'account_id':1600169068, #id рекламного аккаунта https://vk.com/ads?act=settings\n",
    "                                'criteria':json.dumps({'sex':0,\n",
    "                                                        'age_from':age_from, #возраст \"от\" - заменили\n",
    "                                                        'age_to':20, #возраст \"до\"\n",
    "                                                        'groups':groups\n",
    "                                                       }),\n",
    "                                 #'ad_id':23301483,\n",
    "                                 'ad_format':1, #может влиять на стоимость cpc и cpm\n",
    "                                  'link_url':'http://yoursite.cоm',\n",
    "                                  'link_domain':'http://yoursite.cоm',\n",
    "                                 'v':'5.52',\n",
    "                                 'access_token':Token})\n",
    "\n",
    "    print (r.json())\n",
    "    time.sleep(2)"
   ]
  },
  {
   "cell_type": "markdown",
   "metadata": {},
   "source": [
    "Этот код у нас не сработал. Почему? Наверное потому, что **age_to** мы не меняем. То есть, если для 20-20 в первом прохождении цикла мы еще получим какое-то значение, то при втором когда будет \"возраст от 21 до 20\" ничего не произойдёт. age_to не может быть меньше age_from.\n",
    "\n",
    "Давайте сделаем **age_to = 25**"
   ]
  },
  {
   "cell_type": "code",
   "execution_count": 11,
   "metadata": {
    "collapsed": false
   },
   "outputs": [
    {
     "name": "stdout",
     "output_type": "stream",
     "text": [
      "{'response': {'recommended_cpc': '35.15', 'audience_count': 7036, 'recommended_cpm': '10.09'}}\n",
      "{'response': {'recommended_cpc': '38.86', 'audience_count': 6400, 'recommended_cpm': '10.95'}}\n",
      "{'response': {'recommended_cpc': '38.86', 'audience_count': 5552, 'recommended_cpm': '11.41'}}\n",
      "{'response': {'recommended_cpc': '39.19', 'audience_count': 4497, 'recommended_cpm': '11.20'}}\n",
      "{'response': {'recommended_cpc': '39.48', 'audience_count': 3280, 'recommended_cpm': '11.42'}}\n",
      "{'response': {'recommended_cpc': '41.29', 'audience_count': 1698, 'recommended_cpm': '12.01'}}\n"
     ]
    }
   ],
   "source": [
    "import requests #для отправки запроса и обработки json\n",
    "import json  #поребуется для сериализации json\n",
    "import time\n",
    "\n",
    "Token = \"1234251b9f8aa7eb0c0595913591749b3164d6874a04bce379a8a9050549fae7b6038c13a2bd9\" #подставьте свой токен\n",
    "groups = 38369814 #id vk.com/smmblog\n",
    "\n",
    "age_from = [20,21,22,23,24,25]\n",
    "\n",
    "\n",
    "for age_from in age_from: #будет подставляться сначала 20,21,22 и тд.\n",
    "    #Формируем запрос\n",
    "    r = requests.get('https://api.vk.com/method/ads.getTargetingStats',\n",
    "                         params={'account_id':1600169068, #id рекламного аккаунта https://vk.com/ads?act=settings\n",
    "                                'criteria':json.dumps({'sex':0,\n",
    "                                                        'age_from':age_from, #возраст \"от\" - заменили\n",
    "                                                        'age_to':25, #возраст \"до\"\n",
    "                                                        'groups':groups\n",
    "                                                       }),\n",
    "                                 #'ad_id':23301483,\n",
    "                                 'ad_format':1, #может влиять на стоимость cpc и cpm\n",
    "                                  'link_url':'http://yoursite.cоm',\n",
    "                                  'link_domain':'http://yoursite.cоm',\n",
    "                                 'v':'5.52',\n",
    "                                 'access_token':Token})\n",
    "\n",
    "    print (r.json())\n",
    "    time.sleep(2)"
   ]
  },
  {
   "cell_type": "markdown",
   "metadata": {},
   "source": [
    "Ура! Что-то получили. Теперь давайте разберём что получили.\n",
    "\n",
    "* Первое прохождение цикла: age_from = 20, age_to 25 (от 20 до 25, любого пола) = 'audience_count': 7036\n",
    "* Второе прохождение цилка: age_from = 21, age_to 25 (от 21 до 25, любого пола) = 'audience_count': 6400\n",
    "* Третье прохождение цилка: age_from = 22, age_to 25 (от 21 до 25, любого пола) = 'audience_count': 4497\n",
    "* и тд\n",
    "\n",
    "Надеюсь логика понятна. Результат всё-таки не тот, что нам нужен. Напомню, нам нужно:\n",
    "> + узнать как распределены подписчики сообщества https://vk.com/smmblog по **полу** и **возрасту** (с **точностью** до года - сколько 20-летних М и Ж и тд) - от 20 до 25 лет\n",
    "+ сколько пользователей использовал голоса в приложениях ВКонтакте (по каждой половозрастной группе)\n",
    "+ какими **устройствами** они пользуются\n"
   ]
  },
  {
   "cell_type": "markdown",
   "metadata": {},
   "source": [
    "Чего не хватает?\n",
    "* мы получили данные только для *любого пола*\n",
    "* данные для сегмента лет-лет получили только для 25-25 - 'audience_count': 1698\n",
    "\n",
    "Какие выводы можно сделать?\n",
    "* нужно использовать несколько циклов (разный пол, разный возраст - как минимум 2)\n",
    "* возраст от-до должен быть одинаковый\n",
    "\n",
    "## Шаг 4: дорабатываем код - еще цикл for"
   ]
  },
  {
   "cell_type": "code",
   "execution_count": 12,
   "metadata": {
    "collapsed": false
   },
   "outputs": [
    {
     "name": "stdout",
     "output_type": "stream",
     "text": [
      "{'response': {'recommended_cpc': '30.98', 'audience_count': 200, 'recommended_cpm': '9.01'}}\n",
      "{'response': {'recommended_cpc': '33.04', 'audience_count': 315, 'recommended_cpm': '9.38'}}\n",
      "{'response': {'recommended_cpc': '33.21', 'audience_count': 421, 'recommended_cpm': '9.78'}}\n",
      "{'response': {'recommended_cpc': '34.69', 'audience_count': 534, 'recommended_cpm': '10.09'}}\n",
      "{'response': {'recommended_cpc': '34.69', 'audience_count': 628, 'recommended_cpm': '10.09'}}\n",
      "{'response': {'recommended_cpc': '39.23', 'audience_count': 699, 'recommended_cpm': '11.42'}}\n"
     ]
    },
    {
     "ename": "TypeError",
     "evalue": "'int' object is not iterable",
     "output_type": "error",
     "traceback": [
      "\u001b[1;31m---------------------------------------------------------------------------\u001b[0m",
      "\u001b[1;31mTypeError\u001b[0m                                 Traceback (most recent call last)",
      "\u001b[1;32m<ipython-input-12-b06fecb7893b>\u001b[0m in \u001b[0;36m<module>\u001b[1;34m()\u001b[0m\n\u001b[0;32m     10\u001b[0m \u001b[1;33m\u001b[0m\u001b[0m\n\u001b[0;32m     11\u001b[0m \u001b[1;32mfor\u001b[0m \u001b[0msex\u001b[0m \u001b[1;32min\u001b[0m \u001b[0msex\u001b[0m\u001b[1;33m:\u001b[0m\u001b[1;33m\u001b[0m\u001b[0m\n\u001b[1;32m---> 12\u001b[1;33m     \u001b[1;32mfor\u001b[0m \u001b[0mage_from\u001b[0m \u001b[1;32min\u001b[0m \u001b[0mage_from\u001b[0m\u001b[1;33m:\u001b[0m \u001b[1;31m#будет подставляться сначала 20,21,22 и тд.\u001b[0m\u001b[1;33m\u001b[0m\u001b[0m\n\u001b[0m\u001b[0;32m     13\u001b[0m         \u001b[0mage_to\u001b[0m \u001b[1;33m=\u001b[0m \u001b[0mage_from\u001b[0m \u001b[1;31m#лет \"от\" = лет \"до\" 20=20 и тд.\u001b[0m\u001b[1;33m\u001b[0m\u001b[0m\n\u001b[0;32m     14\u001b[0m         \u001b[1;31m#Формируем запрос\u001b[0m\u001b[1;33m\u001b[0m\u001b[1;33m\u001b[0m\u001b[0m\n",
      "\u001b[1;31mTypeError\u001b[0m: 'int' object is not iterable"
     ]
    }
   ],
   "source": [
    "import requests #для отправки запроса и обработки json\n",
    "import json  #поребуется для сериализации json\n",
    "import time\n",
    "\n",
    "Token = \"32134526251b9f8aa7eb0c0595913591749b3164d6874a04bce379a8a9050549fae7b6038c13a2bd9\" #подставьте свой токен\n",
    "groups = 38369814 #id vk.com/smmblog\n",
    "\n",
    "age_from = [20,21,22,23,24,25]\n",
    "sex = [1,2]\n",
    "\n",
    "for sex in sex:\n",
    "    for age_from in age_from: #будет подставляться сначала 20,21,22 и тд.\n",
    "        age_to = age_from #лет \"от\" = лет \"до\" 20=20 и тд.\n",
    "        #Формируем запрос\n",
    "        r = requests.get('https://api.vk.com/method/ads.getTargetingStats',\n",
    "                             params={'account_id':1600169068, #id рекламного аккаунта https://vk.com/ads?act=settings\n",
    "                                    'criteria':json.dumps({'sex':sex, #подставляем 1 или 2 (Ж-1 или М-2 или Все-0)\n",
    "                                                            'age_from':age_from, #возраст \"от\" - заменили\n",
    "                                                            'age_to':age_to, #возраст \"до\" - заменили\n",
    "                                                            'groups':groups\n",
    "                                                           }),\n",
    "                                     #'ad_id':23301483,\n",
    "                                     'ad_format':1, #может влиять на стоимость cpc и cpm\n",
    "                                      'link_url':'http://yoursite.cоm',\n",
    "                                      'link_domain':'http://yoursite.cоm',\n",
    "                                     'v':'5.52',\n",
    "                                     'access_token':Token})\n",
    "\n",
    "        print (r.json())\n",
    "        time.sleep(2)"
   ]
  },
  {
   "cell_type": "markdown",
   "metadata": {},
   "source": [
    "Ошибка! В чем причина? Давайте посмотрим на циклы и какие переменные они используют:\n",
    "\n",
    "```python\n",
    "age_from = [20,21,22,23,24,25]\n",
    "sex = [1,2]\n",
    "\n",
    "for sex in sex:\n",
    "    for age_from in age_from: #будет подставляться сначала 20,21,22 и тд.\n",
    "```\n",
    "\n",
    "Как будет проходить цикл:\n",
    "1. sex = 1, age_from = 20\n",
    "2. sex = 1, age_from = 21\n",
    "3. sex = 1, age_from = 22\n",
    "4. sex = 1, age_from = 23\n",
    "5. sex = 1, age_from = 24\n",
    "6. sex = 1, age_from = 25 ###После 6 прохода мы получаем ошибку. Причина в том, что у нас кончились элементы в списке\n",
    "7. sex = 2, age_from = ???\n",
    "\n",
    "На 7 шаге для нас понятно, то нужно подставить снова 20, но как это поправить в коде? \n",
    "\n",
    "> Прежде чем смотреть ответ ниже - **подумайте самостоятельно**.\n",
    "\n"
   ]
  },
  {
   "cell_type": "code",
   "execution_count": null,
   "metadata": {
    "collapsed": true
   },
   "outputs": [],
   "source": [
    "#думай сам"
   ]
  },
  {
   "cell_type": "code",
   "execution_count": null,
   "metadata": {
    "collapsed": true
   },
   "outputs": [],
   "source": [
    "#думай сам"
   ]
  },
  {
   "cell_type": "code",
   "execution_count": 13,
   "metadata": {
    "collapsed": true
   },
   "outputs": [],
   "source": [
    "#думай сам"
   ]
  },
  {
   "cell_type": "markdown",
   "metadata": {},
   "source": [
    "Надеюсь, вы самостоятельно подумали, так как это лучше помогает разобраться. Я сам не с первого раза написал правильный вариант, переставляю определенные переменные\\циклы и тд.\n",
    "\n",
    "Как же исправить?\n",
    "\n",
    "Смотрите, переменная **age_from** у нас объявлена вне цикла. Нам же, как я писал выше, нужно после смены *sex=1* на *sex=2* (первый цикл) снова пойти по значениям возрастов в списке *age_from = [20,21,22,23,24,25]*\n",
    "\n",
    "Переменную age_from нужно поместить внутрь цикла **for sex in sex**:\n",
    "\n",
    "**Было**\n",
    "```python\n",
    "age_from = [20,21,22,23,24,25]\n",
    "sex = [1,2]\n",
    "for sex in sex:\n",
    "    for age_from in age_from: #будет подставляться сначала 20,21,22 и тд.\n",
    "```\n",
    "**Стало**\n",
    "```python\n",
    "sex = [1,2]\n",
    "for sex in sex:\n",
    "    age_from = [20,21,22,23,24,25] #переместили в цикл\n",
    "    for age_from in age_from: #будет подставляться сначала 20,21,22 и тд.\n",
    "```"
   ]
  },
  {
   "cell_type": "code",
   "execution_count": 15,
   "metadata": {
    "collapsed": false
   },
   "outputs": [
    {
     "name": "stdout",
     "output_type": "stream",
     "text": [
      "{'response': {'recommended_cpc': '30.98', 'audience_count': 200, 'recommended_cpm': '9.01'}}\n",
      "{'response': {'recommended_cpc': '33.04', 'audience_count': 315, 'recommended_cpm': '9.38'}}\n",
      "{'response': {'recommended_cpc': '33.21', 'audience_count': 421, 'recommended_cpm': '9.78'}}\n",
      "{'response': {'recommended_cpc': '34.69', 'audience_count': 534, 'recommended_cpm': '10.09'}}\n",
      "{'response': {'recommended_cpc': '34.69', 'audience_count': 628, 'recommended_cpm': '10.09'}}\n",
      "{'response': {'recommended_cpc': '39.23', 'audience_count': 699, 'recommended_cpm': '11.42'}}\n",
      "{'response': {'recommended_cpc': '34.69', 'audience_count': 373, 'recommended_cpm': '10.09'}}\n",
      "{'response': {'recommended_cpc': '36.09', 'audience_count': 450, 'recommended_cpm': '10.20'}}\n",
      "{'response': {'recommended_cpc': '37.83', 'audience_count': 543, 'recommended_cpm': '10.83'}}\n",
      "{'response': {'recommended_cpc': '39.97', 'audience_count': 567, 'recommended_cpm': '11.62'}}\n",
      "{'response': {'recommended_cpc': '39.35', 'audience_count': 809, 'recommended_cpm': '11.48'}}\n",
      "{'response': {'recommended_cpc': '41.29', 'audience_count': 999, 'recommended_cpm': '12.01'}}\n"
     ]
    }
   ],
   "source": [
    "import requests #для отправки запроса и обработки json\n",
    "import json  #поребуется для сериализации json\n",
    "import time\n",
    "\n",
    "Token = \"2134b526251b9f8aa7eb0c0595913591749b3164d6874a04bce379a8a9050549fae7b6038c13a2bd9\" #подставьте свой токен\n",
    "groups = 38369814 #id vk.com/smmblog\n",
    "\n",
    "\n",
    "sex = [1,2]\n",
    "\n",
    "for sex in sex:\n",
    "    age_from = [20,21,22,23,24,25] #переместили в цикл\n",
    "    for age_from in age_from: #будет подставляться сначала 20,21,22 и тд.\n",
    "        age_to = age_from #лет \"от\" = лет \"до\" 20=20 и тд.\n",
    "        #Формируем запрос\n",
    "        r = requests.get('https://api.vk.com/method/ads.getTargetingStats',\n",
    "                             params={'account_id':1600169068, #id рекламного аккаунта https://vk.com/ads?act=settings\n",
    "                                    'criteria':json.dumps({'sex':sex, #подставляем 1 или 2 (Ж-1 или М-2 или Все-0)\n",
    "                                                            'age_from':age_from, #возраст \"от\" - заменили\n",
    "                                                            'age_to':age_to, #возраст \"до\" - заменили\n",
    "                                                            'groups':groups\n",
    "                                                           }),\n",
    "                                     #'ad_id':23301483,\n",
    "                                     'ad_format':1, #может влиять на стоимость cpc и cpm\n",
    "                                      'link_url':'http://yoursite.cоm',\n",
    "                                      'link_domain':'http://yoursite.cоm',\n",
    "                                     'v':'5.52',\n",
    "                                     'access_token':Token})\n",
    "\n",
    "        print (r.json())\n",
    "        time.sleep(2)"
   ]
  },
  {
   "cell_type": "markdown",
   "metadata": {},
   "source": [
    "Поздравляю! Уже ближе к тому, что нам нужно.\n",
    "\n",
    "Мы получили 12 результатов (2 пола * 6 возрастов). Давайте удостоверимся, что мы получаем точно данные для 20-20,21-21 и т.д. для нужного пола.\n",
    "\n",
    "Доработаем **print**\n",
    "\n",
    "```python\n",
    "print (sex, age_from, age_to, r.json())\n",
    "```"
   ]
  },
  {
   "cell_type": "code",
   "execution_count": 16,
   "metadata": {
    "collapsed": false
   },
   "outputs": [
    {
     "name": "stdout",
     "output_type": "stream",
     "text": [
      "1 20 20 {'response': {'recommended_cpc': '30.98', 'audience_count': 200, 'recommended_cpm': '9.01'}}\n",
      "1 21 21 {'response': {'recommended_cpc': '33.04', 'audience_count': 315, 'recommended_cpm': '9.38'}}\n",
      "1 22 22 {'response': {'recommended_cpc': '33.21', 'audience_count': 421, 'recommended_cpm': '9.78'}}\n",
      "1 23 23 {'response': {'recommended_cpc': '34.69', 'audience_count': 534, 'recommended_cpm': '10.09'}}\n",
      "1 24 24 {'response': {'recommended_cpc': '34.69', 'audience_count': 628, 'recommended_cpm': '10.09'}}\n",
      "1 25 25 {'response': {'recommended_cpc': '39.23', 'audience_count': 699, 'recommended_cpm': '11.42'}}\n",
      "2 20 20 {'response': {'recommended_cpc': '34.69', 'audience_count': 373, 'recommended_cpm': '10.09'}}\n",
      "2 21 21 {'response': {'recommended_cpc': '36.09', 'audience_count': 450, 'recommended_cpm': '10.20'}}\n",
      "2 22 22 {'response': {'recommended_cpc': '37.83', 'audience_count': 543, 'recommended_cpm': '10.83'}}\n",
      "2 23 23 {'response': {'recommended_cpc': '39.97', 'audience_count': 567, 'recommended_cpm': '11.62'}}\n",
      "2 24 24 {'response': {'recommended_cpc': '39.35', 'audience_count': 809, 'recommended_cpm': '11.48'}}\n",
      "2 25 25 {'response': {'recommended_cpc': '41.29', 'audience_count': 999, 'recommended_cpm': '12.01'}}\n"
     ]
    }
   ],
   "source": [
    "import requests #для отправки запроса и обработки json\n",
    "import json  #поребуется для сериализации json\n",
    "import time\n",
    "\n",
    "Token = \"12346251b9f8aa7eb0c0595913591749b3164d6874a04bce379a8a9050549fae7b6038c13a2bd9\" #подставьте свой токен\n",
    "groups = 38369814 #id vk.com/smmblog\n",
    "\n",
    "\n",
    "sex = [1,2]\n",
    "\n",
    "for sex in sex:\n",
    "    age_from = [20,21,22,23,24,25] #переместили в цикл\n",
    "    for age_from in age_from: #будет подставляться сначала 20,21,22 и тд.\n",
    "        age_to = age_from #лет \"от\" = лет \"до\" 20=20 и тд.\n",
    "        #Формируем запрос\n",
    "        r = requests.get('https://api.vk.com/method/ads.getTargetingStats',\n",
    "                             params={'account_id':1600169068, #id рекламного аккаунта https://vk.com/ads?act=settings\n",
    "                                    'criteria':json.dumps({'sex':sex, #подставляем 1 или 2 (Ж-1 или М-2 или Все-0)\n",
    "                                                            'age_from':age_from, #возраст \"от\" - заменили\n",
    "                                                            'age_to':age_to, #возраст \"до\" - заменили\n",
    "                                                            'groups':groups\n",
    "                                                           }),\n",
    "                                     #'ad_id':23301483,\n",
    "                                     'ad_format':1, #может влиять на стоимость cpc и cpm\n",
    "                                      'link_url':'http://yoursite.cоm',\n",
    "                                      'link_domain':'http://yoursite.cоm',\n",
    "                                     'v':'5.52',\n",
    "                                     'access_token':Token})\n",
    "\n",
    "        print (sex, age_from, age_to, r.json())\n",
    "        time.sleep(2)"
   ]
  },
  {
   "cell_type": "markdown",
   "metadata": {},
   "source": [
    "## Шаг 6: оставляем только нужные данные\n",
    "\n",
    "Из 4 урока мы научились оставлять только те данные, которые нам нужны. Так как из *{'response': {'recommended_cpc': '41.29', 'audience_count': 999, 'recommended_cpm': '12.01'}}* , нам нужно только значение для **'audience_count': 999**"
   ]
  },
  {
   "cell_type": "code",
   "execution_count": 18,
   "metadata": {
    "collapsed": false,
    "scrolled": true
   },
   "outputs": [
    {
     "name": "stdout",
     "output_type": "stream",
     "text": [
      "1 20 20 200\n",
      "1 21 21 315\n",
      "1 22 22 421\n",
      "1 23 23 534\n",
      "1 24 24 628\n",
      "1 25 25 699\n",
      "2 20 20 373\n",
      "2 21 21 450\n",
      "2 22 22 543\n",
      "2 23 23 567\n",
      "2 24 24 809\n",
      "2 25 25 999\n"
     ]
    }
   ],
   "source": [
    "import requests #для отправки запроса и обработки json\n",
    "import json  #поребуется для сериализации json\n",
    "import time\n",
    "\n",
    "Token = \"1234b526251b9f8aa7eb0c0595913591749b3164d6874a04bce379a8a9050549fae7b6038c13a2bd9\" #подставьте свой токен\n",
    "groups = 38369814 #id vk.com/smmblog\n",
    "\n",
    "\n",
    "sex = [1,2]\n",
    "\n",
    "for sex in sex:\n",
    "    age_from = [20,21,22,23,24,25] #переместили в цикл\n",
    "    for age_from in age_from: #будет подставляться сначала 20,21,22 и тд.\n",
    "        age_to = age_from #лет \"от\" = лет \"до\" 20=20 и тд.\n",
    "        #Формируем запрос\n",
    "        r = requests.get('https://api.vk.com/method/ads.getTargetingStats',\n",
    "                             params={'account_id':1600169068, #id рекламного аккаунта https://vk.com/ads?act=settings\n",
    "                                    'criteria':json.dumps({'sex':sex, #подставляем 1 или 2 (Ж-1 или М-2 или Все-0)\n",
    "                                                            'age_from':age_from, #возраст \"от\" - заменили\n",
    "                                                            'age_to':age_to, #возраст \"до\" - заменили\n",
    "                                                            'groups':groups\n",
    "                                                           }),\n",
    "                                     #'ad_id':23301483,\n",
    "                                     'ad_format':1, #может влиять на стоимость cpc и cpm\n",
    "                                      'link_url':'http://yoursite.cоm',\n",
    "                                      'link_domain':'http://yoursite.cоm',\n",
    "                                     'v':'5.52',\n",
    "                                     'access_token':Token})\n",
    "        \n",
    "        response = r.json()\n",
    "        audience_count = response['response']['audience_count']\n",
    "        \n",
    "\n",
    "        print (sex, age_from, age_to, audience_count)\n",
    "        time.sleep(2)"
   ]
  },
  {
   "cell_type": "markdown",
   "metadata": {},
   "source": [
    "Так, теперь нам бы это записать в csv, чтобы руками не копировать\n",
    "\n",
    "## Шаг 7: записываем полученные данные в csv\n",
    "Этому мы научились в 6 уроке"
   ]
  },
  {
   "cell_type": "code",
   "execution_count": 19,
   "metadata": {
    "collapsed": false
   },
   "outputs": [
    {
     "name": "stdout",
     "output_type": "stream",
     "text": [
      "1 20 20 200\n",
      "1 21 21 315\n",
      "1 22 22 421\n",
      "1 23 23 534\n",
      "1 24 24 628\n",
      "1 25 25 699\n",
      "2 20 20 373\n",
      "2 21 21 450\n",
      "2 22 22 543\n",
      "2 23 23 567\n",
      "2 24 24 809\n",
      "2 25 25 999\n"
     ]
    }
   ],
   "source": [
    "import requests #для отправки запроса и обработки json\n",
    "import json  #поребуется для сериализации json\n",
    "import time\n",
    "import csv\n",
    "\n",
    "Token = \"123426251b9f8aa7eb0c0595913591749b3164d6874a04bce379a8a9050549fae7b6038c13a2bd9\" #подставьте свой токен\n",
    "groups = 38369814 #id vk.com/smmblog\n",
    "\n",
    "\n",
    "sex = [1,2]\n",
    "\n",
    "for sex in sex:\n",
    "    age_from = [20,21,22,23,24,25] #переместили в цикл\n",
    "    for age_from in age_from: #будет подставляться сначала 20,21,22 и тд.\n",
    "        age_to = age_from #лет \"от\" = лет \"до\" 20=20 и тд.\n",
    "        #Формируем запрос\n",
    "        r = requests.get('https://api.vk.com/method/ads.getTargetingStats',\n",
    "                             params={'account_id':1600169068, #id рекламного аккаунта https://vk.com/ads?act=settings\n",
    "                                    'criteria':json.dumps({'sex':sex, #подставляем 1 или 2 (Ж-1 или М-2 или Все-0)\n",
    "                                                            'age_from':age_from, #возраст \"от\" - заменили\n",
    "                                                            'age_to':age_to, #возраст \"до\" - заменили\n",
    "                                                            'groups':groups\n",
    "                                                           }),\n",
    "                                     #'ad_id':23301483,\n",
    "                                     'ad_format':1, #может влиять на стоимость cpc и cpm\n",
    "                                      'link_url':'http://yoursite.cоm',\n",
    "                                      'link_domain':'http://yoursite.cоm',\n",
    "                                     'v':'5.52',\n",
    "                                     'access_token':Token})\n",
    "        \n",
    "        response = r.json()\n",
    "        audience_count = response['response']['audience_count']\n",
    "        #записываем данные в csv\n",
    "        with open('groups_analytics.csv', 'a', newline='') as csvfile:\n",
    "            datawriter = csv.writer(csvfile, delimiter=',',\n",
    "                                quotechar='|', quoting=csv.QUOTE_MINIMAL)\n",
    "            datawriter.writerow([groups]+[sex]+[age_from]+[age_to]+[audience_count])\n",
    "        \n",
    "        #на всякий случай выводим на экран, чтобы видеть что всё ок.\n",
    "        print (sex, age_from, age_to, audience_count)\n",
    "        time.sleep(2)"
   ]
  },
  {
   "cell_type": "markdown",
   "metadata": {},
   "source": [
    "В csv данные мы успешно записали. Об этом говорит наличие файла в папке\n",
    "![alt](https://api.monosnap.com/rpc/file/download?id=XDKSRuhWSHQxPR4gyfeSUZXXqLwvAV)\n",
    "\n",
    "Что внутри?\n",
    "![alt](https://api.monosnap.com/rpc/file/download?id=TNE6pn6HvAFLSNL3DKi0w23t8NvEjK)\n",
    "\n",
    "Колонки:\n",
    "1. - это ID сообщества (мало ли будем сразу несколько анализировать)\n",
    "2. - пол\n",
    "3. - возраст от\n",
    "4. - возраст до\n",
    "5. - размер аудитории \n",
    "\n",
    "Конечно, мы можем руками доработать таблица до более читаемого вида\n",
    "![alt](https://api.monosnap.com/rpc/file/download?id=RfKgOw9041EOGCUUnvJ3D9fjloDUqo)\n",
    "\n",
    "\n",
    "\n"
   ]
  },
  {
   "cell_type": "markdown",
   "metadata": {},
   "source": [
    "По этим данным мы уже без проблем можем строить графики, диаграмы и проводить анализ. В Экселе это удобнее делать, чем в OpenOffice, поэтому сохраняю в эксель-формат и работаю в нём.\n",
    "\n",
    "После некоторых манипуляций с графиками получил следующее:\n",
    "![alt](https://api.monosnap.com/rpc/file/download?id=QYSIXY4UDOy2eShcr0OrbaZp7IyyNr)\n",
    "\n"
   ]
  },
  {
   "cell_type": "markdown",
   "metadata": {},
   "source": [
    "Так как с единицами и двойками сложно работать, то давайте заменим 1 на \"Ж\", а 2 на \"М\" (ctrl+h в экселе, предварительно выделив диапазон для замены)\n",
    "![alt](https://api.monosnap.com/rpc/file/download?id=R4C8tQT0f7n2WgzKkfezFpX42Sue3w)\n",
    "\n"
   ]
  },
  {
   "cell_type": "markdown",
   "metadata": {},
   "source": [
    "В итоге получаем\n",
    "![alt](https://api.monosnap.com/rpc/file/download?id=azqcE7jQtbQ2CNc49HrJszZnSAp2yu)"
   ]
  },
  {
   "cell_type": "markdown",
   "metadata": {},
   "source": [
    "Картина конечно неполная, так как возраст всего от 20 до 25, но уже можно пару слов сказать и сделать выводы, какая дополнительная информация нужна:\n",
    "* чем взрослее аудитория (от 20 до 25) тем больше её в сообществе, что говорит о зрелости сообщества\n",
    "* М-аудитория(20-25) = 3741 - две трети от этого составляет м-25 (999) + м-24 (809)\n",
    "* Ж-аудитория(20-25) = 2797\n",
    "* М/Ж-аудитория растёт вместе с ростом возраста \n",
    "![alt](https://api.monosnap.com/rpc/file/download?id=epcEhkC5h19cQgbmAOe1atVP2xP974)<br>\n",
    "![alt](https://api.monosnap.com/rpc/file/download?id=MHAfU3FltmULwnWBIJtFviQjosAp5f)<br>\n",
    "\n"
   ]
  },
  {
   "cell_type": "markdown",
   "metadata": {},
   "source": [
    "Чего не хватает? Наверное отношение к общему количеству участников, чтобы иметь представление о размере той или иной половозрастной группы в рамках сообщества. \n",
    "\n",
    "Сейчас у меня в сообществе 26 989 пользователей (14 мая 2016). Нужно создать новый столбец в Экселе и вписать в него формулу \"=(**аудитория-половозрастной**-**группы/аудитория сообщества**)\\*100\" - \n",
    "![alt](https://api.monosnap.com/rpc/file/download?id=nnqVvNqcRiJyduul1NP1oeFkrZUQ9F)\n",
    "\n",
    "Помните!!! Количество аудитории, получаемое через рекламное API меньше, чем реально.\n",
    "\n",
    "Вот какие данные отдаёт если запросить: любой пол и возраст \"от 0 до 99\"\n",
    "```python\n",
    "{'response': {'audience_count': 23674,\n",
    "  'recommended_cpc': '40.34',\n",
    "  'recommended_cpm': '11.73'}}\n",
    "```\n",
    "\n",
    "Поэтому какое значение подставлять для расчёта размера сегмента выбирать вам. Я записал оба (мало ли)\n"
   ]
  },
  {
   "cell_type": "markdown",
   "metadata": {},
   "source": [
    "![alt](https://api.monosnap.com/rpc/file/download?id=riKrMw9lgQpKol9j8ehcNFrvpU4cOT)\n"
   ]
  },
  {
   "cell_type": "markdown",
   "metadata": {},
   "source": []
  },
  {
   "cell_type": "code",
   "execution_count": 25,
   "metadata": {
    "collapsed": false,
    "scrolled": true
   },
   "outputs": [
    {
     "name": "stdout",
     "output_type": "stream",
     "text": [
      "2 0 0 13916\n",
      "2 1 1 0\n",
      "2 2 2 0\n",
      "2 3 3 0\n",
      "2 4 4 0\n",
      "2 5 5 0\n",
      "2 6 6 0\n",
      "2 7 7 0\n",
      "2 8 8 0\n",
      "2 9 9 0\n",
      "2 10 10 0\n",
      "2 11 11 0\n",
      "2 12 12 0\n",
      "2 13 13 27\n",
      "2 14 14 75\n",
      "2 15 15 117\n",
      "2 16 16 131\n",
      "2 17 17 140\n",
      "2 18 18 178\n",
      "2 19 19 237\n",
      "2 20 20 372\n",
      "2 21 21 444\n",
      "2 22 22 544\n",
      "2 23 23 566\n",
      "2 24 24 807\n",
      "2 25 25 1002\n",
      "2 26 26 970\n",
      "2 27 27 1005\n",
      "2 28 28 933\n",
      "2 29 29 801\n",
      "2 30 30 663\n",
      "2 31 31 556\n",
      "2 32 32 407\n",
      "2 33 33 334\n",
      "2 34 34 254\n",
      "2 35 35 213\n",
      "2 36 36 219\n",
      "2 37 37 120\n",
      "2 38 38 120\n",
      "2 39 39 86\n",
      "2 40 40 91\n",
      "2 41 41 78\n",
      "2 42 42 59\n",
      "2 43 43 49\n",
      "2 44 44 52\n",
      "2 45 45 50\n",
      "2 46 46 35\n",
      "2 47 47 32\n",
      "2 48 48 21\n",
      "2 49 49 23\n",
      "2 50 50 22\n",
      "2 51 51 25\n",
      "2 52 52 10\n",
      "2 53 53 11\n",
      "2 54 54 10\n",
      "2 55 55 10\n",
      "2 56 56 13\n",
      "2 57 57 4\n",
      "2 58 58 8\n",
      "2 59 59 8\n",
      "2 60 60 6\n",
      "2 61 61 5\n",
      "2 62 62 4\n",
      "2 63 63 1\n",
      "2 64 64 4\n",
      "2 65 65 3\n",
      "2 66 66 7\n",
      "2 67 67 1\n",
      "2 68 68 2\n",
      "2 69 69 4\n",
      "2 70 70 7\n",
      "2 71 71 5\n",
      "2 72 72 1\n",
      "2 73 73 2\n",
      "2 74 74 2\n",
      "2 75 75 3\n",
      "2 76 76 4\n",
      "2 77 77 1\n",
      "2 78 78 1\n",
      "2 79 79 2\n",
      "2 80 80 1\n",
      "2 81 81 2\n",
      "2 82 82 4\n",
      "2 83 83 0\n",
      "2 84 84 1\n",
      "2 85 85 0\n",
      "2 86 86 2\n",
      "2 87 87 1\n",
      "2 88 88 3\n",
      "2 89 89 2\n",
      "2 90 90 2\n",
      "2 91 91 3\n",
      "2 92 92 5\n",
      "2 93 93 3\n",
      "2 94 94 5\n",
      "2 95 95 14\n",
      "2 96 96 20\n",
      "2 97 97 3\n",
      "2 98 98 8\n",
      "2 99 99 4\n"
     ]
    }
   ],
   "source": [
    "import requests #для отправки запроса и обработки json\n",
    "import json  #поребуется для сериализации json\n",
    "import time\n",
    "import csv\n",
    "\n",
    "Token = \"31234526251b9f8aa7eb0c0595913591749b3164d6874a04bce379a8a9050549fae7b6038c13a2bd9\" #подставьте свой токен\n",
    "groups = 38369814 #id vk.com/smmblog\n",
    "\n",
    "\n",
    "for sex in range(1,3): #пройдёт по значениям 1 и 2 (3 не включительно!!!)\n",
    "    for age_from in range(100): #будет подставляться сначала 0,1,2,3 и тд.\n",
    "        age_to = age_from #лет \"от\" = лет \"до\" 20=20 и тд.\n",
    "        #Формируем запрос\n",
    "        r = requests.get('https://api.vk.com/method/ads.getTargetingStats',\n",
    "                             params={'account_id':1600169068, #id рекламного аккаунта https://vk.com/ads?act=settings\n",
    "                                    'criteria':json.dumps({'sex':sex, #подставляем 1 или 2 (Ж-1 или М-2 или Все-0)\n",
    "                                                            'age_from':age_from, #возраст \"от\" - заменили\n",
    "                                                            'age_to':age_to, #возраст \"до\" - заменили\n",
    "                                                            'groups':groups\n",
    "                                                           }),\n",
    "                                     #'ad_id':23301483,\n",
    "                                     'ad_format':1, #может влиять на стоимость cpc и cpm\n",
    "                                      'link_url':'http://yoursite.cоm',\n",
    "                                      'link_domain':'http://yoursite.cоm',\n",
    "                                     'v':'5.52',\n",
    "                                     'access_token':Token})\n",
    "        \n",
    "        response = r.json()\n",
    "        audience_count = response['response']['audience_count']\n",
    "        #записываем данные в csv\n",
    "        with open('groups_analytics.csv', 'a', newline='') as csvfile:\n",
    "            datawriter = csv.writer(csvfile, delimiter=',',\n",
    "                                quotechar='|', quoting=csv.QUOTE_MINIMAL)\n",
    "            datawriter.writerow([groups]+[sex]+[age_from]+[age_to]+[audience_count])\n",
    "        \n",
    "        #на всякий случай выводим на экран, чтобы видеть что всё ок.\n",
    "        print (sex, age_from, age_to, audience_count)\n",
    "        time.sleep(2)"
   ]
  },
  {
   "cell_type": "markdown",
   "metadata": {},
   "source": [
    "Если собрать данные для всех возрастов, то получим в итоге такой график\n",
    "![alt](https://api.monosnap.com/rpc/file/download?id=xtFM2gH1uO7jjh2rZsATMp6bjjjYoj)\n",
    "\n",
    "Интерактивный график вы можете посмотреть здесь (Google Docs): https://docs.google.com/spreadsheets/d/1g9HUQKYyZ2tdadh8KX8ZDzRO_cq14o9KUCEMMYxoGWw/pubchart?oid=48159470&format=interactive\n",
    "\n",
    "Удалил строки где значения были нулевыми либо близкими к нулю. В итоге получилось от 13 до 55 лет.\n",
    "\n",
    "Давайте попробуем собрать данные для группы возраста с 13 до 55 с шагом 3 (13-16, 16-19 и тд). Для этого в цикле **for** укажем от какого числа считать, до какого и с каким шагом для переменной **age_from**... \n",
    "```python\n",
    "for age_from in range(от, до, шаг)\n",
    "```\n",
    ">**Теория** - про циклы http://pythonworld.ru/osnovy/cikly-for-i-while-operatory-break-i-continue-volshebnoe-slovo-else.html\n",
    "\n",
    "а переменная **age_to** будет равна \"возрасту от + 3 года\"\n",
    "```python\n",
    "age_to = age_from + 3\n",
    "```"
   ]
  },
  {
   "cell_type": "code",
   "execution_count": 28,
   "metadata": {
    "collapsed": false,
    "scrolled": true
   },
   "outputs": [
    {
     "name": "stdout",
     "output_type": "stream",
     "text": [
      "1 13 16 296\n",
      "1 16 19 423\n",
      "1 19 22 1149\n",
      "1 22 25 2457\n",
      "1 25 28 3095\n",
      "1 28 31 2511\n",
      "1 31 34 1485\n",
      "1 34 37 840\n",
      "1 37 40 456\n",
      "1 40 43 278\n",
      "1 43 46 196\n",
      "1 46 49 132\n",
      "1 49 52 88\n",
      "1 52 55 87\n",
      "1 55 58 52\n",
      "2 13 16 373\n",
      "2 16 19 737\n",
      "2 19 22 1719\n",
      "2 22 25 3098\n",
      "2 25 28 4180\n",
      "2 28 31 3147\n",
      "2 31 34 1647\n",
      "2 34 37 865\n",
      "2 37 40 440\n",
      "2 40 43 294\n",
      "2 43 46 202\n",
      "2 46 49 121\n",
      "2 49 52 86\n",
      "2 52 55 45\n",
      "2 55 58 36\n"
     ]
    }
   ],
   "source": [
    "import requests #для отправки запроса и обработки json\n",
    "import json  #поребуется для сериализации json\n",
    "import time\n",
    "import csv\n",
    "\n",
    "Token = \"31234526251b9f8aa7eb0c0595913591749b3164d6874a04bce379a8a9050549fae7b6038c13a2bd9\" #подставьте свой токен\n",
    "groups = 38369814 #id vk.com/smmblog\n",
    "\n",
    "\n",
    "for sex in range(1,3):\n",
    "    for age_from in range(13,56,3): #будет подставляться сначала 13,16,18 и тд.\n",
    "        age_to = age_from + 3 #лет \"от\" = лет \"до\" 13+3, 16+3 и тд.\n",
    "        #Формируем запрос\n",
    "        r = requests.get('https://api.vk.com/method/ads.getTargetingStats',\n",
    "                             params={'account_id':1600169068, #id рекламного аккаунта https://vk.com/ads?act=settings\n",
    "                                    'criteria':json.dumps({'sex':sex, #подставляем 1 или 2 (Ж-1 или М-2 или Все-0)\n",
    "                                                            'age_from':age_from, #возраст \"от\" - заменили\n",
    "                                                            'age_to':age_to, #возраст \"до\" - заменили\n",
    "                                                            'groups':groups\n",
    "                                                           }),\n",
    "                                     #'ad_id':23301483,\n",
    "                                     'ad_format':1, #может влиять на стоимость cpc и cpm\n",
    "                                      'link_url':'http://yoursite.cоm',\n",
    "                                      'link_domain':'http://yoursite.cоm',\n",
    "                                     'v':'5.52',\n",
    "                                     'access_token':Token})\n",
    "        \n",
    "        response = r.json()\n",
    "        audience_count = response['response']['audience_count']\n",
    "        #записываем данные в csv\n",
    "        with open('groups_analytics.csv', 'a', newline='') as csvfile:\n",
    "            datawriter = csv.writer(csvfile, delimiter=',',\n",
    "                                quotechar='|', quoting=csv.QUOTE_MINIMAL)\n",
    "            datawriter.writerow([groups]+[sex]+[age_from]+[age_to]+[audience_count])\n",
    "        \n",
    "        #на всякий случай выводим на экран, чтобы видеть что всё ок.\n",
    "        print (sex, age_from, age_to, audience_count)\n",
    "        time.sleep(2)"
   ]
  },
  {
   "cell_type": "markdown",
   "metadata": {},
   "source": [
    "Обработав данные в экселе, можем построить нормированную линейчатую диаграмму с накоплением\n",
    "![alt](https://api.monosnap.com/rpc/file/download?id=447DAFpYJ2eAPpd7mFxvNRMBXaR8t1)\n",
    "\n",
    "\n",
    "\n"
   ]
  },
  {
   "cell_type": "markdown",
   "metadata": {},
   "source": [
    "Сравнивая одинаковые группы возрастов видно, что мужская аудитория чаще всего занимает больше 50%. Чем старше становится аудитория, тем меньше разница между мужской и женской аудиторией.\n",
    "\n",
    "Незначительный перевес женской аудитории перед мужской есть в группе возрастов **37-40**. Потом женская аудитория занимает больше 50% с возрастной группы **46-49**.\n",
    "\n",
    "Давайте сравним это с тем, что нам отдаёт статистика группы по \"уникам\" и по \"Охвату\" по половозрастным группам (за всё время)\n",
    "![alt](https://api.monosnap.com/rpc/file/download?id=5ScqTz2xDmTrplEerIXFcNPZOosoQS)\n",
    "![alt](https://api.monosnap.com/rpc/file/download?id=fZjD3gIyTffs1YExoTRKxNwfg9qhEK)\n",
    "\n",
    "\n"
   ]
  },
  {
   "cell_type": "markdown",
   "metadata": {},
   "source": [
    "Так как у нас тут гистограмма без накопления, то такую же сделаем и в Экселе\n",
    "\n",
    "![alt](https://api.monosnap.com/rpc/file/download?id=mh73YBNjYaK69QkYS9YpCiR1I8bers)<br>\n",
    "\n",
    "Чтобы возрастные группы совпадали нужно начинать с 15\n",
    "\n",
    "```python\n",
    "for age_from range(15,55,3)\n",
    "```"
   ]
  },
  {
   "cell_type": "markdown",
   "metadata": {},
   "source": [
    "Строить выводы на основе полученых данных не для этого урока. Нам важно скорее сначала данные собрать по первичному заданию, а потому уже приступать к анализу и выводам.\n",
    "\n",
    "> **Обновление задания**\n",
    "Давайте теперь попробуем получить те же параметры ауитории, но только для жителей Москвы и Санкт-Петербурга."
   ]
  },
  {
   "cell_type": "markdown",
   "metadata": {},
   "source": [
    "## Шаг 8: еще один цикл и идентификаторы городов\n",
    "Обратимся снова к методу https://vk.com/dev/ads.getTargetingStats и ищем информацию о городах\n",
    "![alt](https://api.monosnap.com/rpc/file/download?id=8E9VOhksp9gEl9UtJlSvqqoMw1jcXE)<br>\n",
    "\n",
    "От нас требуют передачу списка городов в виде списка чисел. То же самое мы указывали для пола, где 0 - все, 1 - Ж, 2 - М. \n",
    "\n",
    "Где взять идентификаторы городов?\n",
    "Есть специальный набор методов Данные ВК - https://vk.com/dev/database, с помощью которых можно узнать ID нужных объектов (страна, город, регионы, список школ и тд)\n",
    "\n",
    "Нам нужен https://vk.com/dev/database.getCities, который возвращает список городов. Так как нам нужно узнать всего 2 ID (Москва , Санкт-Петербург), то будем запускать запрос прямо в ВК (снизу у каждого метода есть форма)\n",
    "![alt](https://api.monosnap.com/rpc/file/download?id=unwk56U9FcWDbtzwNaclYDzbokOF22)<br>\n",
    "\n"
   ]
  },
  {
   "cell_type": "markdown",
   "metadata": {},
   "source": [
    "* Москва = 1\n",
    "* Санкт-Петербург = 2\n",
    "\n",
    "Теперь нам нужно добавить еще один цикл for и записать данные аудитории в 2 новых столбца"
   ]
  },
  {
   "cell_type": "code",
   "execution_count": 30,
   "metadata": {
    "collapsed": false,
    "scrolled": true
   },
   "outputs": [
    {
     "name": "stdout",
     "output_type": "stream",
     "text": [
      "1 1 13 16 22\n",
      "1 2 13 16 11\n",
      "1 1 16 19 37\n",
      "1 2 16 19 34\n",
      "1 1 19 22 175\n",
      "1 2 19 22 170\n",
      "1 1 22 25 439\n",
      "1 2 22 25 353\n",
      "1 1 25 28 547\n",
      "1 2 25 28 476\n",
      "1 1 28 31 470\n",
      "1 2 28 31 384\n",
      "1 1 31 34 254\n",
      "1 2 31 34 237\n",
      "1 1 34 37 124\n",
      "1 2 34 37 145\n",
      "1 1 37 40 61\n",
      "1 2 37 40 76\n",
      "1 1 40 43 38\n",
      "1 2 40 43 36\n",
      "1 1 43 46 23\n",
      "1 2 43 46 31\n",
      "1 1 46 49 17\n",
      "1 2 46 49 12\n",
      "1 1 49 52 8\n",
      "1 2 49 52 18\n",
      "1 1 52 55 9\n",
      "1 2 52 55 11\n",
      "1 1 55 58 7\n",
      "1 2 55 58 3\n",
      "2 1 13 16 32\n",
      "2 2 13 16 21\n",
      "2 1 16 19 100\n",
      "2 2 16 19 40\n",
      "2 1 19 22 243\n",
      "2 2 19 22 138\n",
      "2 1 22 25 532\n",
      "2 2 22 25 287\n",
      "2 1 25 28 840\n",
      "2 2 25 28 493\n",
      "2 1 28 31 629\n",
      "2 2 28 31 428\n",
      "2 1 31 34 311\n",
      "2 2 31 34 250\n",
      "2 1 34 37 167\n",
      "2 2 34 37 119\n",
      "2 1 37 40 93\n",
      "2 2 37 40 53\n",
      "2 1 40 43 62\n",
      "2 2 40 43 26\n",
      "2 1 43 46 40\n",
      "2 2 43 46 19\n",
      "2 1 46 49 17\n",
      "2 2 46 49 18\n",
      "2 1 49 52 9\n",
      "2 2 49 52 15\n",
      "2 1 52 55 9\n",
      "2 2 52 55 7\n",
      "2 1 55 58 3\n",
      "2 2 55 58 5\n"
     ]
    }
   ],
   "source": [
    "import requests #для отправки запроса и обработки json\n",
    "import json  #поребуется для сериализации json\n",
    "import time\n",
    "import csv\n",
    "\n",
    "Token = \"123451b9f8aa7eb0c0595913591749b3164d6874a04bce379a8a9050549fae7b6038c13a2bd9\" #подставьте свой токен\n",
    "groups = 38369814 #id vk.com/smmblog\n",
    "\n",
    "\n",
    "for sex in range(1,3):\n",
    "    for age_from in range(13,56,3): #будет подставляться сначала 13,16,18 и тд.\n",
    "        age_to = age_from + 3 #лет \"от\" = лет \"до\" 13+3, 16+3 и тд.\n",
    "        cities = [1,2] #1 - Москва, 2 - Санкт-Петербург\n",
    "        for cities in cities:\n",
    "            #Формируем запрос\n",
    "            r = requests.get('https://api.vk.com/method/ads.getTargetingStats',\n",
    "                                 params={'account_id':1600169068, #id рекламного аккаунта https://vk.com/ads?act=settings\n",
    "                                        'criteria':json.dumps({'sex':sex, #подставляем 1 или 2 (Ж-1 или М-2 или Все-0)\n",
    "                                                                'age_from':age_from, #возраст \"от\" - заменили\n",
    "                                                                'age_to':age_to, #возраст \"до\" - заменили\n",
    "                                                                'groups':groups,\n",
    "                                                                'cities':cities\n",
    "                                                               }),\n",
    "                                         #'ad_id':23301483,\n",
    "                                         'ad_format':1, #может влиять на стоимость cpc и cpm\n",
    "                                          'link_url':'http://yoursite.cоm',\n",
    "                                          'link_domain':'http://yoursite.cоm',\n",
    "                                         'v':'5.52',\n",
    "                                         'access_token':Token})\n",
    "\n",
    "            response = r.json()\n",
    "            audience_count = response['response']['audience_count']\n",
    "            #записываем данные в csv\n",
    "            with open('groups_analytics.csv', 'a', newline='') as csvfile:\n",
    "                datawriter = csv.writer(csvfile, delimiter=',',\n",
    "                                    quotechar='|', quoting=csv.QUOTE_MINIMAL)\n",
    "                datawriter.writerow([groups]+[sex]+[cities]+[age_from]+[age_to]+[audience_count])\n",
    "\n",
    "            #на всякий случай выводим на экран, чтобы видеть что всё ок.\n",
    "            print (sex, cities, age_from, age_to, audience_count)\n",
    "            time.sleep(2)"
   ]
  },
  {
   "cell_type": "markdown",
   "metadata": {},
   "source": [
    "После небольшой обработки данных (сортировка по ID города) получилась следующая таблица.\n",
    "![alt](https://api.monosnap.com/rpc/file/download?id=Pp1Wc1DZrlCEgwxKdGY6bPVq4iy9Pg)<br>\n",
    "\n"
   ]
  },
  {
   "cell_type": "markdown",
   "metadata": {},
   "source": [
    "Так как я не особый мастер работы данными в Экселе, то буду переносить данные в новые столбцы с добавлением форматирования. На выходе получили такую компактную таблицу\n",
    "![alt](https://api.monosnap.com/rpc/file/download?id=HXgPOwJDZQxqChEDy8JrpqYgzoUDio)<br>\n",
    "\n",
    "Если добавить условного форматирования для каждого столбца. В моём примере будет отмечаться от наименьшего (зеленым) до наибольшего (красным) по каждому столбцы\n",
    "![alt](https://api.monosnap.com/rpc/file/download?id=5uYOQNOhysqp90gYbNSarsnZPPiK6J)\n",
    "\n",
    "\n",
    "В итоге у нас такая вот разноцветная таблица, которую визуально уже проще анализировать\n",
    "![alt](https://api.monosnap.com/rpc/file/download?id=rBXyJjKdX6y1QcauwRcOAekwYDAbnN)\n",
    "\n",
    "Легко увидеть какая возрастная группа составляет наибольшую аудитория по каждому полу и городу - **25-28**.\n",
    "![alt](https://api.monosnap.com/rpc/file/download?id=NoRMY4G9ju6MFaRdHDP36FxPHidiy6)\n",
    "\n",
    "Попытался построить графики по каждому полу\n",
    "![alt](https://api.monosnap.com/rpc/file/download?id=HoFXgiMyEcmMjjGjf7UY4GCu3CWlne)\n",
    "\n",
    "Разница между количетвом московской и питерской женской аудитории меньше, чем мужская. По некоторым возрастным группам она составляет почти 2 раза.\n",
    "\n"
   ]
  },
  {
   "cell_type": "markdown",
   "metadata": {},
   "source": [
    "## Логика кода\n",
    "\n",
    "Надеюсь, вы примерно поняли как нужно формировать запрос и как формировать циклы, чтобы получить необходимые данные для анализа\n",
    "\n",
    "1. Определяем по каким параметрам мы хотим перебирать: пол, возраст, город\n",
    "2. Сколько параметров перебора будет, столько должно быть циклов for\n",
    "3. Параметры мы записыем тут\n",
    "```python\n",
    "'criteria':json.dumps({'sex':sex, #(Ж-1 или М-2 или Все-0)\n",
    "                        'age_from':age_from, #возраст \"от\" - заменили\n",
    "                        'age_to':age_to, #возраст \"до\" - заменили\n",
    "                        'groups':groups,\n",
    "                        'cities':cities,\n",
    "                        'параметр':'какое-то значение' #переменная, значение (целое число, 'строка', дробное число)\n",
    "                       }\n",
    "```\n",
    "\n",
    "4. Не забываем писать в CSV новые столбцы при переборе (см. пример для города)\n"
   ]
  },
  {
   "cell_type": "markdown",
   "metadata": {},
   "source": [
    "## Анализ аудитории ретаргетинга\n",
    "\n",
    "Примера анализа аудитории сайта (http://freesmm.ru), на котором установлен код ретаргетинга. Это может быть и не аудитория сайта, а загруженный вами список ID в ретаргетинг.\n",
    "![alt](https://api.monosnap.com/rpc/file/download?id=obqbFhc7dUGf9netL2inGDIFu5joIk)<br>\n",
    "\n",
    "Перебор будем делать только по группе возрастов, полу - 2 параметра = 2 цикла. Также потребуется передать дополнительный параметр\\критерий **retargeting_groups**\n",
    "![alt](https://api.monosnap.com/rpc/file/download?id=EYkPPqwkUlsoeZiTKBACYe820Wcnkn)\n",
    "\n",
    "Чтобы получить список ID кодов ретаргетинга воспользуемся этим методом https://vk.com/dev/ads.getTargetGroups прямо из интерфейса (как и для городов)\n",
    "![alt](https://api.monosnap.com/rpc/file/download?id=QRUwFQXGu8LA8A01wgzH5K6nIKQHeY)\n"
   ]
  },
  {
   "cell_type": "code",
   "execution_count": 31,
   "metadata": {
    "collapsed": false,
    "scrolled": true
   },
   "outputs": [
    {
     "name": "stdout",
     "output_type": "stream",
     "text": [
      "1 2 15 18 8972\n",
      "1 2 18 21 13169\n",
      "1 2 21 24 18812\n",
      "1 2 24 27 22403\n",
      "1 2 27 30 19784\n",
      "1 2 30 33 12296\n",
      "1 2 33 36 6574\n",
      "1 2 36 39 3548\n",
      "1 2 39 42 2032\n",
      "1 2 42 45 1282\n",
      "1 2 45 48 918\n",
      "1 2 48 51 632\n",
      "1 2 51 54 510\n",
      "1 2 54 57 428\n",
      "2 2 15 18 12908\n",
      "2 2 18 21 22657\n",
      "2 2 21 24 27618\n",
      "2 2 24 27 31165\n",
      "2 2 27 30 25357\n",
      "2 2 30 33 14993\n",
      "2 2 33 36 8423\n",
      "2 2 36 39 4793\n",
      "2 2 39 42 2676\n",
      "2 2 42 45 1668\n",
      "2 2 45 48 1095\n",
      "2 2 48 51 664\n",
      "2 2 51 54 502\n",
      "2 2 54 57 416\n"
     ]
    }
   ],
   "source": [
    "import requests #для отправки запроса и обработки json\n",
    "import json  #поребуется для сериализации json\n",
    "import time\n",
    "import csv\n",
    "\n",
    "Token = \"1234b526251b9f8aa7eb0c0595913591749b3164d6874a04bce379a8a9050549fae7b6038c13a2bd9\" #подставьте свой токен\n",
    "\n",
    "for sex in range(1,3):\n",
    "    for age_from in range(15,56,3): #будет подставляться сначала 13,16,18 и тд.\n",
    "        age_to = age_from + 3 #лет \"от\" = лет \"до\" 13+3, 16+3 и тд.\n",
    "\n",
    "        #Формируем запрос\n",
    "        r = requests.get('https://api.vk.com/method/ads.getTargetingStats',\n",
    "                             params={'account_id':1600169068, #id рекламного аккаунта https://vk.com/ads?act=settings\n",
    "                                    'criteria':json.dumps({'sex':sex, #подставляем 1 или 2 (Ж-1 или М-2 или Все-0)\n",
    "                                                            'age_from':age_from, #возраст \"от\" - заменили\n",
    "                                                            'age_to':age_to, #возраст \"до\" - заменили\n",
    "                                                            'retargeting_groups':159794 #id кода ретаргетинга на сайте\n",
    "                                                           }),\n",
    "                                     #'ad_id':23301483,\n",
    "                                     'ad_format':1, #может влиять на стоимость cpc и cpm\n",
    "                                      'link_url':'http://yoursite.cоm',\n",
    "                                      'link_domain':'http://yoursite.cоm',\n",
    "                                     'v':'5.52',\n",
    "                                     'access_token':Token})\n",
    "\n",
    "        response = r.json()\n",
    "        audience_count = response['response']['audience_count']\n",
    "        #записываем данные в csv\n",
    "        with open('site_analytics.csv', 'a', newline='') as csvfile:\n",
    "            datawriter = csv.writer(csvfile, delimiter=',',\n",
    "                                quotechar='|', quoting=csv.QUOTE_MINIMAL)\n",
    "            datawriter.writerow([sex]+[age_from]+[age_to]+[audience_count])\n",
    "\n",
    "        #на всякий случай выводим на экран, чтобы видеть что всё ок.\n",
    "        print (sex, cities, age_from, age_to, audience_count)\n",
    "        time.sleep(2)"
   ]
  },
  {
   "cell_type": "markdown",
   "metadata": {},
   "source": [
    "В итоге получилось следующее\n",
    "![alt](https://api.monosnap.com/rpc/file/download?id=FdFXicUSPvVaIsSiGxGTLMHofdX2uw)<br>\n",
    "\n",
    "Тут анализировался код, который установлен аж с прошлого года, поэтому эти данные нам особо ничего не скажут. Если хотите делать какие-то выводы, то вам нужно устанавливать на сайт код ретаргетинга, который будет удалять аудиторию спустя какое-то время\n",
    "![alt](https://api.monosnap.com/rpc/file/download?id=8LpM0WWKQLGXuattPBTnt0aArp4jKt)<br>\n",
    "\n",
    "и потом регулярно (раз в неделю\\месяц\\6 месяцев) запускать скрипт анализа аудитории по необходимым параметрам. Эти данные будет интереснее анализировать, так как у вас будет представление о каждому периоде + если будете вести учёт событий (публикация поста\\реклама в директе и тд), то анализ данных может привести к интересным выводам.\n"
   ]
  },
  {
   "cell_type": "markdown",
   "metadata": {},
   "source": [
    "# Итоги 7 урока\n",
    "\n",
    "**Python-часть**\n",
    "1. Разобрали как сделать сериализованный json\n",
    "2. Научились запускать много циклов\n",
    "\n",
    "**Аналитика**\n",
    "1. Разобрали как можно проанализировать сообщество, список сообществ, аудиторию ретаргетинга по множеству параметров, которые предоставляет рекламное API\n",
    "2. Как можно обработать данные в экселе\n",
    "3. Как можно анализировать аудиторию сайта \n",
    "\n",
    "## Домашнее задание\n",
    "1. Получить токен для работы с рекламным API. Если не знаете как, то 6 урок вам в помощь **иначе на запустятся примеры из этого урока**\n",
    "2. Проанализировать 2 сообщества с близкой тематикой по полу, возрасту\n",
    "3. Проанализировать аудиторию группы ретаргетинга (загрузка по ID, сайта) по полу, возрасту и устройствам (iphone, androide и тд) - https://vk.com/dev/ads.getSuggestions?params[section]=user_devices&params[ids]=0&params[v]=5.52\n",
    "\n",
    "Ответы и вопросы по домашке публикуйте здесь - https://vk.com/topic-38369814_33529150\n",
    "\n",
    "**используйте поле ниже для решения самостоятельных задач**"
   ]
  },
  {
   "cell_type": "code",
   "execution_count": null,
   "metadata": {
    "collapsed": true
   },
   "outputs": [],
   "source": []
  },
  {
   "cell_type": "markdown",
   "metadata": {
    "collapsed": true
   },
   "source": [
    "-----\n",
    "\n",
    "Далее: [Урок 8: Как открыть\\закрыть стену ВКонтакте по таймеру](/notebooks/lesson%208%20-%20Open%20Close%20comments%20VKontakte%20timer.ipynb)"
   ]
  }
 ],
 "metadata": {
  "kernelspec": {
   "display_name": "Python 3",
   "language": "python",
   "name": "python3"
  },
  "language_info": {
   "codemirror_mode": {
    "name": "ipython",
    "version": 3
   },
   "file_extension": ".py",
   "mimetype": "text/x-python",
   "name": "python",
   "nbconvert_exporter": "python",
   "pygments_lexer": "ipython3",
   "version": "3.5.2"
  }
 },
 "nbformat": 4,
 "nbformat_minor": 0
}

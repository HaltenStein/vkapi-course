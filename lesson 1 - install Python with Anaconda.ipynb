{
 "cells": [
  {
   "cell_type": "markdown",
   "metadata": {},
   "source": [
    "**Автор:** Сергей Шмаков\n",
    "\n",
    "**Обновление этого документа** и не только публикуется на канале в Телеграм - https://telegram.me/smm_python\n",
    "\n",
    "Другие мои площадки:\n",
    "* ВКонтакте - https://vk.com/smmblog\n",
    "* Youtube - https://youtube.com/smmblog\n",
    "* Блог - http://freesmm.ru"
   ]
  },
  {
   "cell_type": "markdown",
   "metadata": {},
   "source": [
    "# Урок 1: Установка Python"
   ]
  },
  {
   "cell_type": "markdown",
   "metadata": {},
   "source": [
    "**запустите код ниже**"
   ]
  },
  {
   "cell_type": "code",
   "execution_count": 1,
   "metadata": {
    "collapsed": false
   },
   "outputs": [
    {
     "data": {
      "text/html": [
       "\n",
       "        <iframe\n",
       "            width=\"400\"\n",
       "            height=\"300\"\n",
       "            src=\"https://www.youtube.com/embed/ijvHJRKg8WU\"\n",
       "            frameborder=\"0\"\n",
       "            allowfullscreen\n",
       "        ></iframe>\n",
       "        "
      ],
      "text/plain": [
       "<IPython.lib.display.YouTubeVideo at 0x7ebb816fd0>"
      ]
     },
     "execution_count": 1,
     "metadata": {},
     "output_type": "execute_result"
    }
   ],
   "source": [
    "from IPython.display import YouTubeVideo\n",
    "YouTubeVideo(\"ijvHJRKg8WU\")"
   ]
  },
  {
   "cell_type": "markdown",
   "metadata": {},
   "source": [
    "**Описание в блоге** - http://freesmm.ru/smm-help/api/vk-1/\n",
    "Как установить Python\n",
    "\n",
    "## Вариант 1 — не самый подходящий для нас\n",
    "\n",
    "Скачать с официального сайта — https://www.python.org/\n",
    "\n",
    "## Вариант 2 — тот что будем использовать\n",
    "\n",
    "Установить https://www.continuum.io/downloads\n",
    "\n",
    "Установка:\n",
    "\n",
    "1. Скачать версию для Python 3.5\n",
    "2. Установить\n",
    "3. После установки в панели программ у вас должен появиться Jupiter NoteBook, если нет, то нужно будет через Launcher установить\n",
    "4. Запустить Jupiter Notebook\n",
    "5. Создать новый Python-файл\n",
    "6. Написать код (на этом пока остановимся)\n",
    "\n",
    "![alt](https://api.monosnap.com/rpc/file/download?id=AbdPHQu5OE6Ju6B8wNyj2Cmh8d8CPo)\n",
    "\n",
    "\n",
    "## Вариант 3 — сложнее, но будет тоже востребован\n",
    "\n",
    "Установить PyCharm Community  — https://www.jetbrains.com/pycharm/download/#section=windows"
   ]
  },
  {
   "cell_type": "markdown",
   "metadata": {},
   "source": [
    "### Домашнее задание к 1 уроку\n",
    "> \n",
    "1. Установите Anaconda\n",
    "2. Запустите Jupiter NoteBook\n",
    "3. Создайте новый файл\n",
    "4. Вставьте код ниже и запуститье его\n",
    "```python\n",
    "first_name = \"Sergey\" #переменная, которой присвоено значение с типом данных \"Строка\"\n",
    "last_name = \"Shmakov\"\n",
    "print(first_name, last_name) #функция вывода на экран \n",
    "```\n",
    "\n",
    "Ответы и вопросы по домашке публикуйте здесь - https://vk.com/topic-38369814_33529150 "
   ]
  },
  {
   "cell_type": "code",
   "execution_count": 1,
   "metadata": {
    "collapsed": true
   },
   "outputs": [],
   "source": [
    "#сюда вы можете вставлять код"
   ]
  },
  {
   "cell_type": "markdown",
   "metadata": {},
   "source": [
    "-----\n",
    "\n",
    "Далее: [Урок 2: Как отправить запрос к ВКонтакте и получить ответ](/notebooks/lesson%202%20-%20first%20vk%20api%20script%20in%20Python.ipynb)"
   ]
  }
 ],
 "metadata": {
  "kernelspec": {
   "display_name": "Python 3",
   "language": "python",
   "name": "python3"
  },
  "language_info": {
   "codemirror_mode": {
    "name": "ipython",
    "version": 3
   },
   "file_extension": ".py",
   "mimetype": "text/x-python",
   "name": "python",
   "nbconvert_exporter": "python",
   "pygments_lexer": "ipython3",
   "version": "3.5.2"
  }
 },
 "nbformat": 4,
 "nbformat_minor": 0
}
